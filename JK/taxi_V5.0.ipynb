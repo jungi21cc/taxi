{
 "cells": [
  {
   "cell_type": "markdown",
   "metadata": {},
   "source": [
    "# Kaggle : New York City Taxi Trip Duration"
   ]
  },
  {
   "cell_type": "markdown",
   "metadata": {},
   "source": [
    "<img src=\"taxi.png\">"
   ]
  },
  {
   "cell_type": "markdown",
   "metadata": {},
   "source": [
    "# 1 EDA (Exploratory Data Analysis)"
   ]
  },
  {
   "cell_type": "markdown",
   "metadata": {},
   "source": [
    "# purpose of  EDA\n",
    "\n",
    "- Suggest hypotheses about the causes of observed phenomena\n",
    "- Assess assumptions on which statistical inference will be based\n",
    "- Support the selection of appropriate statistical tools and techniques\n",
    "- Provide a basis for further data collection through surveys or experiments"
   ]
  },
  {
   "cell_type": "markdown",
   "metadata": {},
   "source": [
    "# EDA methods\n",
    "- Graphical techniques used in EDA are:\n",
    "    - boxplot \n",
    "        - detailed feature (datetime by month, day of week, hours)\n",
    "    - historgram or barplot (distribution) # bin = range of value\n",
    "        - origin feature (pick lat,long, drop lat, long, duration, passenger count, flag)\n",
    "        - detailed feature (datetime by month, day of week, hours)\n",
    "    - scatter plot\n",
    "        - duration vs distance = to check odd data\n",
    "    - Parallel Coordinates vs Colormaps vs Andrews curves charts\n",
    "    - odd ratio????\n",
    "\n",
    "- Quantative methods:\n",
    "    - Trimean == tukey method?"
   ]
  },
  {
   "cell_type": "markdown",
   "metadata": {},
   "source": [
    "# 1.1 Understanding data "
   ]
  },
  {
   "cell_type": "code",
   "execution_count": 54,
   "metadata": {},
   "outputs": [],
   "source": [
    "from IPython.display import display\n",
    "import numpy as np\n",
    "import matplotlib.pyplot as plt\n",
    "import pandas as pd\n",
    "from math import sin, cos, sqrt, atan2, radians\n",
    "import seaborn as sns\n",
    "import lightgbm as lgb\n",
    "from sklearn.decomposition import PCA\n",
    "from sklearn.cluster import DBSCAN\n",
    "from sklearn.cluster import SpectralClustering\n",
    "from sklearn.cluster import MeanShift\n",
    "from sklearn.cluster import MiniBatchKMeans\n",
    "from sklearn.model_selection import train_test_split\n",
    "\n",
    "\n",
    "from sklearn import metrics\n",
    "from sklearn.preprocessing import StandardScaler\n",
    "from sklearn.preprocessing import Normalizer\n",
    "\n",
    "%matplotlib inline\n",
    "\n",
    "import warnings\n",
    "warnings.filterwarnings(\"ignore\")"
   ]
  },
  {
   "cell_type": "code",
   "execution_count": 2,
   "metadata": {},
   "outputs": [
    {
     "data": {
      "text/html": [
       "<div>\n",
       "<style scoped>\n",
       "    .dataframe tbody tr th:only-of-type {\n",
       "        vertical-align: middle;\n",
       "    }\n",
       "\n",
       "    .dataframe tbody tr th {\n",
       "        vertical-align: top;\n",
       "    }\n",
       "\n",
       "    .dataframe thead th {\n",
       "        text-align: right;\n",
       "    }\n",
       "</style>\n",
       "<table border=\"1\" class=\"dataframe\">\n",
       "  <thead>\n",
       "    <tr style=\"text-align: right;\">\n",
       "      <th></th>\n",
       "      <th>id</th>\n",
       "      <th>vendor_id</th>\n",
       "      <th>pickup_datetime</th>\n",
       "      <th>dropoff_datetime</th>\n",
       "      <th>passenger_count</th>\n",
       "      <th>pickup_longitude</th>\n",
       "      <th>pickup_latitude</th>\n",
       "      <th>dropoff_longitude</th>\n",
       "      <th>dropoff_latitude</th>\n",
       "      <th>store_and_fwd_flag</th>\n",
       "      <th>trip_duration</th>\n",
       "    </tr>\n",
       "  </thead>\n",
       "  <tbody>\n",
       "    <tr>\n",
       "      <th>0</th>\n",
       "      <td>id2875421</td>\n",
       "      <td>2</td>\n",
       "      <td>2016-03-14 17:24:55</td>\n",
       "      <td>2016-03-14 17:32:30</td>\n",
       "      <td>1</td>\n",
       "      <td>-73.982155</td>\n",
       "      <td>40.767937</td>\n",
       "      <td>-73.964630</td>\n",
       "      <td>40.765602</td>\n",
       "      <td>N</td>\n",
       "      <td>455</td>\n",
       "    </tr>\n",
       "    <tr>\n",
       "      <th>1</th>\n",
       "      <td>id2377394</td>\n",
       "      <td>1</td>\n",
       "      <td>2016-06-12 00:43:35</td>\n",
       "      <td>2016-06-12 00:54:38</td>\n",
       "      <td>1</td>\n",
       "      <td>-73.980415</td>\n",
       "      <td>40.738564</td>\n",
       "      <td>-73.999481</td>\n",
       "      <td>40.731152</td>\n",
       "      <td>N</td>\n",
       "      <td>663</td>\n",
       "    </tr>\n",
       "    <tr>\n",
       "      <th>2</th>\n",
       "      <td>id3858529</td>\n",
       "      <td>2</td>\n",
       "      <td>2016-01-19 11:35:24</td>\n",
       "      <td>2016-01-19 12:10:48</td>\n",
       "      <td>1</td>\n",
       "      <td>-73.979027</td>\n",
       "      <td>40.763939</td>\n",
       "      <td>-74.005333</td>\n",
       "      <td>40.710087</td>\n",
       "      <td>N</td>\n",
       "      <td>2124</td>\n",
       "    </tr>\n",
       "    <tr>\n",
       "      <th>3</th>\n",
       "      <td>id3504673</td>\n",
       "      <td>2</td>\n",
       "      <td>2016-04-06 19:32:31</td>\n",
       "      <td>2016-04-06 19:39:40</td>\n",
       "      <td>1</td>\n",
       "      <td>-74.010040</td>\n",
       "      <td>40.719971</td>\n",
       "      <td>-74.012268</td>\n",
       "      <td>40.706718</td>\n",
       "      <td>N</td>\n",
       "      <td>429</td>\n",
       "    </tr>\n",
       "    <tr>\n",
       "      <th>4</th>\n",
       "      <td>id2181028</td>\n",
       "      <td>2</td>\n",
       "      <td>2016-03-26 13:30:55</td>\n",
       "      <td>2016-03-26 13:38:10</td>\n",
       "      <td>1</td>\n",
       "      <td>-73.973053</td>\n",
       "      <td>40.793209</td>\n",
       "      <td>-73.972923</td>\n",
       "      <td>40.782520</td>\n",
       "      <td>N</td>\n",
       "      <td>435</td>\n",
       "    </tr>\n",
       "  </tbody>\n",
       "</table>\n",
       "</div>"
      ],
      "text/plain": [
       "          id  vendor_id      pickup_datetime     dropoff_datetime  \\\n",
       "0  id2875421          2  2016-03-14 17:24:55  2016-03-14 17:32:30   \n",
       "1  id2377394          1  2016-06-12 00:43:35  2016-06-12 00:54:38   \n",
       "2  id3858529          2  2016-01-19 11:35:24  2016-01-19 12:10:48   \n",
       "3  id3504673          2  2016-04-06 19:32:31  2016-04-06 19:39:40   \n",
       "4  id2181028          2  2016-03-26 13:30:55  2016-03-26 13:38:10   \n",
       "\n",
       "   passenger_count  pickup_longitude  pickup_latitude  dropoff_longitude  \\\n",
       "0                1        -73.982155        40.767937         -73.964630   \n",
       "1                1        -73.980415        40.738564         -73.999481   \n",
       "2                1        -73.979027        40.763939         -74.005333   \n",
       "3                1        -74.010040        40.719971         -74.012268   \n",
       "4                1        -73.973053        40.793209         -73.972923   \n",
       "\n",
       "   dropoff_latitude store_and_fwd_flag  trip_duration  \n",
       "0         40.765602                  N            455  \n",
       "1         40.731152                  N            663  \n",
       "2         40.710087                  N           2124  \n",
       "3         40.706718                  N            429  \n",
       "4         40.782520                  N            435  "
      ]
     },
     "execution_count": 2,
     "metadata": {},
     "output_type": "execute_result"
    }
   ],
   "source": [
    "train = pd.read_csv(\"train.csv\")\n",
    "train.head()"
   ]
  },
  {
   "cell_type": "code",
   "execution_count": 3,
   "metadata": {},
   "outputs": [
    {
     "data": {
      "text/html": [
       "<div>\n",
       "<style scoped>\n",
       "    .dataframe tbody tr th:only-of-type {\n",
       "        vertical-align: middle;\n",
       "    }\n",
       "\n",
       "    .dataframe tbody tr th {\n",
       "        vertical-align: top;\n",
       "    }\n",
       "\n",
       "    .dataframe thead th {\n",
       "        text-align: right;\n",
       "    }\n",
       "</style>\n",
       "<table border=\"1\" class=\"dataframe\">\n",
       "  <thead>\n",
       "    <tr style=\"text-align: right;\">\n",
       "      <th></th>\n",
       "      <th>id</th>\n",
       "      <th>vendor_id</th>\n",
       "      <th>pickup_datetime</th>\n",
       "      <th>passenger_count</th>\n",
       "      <th>pickup_longitude</th>\n",
       "      <th>pickup_latitude</th>\n",
       "      <th>dropoff_longitude</th>\n",
       "      <th>dropoff_latitude</th>\n",
       "      <th>store_and_fwd_flag</th>\n",
       "    </tr>\n",
       "  </thead>\n",
       "  <tbody>\n",
       "    <tr>\n",
       "      <th>0</th>\n",
       "      <td>id3004672</td>\n",
       "      <td>1</td>\n",
       "      <td>2016-06-30 23:59:58</td>\n",
       "      <td>1</td>\n",
       "      <td>-73.988129</td>\n",
       "      <td>40.732029</td>\n",
       "      <td>-73.990173</td>\n",
       "      <td>40.756680</td>\n",
       "      <td>N</td>\n",
       "    </tr>\n",
       "    <tr>\n",
       "      <th>1</th>\n",
       "      <td>id3505355</td>\n",
       "      <td>1</td>\n",
       "      <td>2016-06-30 23:59:53</td>\n",
       "      <td>1</td>\n",
       "      <td>-73.964203</td>\n",
       "      <td>40.679993</td>\n",
       "      <td>-73.959808</td>\n",
       "      <td>40.655403</td>\n",
       "      <td>N</td>\n",
       "    </tr>\n",
       "    <tr>\n",
       "      <th>2</th>\n",
       "      <td>id1217141</td>\n",
       "      <td>1</td>\n",
       "      <td>2016-06-30 23:59:47</td>\n",
       "      <td>1</td>\n",
       "      <td>-73.997437</td>\n",
       "      <td>40.737583</td>\n",
       "      <td>-73.986160</td>\n",
       "      <td>40.729523</td>\n",
       "      <td>N</td>\n",
       "    </tr>\n",
       "    <tr>\n",
       "      <th>3</th>\n",
       "      <td>id2150126</td>\n",
       "      <td>2</td>\n",
       "      <td>2016-06-30 23:59:41</td>\n",
       "      <td>1</td>\n",
       "      <td>-73.956070</td>\n",
       "      <td>40.771900</td>\n",
       "      <td>-73.986427</td>\n",
       "      <td>40.730469</td>\n",
       "      <td>N</td>\n",
       "    </tr>\n",
       "    <tr>\n",
       "      <th>4</th>\n",
       "      <td>id1598245</td>\n",
       "      <td>1</td>\n",
       "      <td>2016-06-30 23:59:33</td>\n",
       "      <td>1</td>\n",
       "      <td>-73.970215</td>\n",
       "      <td>40.761475</td>\n",
       "      <td>-73.961510</td>\n",
       "      <td>40.755890</td>\n",
       "      <td>N</td>\n",
       "    </tr>\n",
       "  </tbody>\n",
       "</table>\n",
       "</div>"
      ],
      "text/plain": [
       "          id  vendor_id      pickup_datetime  passenger_count  \\\n",
       "0  id3004672          1  2016-06-30 23:59:58                1   \n",
       "1  id3505355          1  2016-06-30 23:59:53                1   \n",
       "2  id1217141          1  2016-06-30 23:59:47                1   \n",
       "3  id2150126          2  2016-06-30 23:59:41                1   \n",
       "4  id1598245          1  2016-06-30 23:59:33                1   \n",
       "\n",
       "   pickup_longitude  pickup_latitude  dropoff_longitude  dropoff_latitude  \\\n",
       "0        -73.988129        40.732029         -73.990173         40.756680   \n",
       "1        -73.964203        40.679993         -73.959808         40.655403   \n",
       "2        -73.997437        40.737583         -73.986160         40.729523   \n",
       "3        -73.956070        40.771900         -73.986427         40.730469   \n",
       "4        -73.970215        40.761475         -73.961510         40.755890   \n",
       "\n",
       "  store_and_fwd_flag  \n",
       "0                  N  \n",
       "1                  N  \n",
       "2                  N  \n",
       "3                  N  \n",
       "4                  N  "
      ]
     },
     "execution_count": 3,
     "metadata": {},
     "output_type": "execute_result"
    }
   ],
   "source": [
    "test = pd.read_csv(\"test.csv\")\n",
    "test.head()"
   ]
  },
  {
   "cell_type": "code",
   "execution_count": 4,
   "metadata": {},
   "outputs": [
    {
     "data": {
      "text/html": [
       "<div>\n",
       "<style scoped>\n",
       "    .dataframe tbody tr th:only-of-type {\n",
       "        vertical-align: middle;\n",
       "    }\n",
       "\n",
       "    .dataframe tbody tr th {\n",
       "        vertical-align: top;\n",
       "    }\n",
       "\n",
       "    .dataframe thead th {\n",
       "        text-align: right;\n",
       "    }\n",
       "</style>\n",
       "<table border=\"1\" class=\"dataframe\">\n",
       "  <thead>\n",
       "    <tr style=\"text-align: right;\">\n",
       "      <th></th>\n",
       "      <th>id</th>\n",
       "      <th>trip_duration</th>\n",
       "    </tr>\n",
       "  </thead>\n",
       "  <tbody>\n",
       "    <tr>\n",
       "      <th>0</th>\n",
       "      <td>id3004672</td>\n",
       "      <td>959</td>\n",
       "    </tr>\n",
       "    <tr>\n",
       "      <th>1</th>\n",
       "      <td>id3505355</td>\n",
       "      <td>959</td>\n",
       "    </tr>\n",
       "    <tr>\n",
       "      <th>2</th>\n",
       "      <td>id1217141</td>\n",
       "      <td>959</td>\n",
       "    </tr>\n",
       "    <tr>\n",
       "      <th>3</th>\n",
       "      <td>id2150126</td>\n",
       "      <td>959</td>\n",
       "    </tr>\n",
       "    <tr>\n",
       "      <th>4</th>\n",
       "      <td>id1598245</td>\n",
       "      <td>959</td>\n",
       "    </tr>\n",
       "  </tbody>\n",
       "</table>\n",
       "</div>"
      ],
      "text/plain": [
       "          id  trip_duration\n",
       "0  id3004672            959\n",
       "1  id3505355            959\n",
       "2  id1217141            959\n",
       "3  id2150126            959\n",
       "4  id1598245            959"
      ]
     },
     "execution_count": 4,
     "metadata": {},
     "output_type": "execute_result"
    }
   ],
   "source": [
    "sample_submission = pd.read_csv(\"sample_submission.csv\")\n",
    "sample_submission.head()"
   ]
  },
  {
   "cell_type": "markdown",
   "metadata": {},
   "source": [
    "# 1.1.a Data type and unit"
   ]
  },
  {
   "cell_type": "markdown",
   "metadata": {},
   "source": [
    "# unit\n",
    "\n",
    "### 1. latitude / longtitude = decimal degree \n",
    "- 111.32mm per 0.000001° / 11.132 m per 0.0001° / 1.1132 km per 0.01° / 111.32 km per 1.0°\n",
    "- 14 demical degree\n",
    "- ex) 40.767937 , -73.982155\n",
    "\n",
    "### 2. datetime = year-month-day: hour-minute-second\n",
    "\n",
    "### 3. vendor_id = 1, 2\n",
    "\n",
    "### 4. passenger_count = 0,,,,9\n",
    "\n",
    "### 4. store_and_fwd_flag = N, Y\n",
    "\n",
    "### 6. duration = second\n",
    "- ex) 455 sec = 7min 35sec\n"
   ]
  },
  {
   "cell_type": "code",
   "execution_count": 5,
   "metadata": {
    "scrolled": true
   },
   "outputs": [
    {
     "name": "stdout",
     "output_type": "stream",
     "text": [
      "<class 'pandas.core.frame.DataFrame'>\n",
      "RangeIndex: 1458644 entries, 0 to 1458643\n",
      "Data columns (total 11 columns):\n",
      "id                    1458644 non-null object\n",
      "vendor_id             1458644 non-null int64\n",
      "pickup_datetime       1458644 non-null object\n",
      "dropoff_datetime      1458644 non-null object\n",
      "passenger_count       1458644 non-null int64\n",
      "pickup_longitude      1458644 non-null float64\n",
      "pickup_latitude       1458644 non-null float64\n",
      "dropoff_longitude     1458644 non-null float64\n",
      "dropoff_latitude      1458644 non-null float64\n",
      "store_and_fwd_flag    1458644 non-null object\n",
      "trip_duration         1458644 non-null int64\n",
      "dtypes: float64(4), int64(3), object(4)\n",
      "memory usage: 122.4+ MB\n"
     ]
    }
   ],
   "source": [
    "train.info()"
   ]
  },
  {
   "cell_type": "code",
   "execution_count": 6,
   "metadata": {},
   "outputs": [
    {
     "name": "stdout",
     "output_type": "stream",
     "text": [
      "<class 'pandas.core.frame.DataFrame'>\n",
      "RangeIndex: 625134 entries, 0 to 625133\n",
      "Data columns (total 9 columns):\n",
      "id                    625134 non-null object\n",
      "vendor_id             625134 non-null int64\n",
      "pickup_datetime       625134 non-null object\n",
      "passenger_count       625134 non-null int64\n",
      "pickup_longitude      625134 non-null float64\n",
      "pickup_latitude       625134 non-null float64\n",
      "dropoff_longitude     625134 non-null float64\n",
      "dropoff_latitude      625134 non-null float64\n",
      "store_and_fwd_flag    625134 non-null object\n",
      "dtypes: float64(4), int64(2), object(3)\n",
      "memory usage: 42.9+ MB\n"
     ]
    }
   ],
   "source": [
    "test.info()"
   ]
  },
  {
   "cell_type": "code",
   "execution_count": 7,
   "metadata": {},
   "outputs": [
    {
     "name": "stdout",
     "output_type": "stream",
     "text": [
      "<class 'pandas.core.frame.DataFrame'>\n",
      "RangeIndex: 625134 entries, 0 to 625133\n",
      "Data columns (total 2 columns):\n",
      "id               625134 non-null object\n",
      "trip_duration    625134 non-null int64\n",
      "dtypes: int64(1), object(1)\n",
      "memory usage: 9.5+ MB\n"
     ]
    }
   ],
   "source": [
    "sample_submission.info()"
   ]
  },
  {
   "cell_type": "markdown",
   "metadata": {},
   "source": [
    "# train data\n",
    "-  1.4M data, 11 columns\n",
    "\n",
    "# test data\n",
    "-  0.6M data, 9 columns (no dropoff_datetime, trip_duration)\n",
    "\n",
    "# sample_submission\n",
    "-  0.6M data, 2 columns (id, trip_duration)"
   ]
  },
  {
   "cell_type": "markdown",
   "metadata": {},
   "source": [
    "# 1.1.b Missing Data check"
   ]
  },
  {
   "cell_type": "code",
   "execution_count": 8,
   "metadata": {},
   "outputs": [
    {
     "data": {
      "text/plain": [
       "id                    0\n",
       "vendor_id             0\n",
       "pickup_datetime       0\n",
       "dropoff_datetime      0\n",
       "passenger_count       0\n",
       "pickup_longitude      0\n",
       "pickup_latitude       0\n",
       "dropoff_longitude     0\n",
       "dropoff_latitude      0\n",
       "store_and_fwd_flag    0\n",
       "trip_duration         0\n",
       "dtype: int64"
      ]
     },
     "execution_count": 8,
     "metadata": {},
     "output_type": "execute_result"
    }
   ],
   "source": [
    "#none of missing data\n",
    "train.isnull().sum()"
   ]
  },
  {
   "cell_type": "code",
   "execution_count": 9,
   "metadata": {},
   "outputs": [
    {
     "data": {
      "text/plain": [
       "id                    0\n",
       "vendor_id             0\n",
       "pickup_datetime       0\n",
       "passenger_count       0\n",
       "pickup_longitude      0\n",
       "pickup_latitude       0\n",
       "dropoff_longitude     0\n",
       "dropoff_latitude      0\n",
       "store_and_fwd_flag    0\n",
       "dtype: int64"
      ]
     },
     "execution_count": 9,
     "metadata": {},
     "output_type": "execute_result"
    }
   ],
   "source": [
    "test.isnull().sum()"
   ]
  },
  {
   "cell_type": "markdown",
   "metadata": {},
   "source": [
    "# 1.1.c Trip duration check"
   ]
  },
  {
   "cell_type": "code",
   "execution_count": 10,
   "metadata": {},
   "outputs": [],
   "source": [
    "train[\"pickup_datetime\"] =  pd.to_datetime(train[\"pickup_datetime\"])\n",
    "train[\"dropoff_datetime\"] =  pd.to_datetime(train[\"dropoff_datetime\"])\n",
    "sample_duration = train[\"dropoff_datetime\"] - train[\"pickup_datetime\"]\n",
    "sample_duration_sec = sample_duration.dt.total_seconds().astype('int')\n",
    "train['trip_sec'] =  sample_duration_sec"
   ]
  },
  {
   "cell_type": "code",
   "execution_count": 11,
   "metadata": {},
   "outputs": [
    {
     "name": "stdout",
     "output_type": "stream",
     "text": [
      "0\n"
     ]
    }
   ],
   "source": [
    "train_d = train[train[\"trip_duration\"] != train[\"trip_sec\"]]\n",
    "print(len(train_d))\n",
    "\n",
    "if len(train_d) == 0:\n",
    "    train = train.drop(['trip_sec'], axis=1)"
   ]
  },
  {
   "cell_type": "markdown",
   "metadata": {},
   "source": [
    "### NYC Taxi Trip Duration [Train data]는\n",
    "\n",
    "### 총 1,458,644 Row와 11 Column으로 구성되어 있으며,\n",
    "\n",
    "### Missing Data는 존재하지 않습니다."
   ]
  },
  {
   "cell_type": "markdown",
   "metadata": {},
   "source": [
    "# 1.1.c Column information"
   ]
  },
  {
   "cell_type": "markdown",
   "metadata": {},
   "source": [
    "- id : 개별 Taxi에 부여된 고유 id (이건 그냥 쓴거예요...)\n",
    "- verdor_id : Taxi Company id >>>  1, 2로 구성되어 있는걸로 봐서 2개의 회사를 대상\n",
    "- pickup/dropoff datetime : 출발/도착 시간정보 >> 년, 월, 일, 시각 정보가 포함\n",
    "- passenger_count : 승객수 >>> 0~9명까지 존재\n",
    "- pickup/dropoff_longitude & latitude : 출발/도착 지리정보\n",
    "- store_and_fwd_flag : whether the trip data was sent immediately to the vendor (“N”) or held in the memory of the taxi because there was no connection to the server (“Y”)\n",
    "- trip_duration : 탑승시간 >>> 단위는 Seconds"
   ]
  },
  {
   "cell_type": "markdown",
   "metadata": {},
   "source": [
    "# 1.2 Feature Engineering & Data Cleaning"
   ]
  },
  {
   "cell_type": "markdown",
   "metadata": {},
   "source": [
    "### 1.2.a Add columns with detailed informations\n"
   ]
  },
  {
   "cell_type": "markdown",
   "metadata": {},
   "source": [
    "- duration per min\n",
    "- datetime per hour\n",
    "- datetime per day of week\n",
    "- datetime per month"
   ]
  },
  {
   "cell_type": "markdown",
   "metadata": {},
   "source": [
    "# date time convert"
   ]
  },
  {
   "cell_type": "code",
   "execution_count": 12,
   "metadata": {},
   "outputs": [],
   "source": [
    "train = train.drop(\"dropoff_datetime\", axis=1)"
   ]
  },
  {
   "cell_type": "code",
   "execution_count": 13,
   "metadata": {},
   "outputs": [],
   "source": [
    "#data type convert to datetime from object\n",
    "train[\"pickup_datetime\"] =  pd.to_datetime(train[\"pickup_datetime\"])\n",
    "test[\"pickup_datetime\"] =  pd.to_datetime(test[\"pickup_datetime\"])"
   ]
  },
  {
   "cell_type": "code",
   "execution_count": 14,
   "metadata": {},
   "outputs": [],
   "source": [
    "#day of week\n",
    "#Monday=0, Sunday=6\n",
    "train[\"pick_month\"] = train[\"pickup_datetime\"].apply(lambda x : x.month)\n",
    "train[\"pick_day\"] = train[\"pickup_datetime\"].apply(lambda x : x.day)\n",
    "train[\"pick_hour\"] = train[\"pickup_datetime\"].apply(lambda x : x.hour)\n",
    "# train[\"pick_min\"] = train[\"pickup_datetime\"].apply(lambda x : x.minute)\n",
    "# train[\"pick_sec\"] = train[\"pickup_datetime\"].apply(lambda x : x.second)\n",
    "\n",
    "#day of week\n",
    "#Monday=0, Sunday=6\n",
    "test[\"pick_month\"] = test[\"pickup_datetime\"].apply(lambda x : x.month)\n",
    "test[\"pick_day\"] = test[\"pickup_datetime\"].apply(lambda x : x.day)\n",
    "test[\"pick_hour\"] = test[\"pickup_datetime\"].apply(lambda x : x.hour)\n",
    "# test[\"pick_min\"] = test[\"pickup_datetime\"].apply(lambda x : x.minute)\n",
    "# test[\"pick_sec\"] = test[\"pickup_datetime\"].apply(lambda x : x.second)"
   ]
  },
  {
   "cell_type": "code",
   "execution_count": 15,
   "metadata": {},
   "outputs": [],
   "source": [
    "train = train.drop('pickup_datetime', axis=1)\n",
    "test = test.drop('pickup_datetime', axis=1)"
   ]
  },
  {
   "cell_type": "markdown",
   "metadata": {},
   "source": [
    "# holiday crawling"
   ]
  },
  {
   "cell_type": "code",
   "execution_count": 65,
   "metadata": {},
   "outputs": [],
   "source": [
    "from bs4 import BeautifulSoup\n",
    "import requests \n",
    "import urllib.request"
   ]
  },
  {
   "cell_type": "code",
   "execution_count": 131,
   "metadata": {},
   "outputs": [
    {
     "data": {
      "text/plain": [
       "[<td style=\"white-space: nowrap\">\n",
       "   \n",
       "   January 01  </td>, <td style=\"white-space: nowrap\">\n",
       "   \n",
       "   January 18  </td>, <td style=\"white-space: nowrap\">\n",
       "   \n",
       "   February 15  </td>, <td style=\"white-space: nowrap\">\n",
       "   \n",
       "   April 15  </td>, <td style=\"white-space: nowrap\">\n",
       "   \n",
       "   May 08  </td>, <td style=\"white-space: nowrap\">\n",
       "   \n",
       "   May 30  </td>, <td style=\"white-space: nowrap\">\n",
       "   \n",
       "   June 19  </td>, <td style=\"white-space: nowrap\">\n",
       "   \n",
       "   July 04  </td>, <td style=\"white-space: nowrap\">\n",
       "   \n",
       "   September 05  </td>, <td style=\"white-space: nowrap\">\n",
       "   \n",
       "   October 10  </td>, <td style=\"white-space: nowrap\">\n",
       "   \n",
       "   November 11  </td>, <td style=\"white-space: nowrap\">\n",
       "   \n",
       "   November 24  </td>, <td style=\"white-space: nowrap\">\n",
       "   \n",
       "   November 25  </td>, <td style=\"white-space: nowrap\">\n",
       "   \n",
       "   December 26  </td>, <td class=\"regional\">\n",
       " Regional Holiday</td>]"
      ]
     },
     "execution_count": 131,
     "metadata": {},
     "output_type": "execute_result"
    }
   ],
   "source": [
    "df = pd.DataFrame(columns=[\"rank\",\"keyword\"])\n",
    "response = requests.get(\"https://www.officeholidays.com/countries/usa/2016.php\")\n",
    "bs = BeautifulSoup(response.content, \"html.parser\")\n",
    "trs = bs.select(\"table td\")\n",
    "trs1 = trs[1::5]\n",
    "trs1"
   ]
  },
  {
   "cell_type": "markdown",
   "metadata": {},
   "source": [
    "# New York City Weather Event "
   ]
  },
  {
   "cell_type": "code",
   "execution_count": null,
   "metadata": {},
   "outputs": [],
   "source": [
    "# <p>2016</p>\n",
    "# <ul>..</ul>\n",
    "# <li>Jan 10th</li>\n",
    "# <li>Jan 13th</li>\n",
    "\n",
    "l = bs.find_all('holiday') \n",
    "idx = 0 \n",
    "for s in l: \n",
    "    try: \n",
    "        print(\"%d : %s\" % (idx, str(s))) \n",
    "        \n",
    "    except UnicodeEncodeError: \n",
    "        print(\"Errror : %d\" % (idx)) \n",
    "    \n",
    "    finally: idx += 1"
   ]
  },
  {
   "cell_type": "code",
   "execution_count": null,
   "metadata": {},
   "outputs": [],
   "source": [
    "#pagebody > div:nth-child(3) > div > table > tbody > tr > td > ul:nth-child(6) > li:nth-child(1) > a"
   ]
  },
  {
   "cell_type": "code",
   "execution_count": 145,
   "metadata": {},
   "outputs": [],
   "source": [
    "df = pd.DataFrame(columns=[\"rank\",\"keyword\"])\n",
    "response = requests.get(\"https://www.weather.gov/okx/stormevents\")\n",
    "bs = BeautifulSoup(response.content, \"html.parser\")\n",
    "trs = bs.select(\"div > div > table > tbody > tr > td > ul\")"
   ]
  },
  {
   "cell_type": "code",
   "execution_count": 148,
   "metadata": {},
   "outputs": [
    {
     "data": {
      "text/plain": [
       "<ul>\n",
       "<li><a href=\"storm01102016\">Jan 10th</a> Rain and Wind Event</li>\n",
       "<li><a href=\"storm01132016\">Jan 13th</a> Wind Event</li>\n",
       "<li><a href=\"storm01172016\">Jan 17th</a> Light Snow Event</li>\n",
       "<li><a href=\"https://www.weather.gov/okx/Blizzard_Jan2016\">Jan 23rd</a> Blizzard</li>\n",
       "<li><a href=\"https://www.weather.gov/okx/storm02052016\">Feb 5th</a> Heavy Snow Event</li>\n",
       "<li><a href=\"https://www.weather.gov/okx/storm02082016\">Feb 8th</a> Snow Event</li>\n",
       "<li><a href=\"https://www.weather.gov/okx/storm02162016\">Feb 15-16th</a> Snow, Freezing Rain, Heavy Rain and Wind Event</li>\n",
       "<li><a href=\"https://www.weather.gov/okx/storm02252016\">Feb 24-25th</a> Heavy Rain and Damaging Wind Event</li>\n",
       "<li><a href=\"https://www.weather.gov/okx/storm03152016\">Mar 14-15th</a> Rain Event</li>\n",
       "<li><a href=\"https://www.weather.gov/okx/storm03212016\">Mar 21st</a> Light Snow Event</li>\n",
       "<li><a href=\"https://www.weather.gov/okx/storm03292016\">Mar 28-29th</a> Wind Event</li>\n",
       "<li><a href=\"https://www.weather.gov/okx/storm04032016\">Apr 3rd</a> Strong Wind and Snow Shower Event</li>\n",
       "<li><a href=\"https://www.weather.gov/okx/storm04042016\">Apr 4th</a> Light Snow and Freezing Rain Event</li>\n",
       "<li><a href=\"https://www.weather.gov/okx/storm05302016\">May 30th</a> Rain Event</li>\n",
       "<li><a href=\"https://www.weather.gov/okx/storm06282016\">June 28th</a> Microburst / Straight Line Wind Damage Confirmed Near New Providence in Union County New Jersey</li>\n",
       "<li><a href=\"https://www.weather.gov/okx/storm07182016\">July 18th</a> Severe Event</li>\n",
       "<li><a href=\"https://www.weather.gov/okx/storm07292016\">July 29th</a> Rain Event</li>\n",
       "<li><a href=\"https://www.weather.gov/okx/storm08012016\">July 31st-August 1st</a> Rain Event</li>\n",
       "<li><a href=\"https://www.weather.gov/okx/storm08102016\">Aug 10th</a> EF-0 Tornado Confirmed near North Haven in New Haven County, Connecticut and Mattituck in Suffolk County, New York</li>\n",
       "<li><a href=\"https://www.weather.gov/okx/storm08112016\">Aug 11th</a> Severe and Flash Flood Event</li>\n",
       "<li><a href=\"https://www.weather.gov/okx/storm08122016\">Aug 12th</a> Severe Event</li>\n",
       "<li><a href=\"https://www.weather.gov/okx/storm08132016\">Aug 13-14th</a> Severe Event</li>\n",
       "<li><a href=\"https://www.weather.gov/okx/storm08202016\">Aug 20th</a> Flash Flood Event</li>\n",
       "<li><a href=\"https://www.weather.gov/okx/storm09052016\">Port Tropical Hermine</a></li>\n",
       "<li><a href=\"https://www.weather.gov/okx/storm09202016\">Sep 19-20th</a> Rain Event</li>\n",
       "<li><a href=\"https://www.weather.gov/okx/storm10092016\">Oct 8-9th</a> Rain Event</li>\n",
       "<li><a href=\"https://www.weather.gov/okx/storm10222016\">Oct 22nd</a> Rain Event</li>\n",
       "<li><a href=\"https://www.weather.gov/okx/storm10232016\">Oct 22-23rd</a> Wind Event</li>\n",
       "<li><a href=\"https://www.weather.gov/okx/storm10282016\">Oct 27-28th</a> Rain Event</li>\n",
       "<li><a href=\"https://www.weather.gov/okx/storm10302016\">Oct 30th</a> Rain Event</li>\n",
       "<li><a href=\"https://www.weather.gov/okx/storm11112016\">Nov 11th</a> Wind Event</li>\n",
       "<li><a href=\"https://www.weather.gov/okx/storm11152016\">Nov 14-15th</a> Rain Event</li>\n",
       "<li><a href=\"https://www.weather.gov/okx/storm11212016\">Nov 20-22nd</a> Wind and Snow Squall Event</li>\n",
       "<li><a href=\"https://www.weather.gov/okx/storm11292016\">Nov 29-30th</a> Rain Event</li>\n",
       "<li><a href=\"https://www.weather.gov/okx/storm12012016\">Nov 30th-Dec 1st</a> Rain Event</li>\n",
       "<li><a href=\"https://www.weather.gov/okx/storm12052016\">Dec 5th</a> Light Snow Event</li>\n",
       "<li><a href=\"https://www.weather.gov/okx/storm12152016\">Dec 15-16th</a> Wind Event</li>\n",
       "<li><a href=\"https://www.weather.gov/okx/storm12172016\">Dec 17th</a> Snow and Ice Event</li>\n",
       "<li><a href=\"https://www.weather.gov/okx/storm12182016\">Dec 18th</a> Wind Event</li>\n",
       "</ul>"
      ]
     },
     "execution_count": 148,
     "metadata": {},
     "output_type": "execute_result"
    }
   ],
   "source": [
    "trs[2]"
   ]
  },
  {
   "cell_type": "code",
   "execution_count": null,
   "metadata": {},
   "outputs": [],
   "source": []
  },
  {
   "cell_type": "markdown",
   "metadata": {},
   "source": [
    "# 1.2.b Distance between pickup and dropoff location"
   ]
  },
  {
   "cell_type": "markdown",
   "metadata": {},
   "source": [
    "# Geographic space\n",
    "   - Manhattan distance vs Euclidean distance"
   ]
  },
  {
   "cell_type": "markdown",
   "metadata": {},
   "source": [
    "### Euclidean distance\n",
    "- unit = km"
   ]
  },
  {
   "cell_type": "markdown",
   "metadata": {},
   "source": [
    "# New York border coordinate"
   ]
  },
  {
   "cell_type": "code",
   "execution_count": 31,
   "metadata": {},
   "outputs": [],
   "source": [
    "# new york city coordinate = (41.145495, −73.994901)\n",
    "city_lon_border = (-74.03, -73.75)\n",
    "city_lat_border = (40.63, 40.85)"
   ]
  },
  {
   "cell_type": "markdown",
   "metadata": {},
   "source": [
    "# uclidean Distance"
   ]
  },
  {
   "cell_type": "code",
   "execution_count": 17,
   "metadata": {},
   "outputs": [],
   "source": [
    "def ucli_dist(lat1, lon1, lat2, lon2):\n",
    "    \n",
    "    dist = []\n",
    "    R = 6371.0\n",
    "    \n",
    "    for i in range(len(lat1)):\n",
    "        lat11 = radians(lat1[i])\n",
    "        lon11 = radians(lon1[i])\n",
    "        lat22 = radians(lat2[i])\n",
    "        lon22 = radians(lon2[i])\n",
    "    \n",
    "        dlon = lon22 - lon11\n",
    "        dlat = lat22 - lat11\n",
    "        \n",
    "        a = sin(dlat / 2)**2 + cos(lat11) * cos(lat22) * sin(dlon / 2)**2\n",
    "        c = 2 * atan2(sqrt(a), sqrt(1 - a))\n",
    "\n",
    "        distance = R * c\n",
    "        dist.append(distance)\n",
    "        \n",
    "    return dist"
   ]
  },
  {
   "cell_type": "code",
   "execution_count": 18,
   "metadata": {},
   "outputs": [],
   "source": [
    "train['ucli_dist'] = ucli_dist(train.pickup_latitude, train.pickup_longitude, train.dropoff_latitude, train.dropoff_longitude)\n",
    "test['ucli_dist'] = ucli_dist(test.pickup_latitude, test.pickup_longitude, test.dropoff_latitude, test.dropoff_longitude)"
   ]
  },
  {
   "cell_type": "markdown",
   "metadata": {},
   "source": [
    "# manhatan distance"
   ]
  },
  {
   "cell_type": "code",
   "execution_count": 21,
   "metadata": {},
   "outputs": [],
   "source": [
    "train['man_dist'] = (abs(train.dropoff_longitude - train.pickup_longitude) + abs(train.dropoff_latitude - train.pickup_latitude)) * 113.2\n",
    "test['man_dist'] = (abs(test.dropoff_longitude - test.pickup_longitude) + abs(test.dropoff_latitude - test.pickup_latitude)) * 113.2"
   ]
  },
  {
   "cell_type": "code",
   "execution_count": 22,
   "metadata": {},
   "outputs": [
    {
     "data": {
      "text/html": [
       "<div>\n",
       "<style scoped>\n",
       "    .dataframe tbody tr th:only-of-type {\n",
       "        vertical-align: middle;\n",
       "    }\n",
       "\n",
       "    .dataframe tbody tr th {\n",
       "        vertical-align: top;\n",
       "    }\n",
       "\n",
       "    .dataframe thead th {\n",
       "        text-align: right;\n",
       "    }\n",
       "</style>\n",
       "<table border=\"1\" class=\"dataframe\">\n",
       "  <thead>\n",
       "    <tr style=\"text-align: right;\">\n",
       "      <th></th>\n",
       "      <th>id</th>\n",
       "      <th>vendor_id</th>\n",
       "      <th>passenger_count</th>\n",
       "      <th>pickup_longitude</th>\n",
       "      <th>pickup_latitude</th>\n",
       "      <th>dropoff_longitude</th>\n",
       "      <th>dropoff_latitude</th>\n",
       "      <th>store_and_fwd_flag</th>\n",
       "      <th>trip_duration</th>\n",
       "      <th>pick_month</th>\n",
       "      <th>pick_day</th>\n",
       "      <th>pick_hour</th>\n",
       "      <th>ucli_dist</th>\n",
       "      <th>man_dist</th>\n",
       "    </tr>\n",
       "  </thead>\n",
       "  <tbody>\n",
       "    <tr>\n",
       "      <th>0</th>\n",
       "      <td>id2875421</td>\n",
       "      <td>2</td>\n",
       "      <td>1</td>\n",
       "      <td>-73.982155</td>\n",
       "      <td>40.767937</td>\n",
       "      <td>-73.964630</td>\n",
       "      <td>40.765602</td>\n",
       "      <td>N</td>\n",
       "      <td>455</td>\n",
       "      <td>3</td>\n",
       "      <td>14</td>\n",
       "      <td>17</td>\n",
       "      <td>1.498521</td>\n",
       "      <td>2.248074</td>\n",
       "    </tr>\n",
       "    <tr>\n",
       "      <th>1</th>\n",
       "      <td>id2377394</td>\n",
       "      <td>1</td>\n",
       "      <td>1</td>\n",
       "      <td>-73.980415</td>\n",
       "      <td>40.738564</td>\n",
       "      <td>-73.999481</td>\n",
       "      <td>40.731152</td>\n",
       "      <td>N</td>\n",
       "      <td>663</td>\n",
       "      <td>6</td>\n",
       "      <td>12</td>\n",
       "      <td>0</td>\n",
       "      <td>1.805507</td>\n",
       "      <td>2.997289</td>\n",
       "    </tr>\n",
       "    <tr>\n",
       "      <th>2</th>\n",
       "      <td>id3858529</td>\n",
       "      <td>2</td>\n",
       "      <td>1</td>\n",
       "      <td>-73.979027</td>\n",
       "      <td>40.763939</td>\n",
       "      <td>-74.005333</td>\n",
       "      <td>40.710087</td>\n",
       "      <td>N</td>\n",
       "      <td>2124</td>\n",
       "      <td>1</td>\n",
       "      <td>19</td>\n",
       "      <td>11</td>\n",
       "      <td>6.385098</td>\n",
       "      <td>9.073912</td>\n",
       "    </tr>\n",
       "    <tr>\n",
       "      <th>3</th>\n",
       "      <td>id3504673</td>\n",
       "      <td>2</td>\n",
       "      <td>1</td>\n",
       "      <td>-74.010040</td>\n",
       "      <td>40.719971</td>\n",
       "      <td>-74.012268</td>\n",
       "      <td>40.706718</td>\n",
       "      <td>N</td>\n",
       "      <td>429</td>\n",
       "      <td>4</td>\n",
       "      <td>6</td>\n",
       "      <td>19</td>\n",
       "      <td>1.485498</td>\n",
       "      <td>1.752341</td>\n",
       "    </tr>\n",
       "    <tr>\n",
       "      <th>4</th>\n",
       "      <td>id2181028</td>\n",
       "      <td>2</td>\n",
       "      <td>1</td>\n",
       "      <td>-73.973053</td>\n",
       "      <td>40.793209</td>\n",
       "      <td>-73.972923</td>\n",
       "      <td>40.782520</td>\n",
       "      <td>N</td>\n",
       "      <td>435</td>\n",
       "      <td>3</td>\n",
       "      <td>26</td>\n",
       "      <td>13</td>\n",
       "      <td>1.188588</td>\n",
       "      <td>1.224652</td>\n",
       "    </tr>\n",
       "  </tbody>\n",
       "</table>\n",
       "</div>"
      ],
      "text/plain": [
       "          id  vendor_id  passenger_count  pickup_longitude  pickup_latitude  \\\n",
       "0  id2875421          2                1        -73.982155        40.767937   \n",
       "1  id2377394          1                1        -73.980415        40.738564   \n",
       "2  id3858529          2                1        -73.979027        40.763939   \n",
       "3  id3504673          2                1        -74.010040        40.719971   \n",
       "4  id2181028          2                1        -73.973053        40.793209   \n",
       "\n",
       "   dropoff_longitude  dropoff_latitude store_and_fwd_flag  trip_duration  \\\n",
       "0         -73.964630         40.765602                  N            455   \n",
       "1         -73.999481         40.731152                  N            663   \n",
       "2         -74.005333         40.710087                  N           2124   \n",
       "3         -74.012268         40.706718                  N            429   \n",
       "4         -73.972923         40.782520                  N            435   \n",
       "\n",
       "   pick_month  pick_day  pick_hour  ucli_dist  man_dist  \n",
       "0           3        14         17   1.498521  2.248074  \n",
       "1           6        12          0   1.805507  2.997289  \n",
       "2           1        19         11   6.385098  9.073912  \n",
       "3           4         6         19   1.485498  1.752341  \n",
       "4           3        26         13   1.188588  1.224652  "
      ]
     },
     "execution_count": 22,
     "metadata": {},
     "output_type": "execute_result"
    }
   ],
   "source": [
    "train.head()"
   ]
  },
  {
   "cell_type": "markdown",
   "metadata": {},
   "source": [
    "## direction"
   ]
  },
  {
   "cell_type": "code",
   "execution_count": 23,
   "metadata": {},
   "outputs": [],
   "source": [
    "def dir_dist(pickup_lat, pickup_long, dropoff_lat, dropoff_long):\n",
    "\n",
    "    pickup_lat_rads = np.radians(pickup_lat)\n",
    "    pickup_long_rads = np.radians(pickup_long)\n",
    "    dropoff_lat_rads = np.radians(dropoff_lat)\n",
    "    dropoff_long_rads = np.radians(dropoff_long)\n",
    "    long_delta_rads = np.radians(dropoff_long_rads - pickup_long_rads)\n",
    "    \n",
    "    y = np.sin(long_delta_rads) * np.cos(dropoff_lat_rads)\n",
    "    x = (np.cos(pickup_lat_rads) * np.sin(dropoff_lat_rads) - np.sin(pickup_lat_rads) * np.cos(dropoff_lat_rads) * np.cos(long_delta_rads))\n",
    "    \n",
    "    return np.degrees(np.arctan2(y, x))"
   ]
  },
  {
   "cell_type": "code",
   "execution_count": 24,
   "metadata": {},
   "outputs": [],
   "source": [
    "train['dir_dist'] = dir_dist(train.pickup_latitude, train.pickup_longitude, train.dropoff_latitude, train.dropoff_longitude)\n",
    "test['dir_dist'] = dir_dist(test.pickup_latitude, test.pickup_longitude, test.dropoff_latitude, test.dropoff_longitude)"
   ]
  },
  {
   "cell_type": "markdown",
   "metadata": {},
   "source": [
    "# 1.2.c Outlier Removal"
   ]
  },
  {
   "cell_type": "markdown",
   "metadata": {},
   "source": [
    "### qualitative analysis\n",
    "- \n",
    "- \n",
    "- \n",
    "\n",
    "### quantitative analysis\n",
    "- Peirce's criterion\n",
    "- Tukey's fences\n",
    "- In anomaly detection\n",
    "- Modified Thompson Tau test"
   ]
  },
  {
   "cell_type": "markdown",
   "metadata": {},
   "source": [
    "# qualitative analysis"
   ]
  },
  {
   "cell_type": "code",
   "execution_count": 278,
   "metadata": {},
   "outputs": [],
   "source": [
    "# train.loc[train.ucli_distance > 200] = np.nan ##200km 넘는 데이터 제거\n",
    "# train.loc[train.trip_duration > 36000] = np.nan ##40000초(약 11시간)가 넘는 데이터 제거\n",
    "# train.loc[train.passenger_count == 0] = np.NAN   ### passenger 수가 0인 데이터 제거\n",
    "# train.dropna(inplace=True)"
   ]
  },
  {
   "cell_type": "markdown",
   "metadata": {},
   "source": [
    "# 1.2.d.2 Spatial Data Analysis\n",
    "\n",
    "### Types of spatial analysis\n",
    "- FA(factor analysis)\n",
    "    - Euclidean metric = > PCA(principal component analysis)\n",
    "    - Chi-Square distance => Correspondence Analysis (similar to PCA, but better for categrorical data)\n",
    "    - Generalized Mahalanobis distance => Discriminant Analysis \n",
    "\n",
    "- Spatial autocorrelation\n",
    "\n",
    "- Spatial stratified heterogeneity\n",
    "    - geographical detector q-statistic\n",
    "\n",
    "### Spatial dependency or auto-correlation\n",
    "\n",
    "### Scaling\n",
    "\n",
    "### Common errors in spatial analysis\n",
    "- Length\n",
    "- Locational fallacy\n",
    "- Ecological fallacy\n",
    "    - Modifiable areal unit problem\n",
    "        - statistical bias"
   ]
  },
  {
   "cell_type": "markdown",
   "metadata": {},
   "source": [
    "### stack-up coordinates data"
   ]
  },
  {
   "cell_type": "code",
   "execution_count": 26,
   "metadata": {},
   "outputs": [],
   "source": [
    "coord_pick_lat = pd.concat([train['pickup_latitude'], test['pickup_latitude']], axis=0)\n",
    "coord_pick_lon = pd.concat([train['pickup_longitude'], test['pickup_longitude']], axis=0)\n",
    "coord_drop_lat = pd.concat([train['dropoff_latitude'], test['dropoff_latitude']], axis=0)\n",
    "coord_drop_lon = pd.concat([train['dropoff_longitude'], test['dropoff_longitude']], axis=0)\n",
    "\n",
    "coord_lat = pd.concat([coord_pick_lat, coord_drop_lat], axis=1)\n",
    "coord_lon = pd.concat([coord_pick_lon, coord_drop_lon], axis=1)\n",
    "\n",
    "coord_pick = pd.concat([coord_pick_lat, coord_pick_lon], axis=1)\n",
    "coord_drop = pd.concat([coord_drop_lat, coord_drop_lon], axis=1)"
   ]
  },
  {
   "cell_type": "code",
   "execution_count": 27,
   "metadata": {},
   "outputs": [
    {
     "data": {
      "text/html": [
       "<div>\n",
       "<style scoped>\n",
       "    .dataframe tbody tr th:only-of-type {\n",
       "        vertical-align: middle;\n",
       "    }\n",
       "\n",
       "    .dataframe tbody tr th {\n",
       "        vertical-align: top;\n",
       "    }\n",
       "\n",
       "    .dataframe thead th {\n",
       "        text-align: right;\n",
       "    }\n",
       "</style>\n",
       "<table border=\"1\" class=\"dataframe\">\n",
       "  <thead>\n",
       "    <tr style=\"text-align: right;\">\n",
       "      <th></th>\n",
       "      <th>pickup_latitude</th>\n",
       "      <th>pickup_longitude</th>\n",
       "    </tr>\n",
       "  </thead>\n",
       "  <tbody>\n",
       "    <tr>\n",
       "      <th>0</th>\n",
       "      <td>40.767937</td>\n",
       "      <td>-73.982155</td>\n",
       "    </tr>\n",
       "    <tr>\n",
       "      <th>1</th>\n",
       "      <td>40.738564</td>\n",
       "      <td>-73.980415</td>\n",
       "    </tr>\n",
       "    <tr>\n",
       "      <th>2</th>\n",
       "      <td>40.763939</td>\n",
       "      <td>-73.979027</td>\n",
       "    </tr>\n",
       "    <tr>\n",
       "      <th>3</th>\n",
       "      <td>40.719971</td>\n",
       "      <td>-74.010040</td>\n",
       "    </tr>\n",
       "    <tr>\n",
       "      <th>4</th>\n",
       "      <td>40.793209</td>\n",
       "      <td>-73.973053</td>\n",
       "    </tr>\n",
       "  </tbody>\n",
       "</table>\n",
       "</div>"
      ],
      "text/plain": [
       "   pickup_latitude  pickup_longitude\n",
       "0        40.767937        -73.982155\n",
       "1        40.738564        -73.980415\n",
       "2        40.763939        -73.979027\n",
       "3        40.719971        -74.010040\n",
       "4        40.793209        -73.973053"
      ]
     },
     "execution_count": 27,
     "metadata": {},
     "output_type": "execute_result"
    }
   ],
   "source": [
    "coord_pick.head()"
   ]
  },
  {
   "cell_type": "code",
   "execution_count": 28,
   "metadata": {},
   "outputs": [
    {
     "data": {
      "text/plain": [
       "(2083778, 2083778)"
      ]
     },
     "execution_count": 28,
     "metadata": {},
     "output_type": "execute_result"
    }
   ],
   "source": [
    "len(coord_pick_lat), len(coord_lat)"
   ]
  },
  {
   "cell_type": "code",
   "execution_count": 29,
   "metadata": {},
   "outputs": [],
   "source": [
    "coord_lat1 = pd.concat([train['pickup_latitude'], train['dropoff_latitude'], test['pickup_latitude'], test['dropoff_latitude']], axis=0)\n",
    "coord_lon1 = pd.concat([train['pickup_longitude'], train['dropoff_longitude'], test['pickup_longitude'], test['dropoff_longitude']], axis=0)\n",
    "coord_all1 = pd.concat([coord_lat1, coord_lon1], axis=1)\n",
    "coord_all1.columns = ['lat', 'lon']"
   ]
  },
  {
   "cell_type": "code",
   "execution_count": 30,
   "metadata": {},
   "outputs": [
    {
     "data": {
      "text/html": [
       "<div>\n",
       "<style scoped>\n",
       "    .dataframe tbody tr th:only-of-type {\n",
       "        vertical-align: middle;\n",
       "    }\n",
       "\n",
       "    .dataframe tbody tr th {\n",
       "        vertical-align: top;\n",
       "    }\n",
       "\n",
       "    .dataframe thead th {\n",
       "        text-align: right;\n",
       "    }\n",
       "</style>\n",
       "<table border=\"1\" class=\"dataframe\">\n",
       "  <thead>\n",
       "    <tr style=\"text-align: right;\">\n",
       "      <th></th>\n",
       "      <th>lat</th>\n",
       "      <th>lon</th>\n",
       "    </tr>\n",
       "  </thead>\n",
       "  <tbody>\n",
       "    <tr>\n",
       "      <th>0</th>\n",
       "      <td>40.767937</td>\n",
       "      <td>-73.982155</td>\n",
       "    </tr>\n",
       "    <tr>\n",
       "      <th>1</th>\n",
       "      <td>40.738564</td>\n",
       "      <td>-73.980415</td>\n",
       "    </tr>\n",
       "    <tr>\n",
       "      <th>2</th>\n",
       "      <td>40.763939</td>\n",
       "      <td>-73.979027</td>\n",
       "    </tr>\n",
       "    <tr>\n",
       "      <th>3</th>\n",
       "      <td>40.719971</td>\n",
       "      <td>-74.010040</td>\n",
       "    </tr>\n",
       "    <tr>\n",
       "      <th>4</th>\n",
       "      <td>40.793209</td>\n",
       "      <td>-73.973053</td>\n",
       "    </tr>\n",
       "  </tbody>\n",
       "</table>\n",
       "</div>"
      ],
      "text/plain": [
       "         lat        lon\n",
       "0  40.767937 -73.982155\n",
       "1  40.738564 -73.980415\n",
       "2  40.763939 -73.979027\n",
       "3  40.719971 -74.010040\n",
       "4  40.793209 -73.973053"
      ]
     },
     "execution_count": 30,
     "metadata": {},
     "output_type": "execute_result"
    }
   ],
   "source": [
    "coord_all1.head()"
   ]
  },
  {
   "cell_type": "markdown",
   "metadata": {},
   "source": [
    "# coordinates scatter plot"
   ]
  },
  {
   "cell_type": "code",
   "execution_count": 40,
   "metadata": {},
   "outputs": [
    {
     "data": {
      "image/png": "[encoded data removed]",
      "text/plain": [
       "<matplotlib.figure.Figure at 0x7fa0dca92f28>"
      ]
     },
     "metadata": {},
     "output_type": "display_data"
    }
   ],
   "source": [
    "sns.lmplot(x='pickup_latitude', y='pickup_longitude', data=coord_pick, fit_reg=False)\n",
    "plt.ylim(city_lon_border)\n",
    "plt.xlim(city_lat_border)\n",
    "plt.show()"
   ]
  },
  {
   "cell_type": "code",
   "execution_count": 41,
   "metadata": {},
   "outputs": [],
   "source": [
    "# sns.regplot(x=coord_drop_lat, y=coord_drop_lon, fit_reg=False, color=None)\n",
    "# plt.show()"
   ]
  },
  {
   "cell_type": "markdown",
   "metadata": {},
   "source": [
    "# PCA"
   ]
  },
  {
   "cell_type": "code",
   "execution_count": 42,
   "metadata": {},
   "outputs": [],
   "source": [
    "pca = PCA(random_state=0).fit(coord_all1)"
   ]
  },
  {
   "cell_type": "code",
   "execution_count": 43,
   "metadata": {},
   "outputs": [],
   "source": [
    "# train['pca_lat0'] = pca_lat.transform(train[['pickup_latitude']])[:, 0]"
   ]
  },
  {
   "cell_type": "code",
   "execution_count": 44,
   "metadata": {},
   "outputs": [],
   "source": [
    "#PCA\n",
    "train['pickup_pca0'] = pca.transform(train[['pickup_latitude', 'pickup_longitude']])[:, 0]\n",
    "train['pickup_pca1'] = pca.transform(train[['pickup_latitude', 'pickup_longitude']])[:, 1]\n",
    "train['dropoff_pca0'] = pca.transform(train[['dropoff_latitude', 'dropoff_longitude']])[:, 0]\n",
    "train['dropoff_pca1'] = pca.transform(train[['dropoff_latitude', 'dropoff_longitude']])[:, 1]\n",
    "test['pickup_pca0'] = pca.transform(test[['pickup_latitude', 'pickup_longitude']])[:, 0]\n",
    "test['pickup_pca1'] = pca.transform(test[['pickup_latitude', 'pickup_longitude']])[:, 1]\n",
    "test['dropoff_pca0'] = pca.transform(test[['dropoff_latitude', 'dropoff_longitude']])[:, 0]\n",
    "test['dropoff_pca1'] = pca.transform(test[['dropoff_latitude', 'dropoff_longitude']])[:, 1]"
   ]
  },
  {
   "cell_type": "code",
   "execution_count": 45,
   "metadata": {},
   "outputs": [
    {
     "data": {
      "text/html": [
       "<div>\n",
       "<style scoped>\n",
       "    .dataframe tbody tr th:only-of-type {\n",
       "        vertical-align: middle;\n",
       "    }\n",
       "\n",
       "    .dataframe tbody tr th {\n",
       "        vertical-align: top;\n",
       "    }\n",
       "\n",
       "    .dataframe thead th {\n",
       "        text-align: right;\n",
       "    }\n",
       "</style>\n",
       "<table border=\"1\" class=\"dataframe\">\n",
       "  <thead>\n",
       "    <tr style=\"text-align: right;\">\n",
       "      <th></th>\n",
       "      <th>id</th>\n",
       "      <th>vendor_id</th>\n",
       "      <th>passenger_count</th>\n",
       "      <th>pickup_longitude</th>\n",
       "      <th>pickup_latitude</th>\n",
       "      <th>dropoff_longitude</th>\n",
       "      <th>dropoff_latitude</th>\n",
       "      <th>store_and_fwd_flag</th>\n",
       "      <th>trip_duration</th>\n",
       "      <th>pick_month</th>\n",
       "      <th>pick_day</th>\n",
       "      <th>pick_hour</th>\n",
       "      <th>ucli_dist</th>\n",
       "      <th>man_dist</th>\n",
       "      <th>dir_dist</th>\n",
       "      <th>pickup_pca0</th>\n",
       "      <th>pickup_pca1</th>\n",
       "      <th>dropoff_pca0</th>\n",
       "      <th>dropoff_pca1</th>\n",
       "    </tr>\n",
       "  </thead>\n",
       "  <tbody>\n",
       "    <tr>\n",
       "      <th>0</th>\n",
       "      <td>id2875421</td>\n",
       "      <td>2</td>\n",
       "      <td>1</td>\n",
       "      <td>-73.982155</td>\n",
       "      <td>40.767937</td>\n",
       "      <td>-73.964630</td>\n",
       "      <td>40.765602</td>\n",
       "      <td>N</td>\n",
       "      <td>455</td>\n",
       "      <td>3</td>\n",
       "      <td>14</td>\n",
       "      <td>17</td>\n",
       "      <td>1.498521</td>\n",
       "      <td>2.248074</td>\n",
       "      <td>174.333195</td>\n",
       "      <td>0.007691</td>\n",
       "      <td>0.017053</td>\n",
       "      <td>-0.009666</td>\n",
       "      <td>0.013695</td>\n",
       "    </tr>\n",
       "    <tr>\n",
       "      <th>1</th>\n",
       "      <td>id2377394</td>\n",
       "      <td>1</td>\n",
       "      <td>1</td>\n",
       "      <td>-73.980415</td>\n",
       "      <td>40.738564</td>\n",
       "      <td>-73.999481</td>\n",
       "      <td>40.731152</td>\n",
       "      <td>N</td>\n",
       "      <td>663</td>\n",
       "      <td>6</td>\n",
       "      <td>12</td>\n",
       "      <td>0</td>\n",
       "      <td>1.805507</td>\n",
       "      <td>2.997289</td>\n",
       "      <td>-178.051506</td>\n",
       "      <td>0.007677</td>\n",
       "      <td>-0.012371</td>\n",
       "      <td>0.027145</td>\n",
       "      <td>-0.018652</td>\n",
       "    </tr>\n",
       "    <tr>\n",
       "      <th>2</th>\n",
       "      <td>id3858529</td>\n",
       "      <td>2</td>\n",
       "      <td>1</td>\n",
       "      <td>-73.979027</td>\n",
       "      <td>40.763939</td>\n",
       "      <td>-74.005333</td>\n",
       "      <td>40.710087</td>\n",
       "      <td>N</td>\n",
       "      <td>2124</td>\n",
       "      <td>1</td>\n",
       "      <td>19</td>\n",
       "      <td>11</td>\n",
       "      <td>6.385098</td>\n",
       "      <td>9.073912</td>\n",
       "      <td>-179.629721</td>\n",
       "      <td>0.004803</td>\n",
       "      <td>0.012879</td>\n",
       "      <td>0.034222</td>\n",
       "      <td>-0.039337</td>\n",
       "    </tr>\n",
       "    <tr>\n",
       "      <th>3</th>\n",
       "      <td>id3504673</td>\n",
       "      <td>2</td>\n",
       "      <td>1</td>\n",
       "      <td>-74.010040</td>\n",
       "      <td>40.719971</td>\n",
       "      <td>-74.012268</td>\n",
       "      <td>40.706718</td>\n",
       "      <td>N</td>\n",
       "      <td>429</td>\n",
       "      <td>4</td>\n",
       "      <td>6</td>\n",
       "      <td>19</td>\n",
       "      <td>1.485498</td>\n",
       "      <td>1.752341</td>\n",
       "      <td>-179.872566</td>\n",
       "      <td>0.038342</td>\n",
       "      <td>-0.029194</td>\n",
       "      <td>0.041343</td>\n",
       "      <td>-0.042293</td>\n",
       "    </tr>\n",
       "    <tr>\n",
       "      <th>4</th>\n",
       "      <td>id2181028</td>\n",
       "      <td>2</td>\n",
       "      <td>1</td>\n",
       "      <td>-73.973053</td>\n",
       "      <td>40.793209</td>\n",
       "      <td>-73.972923</td>\n",
       "      <td>40.782520</td>\n",
       "      <td>N</td>\n",
       "      <td>435</td>\n",
       "      <td>3</td>\n",
       "      <td>26</td>\n",
       "      <td>13</td>\n",
       "      <td>1.188588</td>\n",
       "      <td>1.224652</td>\n",
       "      <td>179.990812</td>\n",
       "      <td>-0.002877</td>\n",
       "      <td>0.041749</td>\n",
       "      <td>-0.002380</td>\n",
       "      <td>0.031071</td>\n",
       "    </tr>\n",
       "  </tbody>\n",
       "</table>\n",
       "</div>"
      ],
      "text/plain": [
       "          id  vendor_id  passenger_count  pickup_longitude  pickup_latitude  \\\n",
       "0  id2875421          2                1        -73.982155        40.767937   \n",
       "1  id2377394          1                1        -73.980415        40.738564   \n",
       "2  id3858529          2                1        -73.979027        40.763939   \n",
       "3  id3504673          2                1        -74.010040        40.719971   \n",
       "4  id2181028          2                1        -73.973053        40.793209   \n",
       "\n",
       "   dropoff_longitude  dropoff_latitude store_and_fwd_flag  trip_duration  \\\n",
       "0         -73.964630         40.765602                  N            455   \n",
       "1         -73.999481         40.731152                  N            663   \n",
       "2         -74.005333         40.710087                  N           2124   \n",
       "3         -74.012268         40.706718                  N            429   \n",
       "4         -73.972923         40.782520                  N            435   \n",
       "\n",
       "   pick_month  pick_day  pick_hour  ucli_dist  man_dist    dir_dist  \\\n",
       "0           3        14         17   1.498521  2.248074  174.333195   \n",
       "1           6        12          0   1.805507  2.997289 -178.051506   \n",
       "2           1        19         11   6.385098  9.073912 -179.629721   \n",
       "3           4         6         19   1.485498  1.752341 -179.872566   \n",
       "4           3        26         13   1.188588  1.224652  179.990812   \n",
       "\n",
       "   pickup_pca0  pickup_pca1  dropoff_pca0  dropoff_pca1  \n",
       "0     0.007691     0.017053     -0.009666      0.013695  \n",
       "1     0.007677    -0.012371      0.027145     -0.018652  \n",
       "2     0.004803     0.012879      0.034222     -0.039337  \n",
       "3     0.038342    -0.029194      0.041343     -0.042293  \n",
       "4    -0.002877     0.041749     -0.002380      0.031071  "
      ]
     },
     "execution_count": 45,
     "metadata": {},
     "output_type": "execute_result"
    }
   ],
   "source": [
    "train.head()"
   ]
  },
  {
   "cell_type": "markdown",
   "metadata": {},
   "source": [
    "# 1.2.d.3 Clustering\n",
    "- K means\n",
    "- DBSCAN\n",
    "- SpectralClustering\n",
    "- Meanshift"
   ]
  },
  {
   "cell_type": "markdown",
   "metadata": {},
   "source": [
    "# Gaussian Mixture"
   ]
  },
  {
   "cell_type": "code",
   "execution_count": 49,
   "metadata": {},
   "outputs": [],
   "source": [
    "from sklearn.mixture import GaussianMixture"
   ]
  },
  {
   "cell_type": "code",
   "execution_count": 50,
   "metadata": {},
   "outputs": [],
   "source": [
    "gaus_pick = GaussianMixture(n_components=30).fit(coord_pick)\n",
    "gaus_drop = GaussianMixture(n_components=30).fit(coord_drop)"
   ]
  },
  {
   "cell_type": "code",
   "execution_count": 51,
   "metadata": {},
   "outputs": [],
   "source": [
    "train['gaus_pick'] = gaus_pick.predict(train[['pickup_latitude', 'pickup_longitude']])\n",
    "test['gaus_pick'] = gaus_pick.predict(test[['pickup_latitude', 'pickup_longitude']])\n",
    "train['gaus_drop'] = gaus_drop.predict(train[['dropoff_latitude', 'dropoff_longitude']])\n",
    "test['gaus_drop'] = gaus_drop.predict(test[['dropoff_latitude', 'dropoff_longitude']])"
   ]
  },
  {
   "cell_type": "markdown",
   "metadata": {},
   "source": [
    "# Gaussian mixture cross validation score (per-sample average log-likelihood)"
   ]
  },
  {
   "cell_type": "code",
   "execution_count": 55,
   "metadata": {},
   "outputs": [],
   "source": [
    "X_train1, X_test1 = train_test_split(coord_pick, test_size=0.25, random_state=0)\n",
    "X_train2, X_test2 = train_test_split(coord_drop, test_size=0.25, random_state=0)"
   ]
  },
  {
   "cell_type": "code",
   "execution_count": 58,
   "metadata": {},
   "outputs": [],
   "source": [
    "score1 = GaussianMixture(n_components=5, random_state=0).fit(X_train1)\n",
    "score2 = GaussianMixture(n_components=10, random_state=0).fit(X_train1)\n",
    "score3 = GaussianMixture(n_components=20, random_state=0).fit(X_train1)\n",
    "score4 = GaussianMixture(n_components=30, random_state=0).fit(X_train1)\n",
    "score5 = GaussianMixture(n_components=40, random_state=0).fit(X_train1)\n",
    "score6 = GaussianMixture(n_components=50, random_state=0).fit(X_train1)"
   ]
  },
  {
   "cell_type": "code",
   "execution_count": 59,
   "metadata": {},
   "outputs": [
    {
     "data": {
      "text/plain": [
       "(5.131486226147653,\n",
       " 5.329233407224287,\n",
       " 5.460516405025573,\n",
       " 5.493898199676078,\n",
       " 5.510537865860641,\n",
       " 5.5237474187352475)"
      ]
     },
     "execution_count": 59,
     "metadata": {},
     "output_type": "execute_result"
    }
   ],
   "source": [
    "score1.score(X_train1, X_test1), score2.score(X_train1, X_test1),  score3.score(X_train1, X_test1), score4.score(X_train1, X_test1), score5.score(X_train1, X_test1), score6.score(X_train1, X_test1)"
   ]
  },
  {
   "cell_type": "markdown",
   "metadata": {},
   "source": [
    "# K means"
   ]
  },
  {
   "cell_type": "code",
   "execution_count": 52,
   "metadata": {},
   "outputs": [],
   "source": [
    "kmean_pick = MiniBatchKMeans(n_clusters=30, random_state=0).fit(coord_pick)\n",
    "kmean_drop = MiniBatchKMeans(n_clusters=30, random_state=0).fit(coord_drop)"
   ]
  },
  {
   "cell_type": "code",
   "execution_count": 53,
   "metadata": {},
   "outputs": [],
   "source": [
    "train['kmean_pick'] = kmean_pick.predict(train[['pickup_latitude', 'pickup_longitude']])\n",
    "test['kmean_pick'] = kmean_pick.predict(test[['pickup_latitude', 'pickup_longitude']])\n",
    "train['kmean_drop'] = kmean_drop.predict(train[['dropoff_latitude', 'dropoff_longitude']])\n",
    "test['kmean_drop'] = kmean_drop.predict(test[['dropoff_latitude', 'dropoff_longitude']])"
   ]
  },
  {
   "cell_type": "markdown",
   "metadata": {},
   "source": [
    "# K means cross validation score (inertia_) "
   ]
  },
  {
   "cell_type": "code",
   "execution_count": 214,
   "metadata": {},
   "outputs": [],
   "source": [
    "X_train1, X_test1 = train_test_split(coord_pick, test_size=0.25, random_state=0)\n",
    "X_train2, X_test2 = train_test_split(coord_drop, test_size=0.25, random_state=0)"
   ]
  },
  {
   "cell_type": "code",
   "execution_count": 218,
   "metadata": {},
   "outputs": [],
   "source": [
    "score1 = MiniBatchKMeans(n_clusters=5, random_state=0).fit(X_train1)\n",
    "score2 = MiniBatchKMeans(n_clusters=10, random_state=0).fit(X_train1)\n",
    "score3 = MiniBatchKMeans(n_clusters=20, random_state=0).fit(X_train1)\n",
    "score4 = MiniBatchKMeans(n_clusters=30, random_state=0).fit(X_train1)\n",
    "score5 = MiniBatchKMeans(n_clusters=40, random_state=0).fit(X_train1)\n",
    "score6 = MiniBatchKMeans(n_clusters=50, random_state=0).fit(X_train1)\n",
    "score7 = MiniBatchKMeans(n_clusters=100, random_state=0).fit(X_train1)\n",
    "score8 = MiniBatchKMeans(n_clusters=200, random_state=0).fit(X_train1)\n",
    "score8 = MiniBatchKMeans(n_clusters=300, random_state=0).fit(X_train1)\n",
    "score8 = MiniBatchKMeans(n_clusters=400, random_state=0).fit(X_train1)\n",
    "score8 = MiniBatchKMeans(n_clusters=500, random_state=0).fit(X_train1)"
   ]
  },
  {
   "cell_type": "code",
   "execution_count": 224,
   "metadata": {},
   "outputs": [
    {
     "data": {
      "text/plain": [
       "(-6049.160484687791,\n",
       " -5853.592739393531,\n",
       " -5730.636842057954,\n",
       " -5688.54319373489,\n",
       " -5476.555504439609,\n",
       " -5667.0187778457375,\n",
       " -5638.782678870173,\n",
       " -5106.932500816945)"
      ]
     },
     "execution_count": 224,
     "metadata": {},
     "output_type": "execute_result"
    }
   ],
   "source": [
    "score1.score(X_train1, X_test1), score2.score(X_train1, X_test1),  score3.score(X_train1, X_test1), score4.score(X_train1, X_test1), score5.score(X_train1, X_test1), score6.score(X_train1, X_test1), score7.score(X_train1, X_test1), score8.score(X_train1, X_test1)"
   ]
  },
  {
   "cell_type": "markdown",
   "metadata": {},
   "source": [
    "# 3. Modeling"
   ]
  },
  {
   "cell_type": "markdown",
   "metadata": {},
   "source": [
    "# evaluation metric\n",
    "\n",
    "[Root Mean Squared Logarithmic Error](https://www.kaggle.com/wiki/RootMeanSquaredLogarithmicError)\n",
    "\n",
    "$\\epsilon = \\sqrt{\\frac{1}{n} \\sum_{i=1}^n (\\log(p_i + 1) - \\log(a_i+1))^2 }$\n",
    "\n",
    "Where:\n",
    "- ϵ is the RMSLE value (score)\n",
    "\n",
    "- n is the total number of observations in the (public/private) data set,\n",
    "\n",
    "- pi is your prediction of trip duration, and\n",
    "- ai is the actual trip duration for i. \n",
    "- log(x) is the natural logarithm of x"
   ]
  },
  {
   "cell_type": "markdown",
   "metadata": {},
   "source": [
    "### data type manipulation\n",
    "- categorical data convert encoding"
   ]
  },
  {
   "cell_type": "code",
   "execution_count": 62,
   "metadata": {},
   "outputs": [],
   "source": [
    "train['store_and_fwd_flag'] = 1 * (train.store_and_fwd_flag.values == 'Y')\n",
    "test['store_and_fwd_flag'] = 1 * (test.store_and_fwd_flag.values == 'Y')\n",
    "train['vendor_id'] = 1 * (train.vendor_id.values == 1)\n",
    "test['vendor_id'] = 1 * (test.vendor_id.values == 1)"
   ]
  },
  {
   "cell_type": "code",
   "execution_count": 63,
   "metadata": {},
   "outputs": [],
   "source": [
    "train = train.drop('id', axis=1)\n",
    "test = test.drop('id', axis=1)"
   ]
  },
  {
   "cell_type": "code",
   "execution_count": null,
   "metadata": {},
   "outputs": [],
   "source": [
    "# train = Normalizer().fit_transform(train)\n",
    "# test = Normalizer().fit_transform(test)"
   ]
  },
  {
   "cell_type": "code",
   "execution_count": 296,
   "metadata": {},
   "outputs": [],
   "source": [
    "# train = pd.get_dummies(train)\n",
    "# test = pd.get_dummies(test)"
   ]
  },
  {
   "cell_type": "code",
   "execution_count": 298,
   "metadata": {},
   "outputs": [
    {
     "name": "stdout",
     "output_type": "stream",
     "text": [
      "<class 'pandas.core.frame.DataFrame'>\n",
      "RangeIndex: 1458644 entries, 0 to 1458643\n",
      "Data columns (total 22 columns):\n",
      "vendor_id             1458644 non-null int64\n",
      "passenger_count       1458644 non-null int64\n",
      "pickup_longitude      1458644 non-null float64\n",
      "pickup_latitude       1458644 non-null float64\n",
      "dropoff_longitude     1458644 non-null float64\n",
      "dropoff_latitude      1458644 non-null float64\n",
      "store_and_fwd_flag    1458644 non-null int64\n",
      "trip_duration         1458644 non-null int64\n",
      "pick_month            1458644 non-null int64\n",
      "pick_day              1458644 non-null int64\n",
      "pick_hour             1458644 non-null int64\n",
      "pick_min              1458644 non-null int64\n",
      "pick_sec              1458644 non-null int64\n",
      "ucli_dist             1458644 non-null float64\n",
      "man_dist              1458644 non-null float64\n",
      "dir_dist              1458644 non-null float64\n",
      "pickup_pca0           1458644 non-null float64\n",
      "pickup_pca1           1458644 non-null float64\n",
      "dropoff_pca0          1458644 non-null float64\n",
      "dropoff_pca1          1458644 non-null float64\n",
      "kmean_pick            1458644 non-null int32\n",
      "kmean_drop            1458644 non-null int32\n",
      "dtypes: float64(11), int32(2), int64(9)\n",
      "memory usage: 233.7 MB\n"
     ]
    }
   ],
   "source": [
    "train.info()"
   ]
  },
  {
   "cell_type": "code",
   "execution_count": 299,
   "metadata": {},
   "outputs": [
    {
     "name": "stdout",
     "output_type": "stream",
     "text": [
      "<class 'pandas.core.frame.DataFrame'>\n",
      "RangeIndex: 625134 entries, 0 to 625133\n",
      "Data columns (total 21 columns):\n",
      "vendor_id             625134 non-null int64\n",
      "passenger_count       625134 non-null int64\n",
      "pickup_longitude      625134 non-null float64\n",
      "pickup_latitude       625134 non-null float64\n",
      "dropoff_longitude     625134 non-null float64\n",
      "dropoff_latitude      625134 non-null float64\n",
      "store_and_fwd_flag    625134 non-null int64\n",
      "pick_month            625134 non-null int64\n",
      "pick_day              625134 non-null int64\n",
      "pick_hour             625134 non-null int64\n",
      "pick_min              625134 non-null int64\n",
      "pick_sec              625134 non-null int64\n",
      "ucli_dist             625134 non-null float64\n",
      "man_dist              625134 non-null float64\n",
      "dir_dist              625134 non-null float64\n",
      "pickup_pca0           625134 non-null float64\n",
      "pickup_pca1           625134 non-null float64\n",
      "dropoff_pca0          625134 non-null float64\n",
      "dropoff_pca1          625134 non-null float64\n",
      "kmean_pick            625134 non-null int32\n",
      "kmean_drop            625134 non-null int32\n",
      "dtypes: float64(11), int32(2), int64(8)\n",
      "memory usage: 95.4 MB\n"
     ]
    }
   ],
   "source": [
    "test.info()"
   ]
  },
  {
   "cell_type": "code",
   "execution_count": 339,
   "metadata": {},
   "outputs": [
    {
     "data": {
      "text/html": [
       "<div>\n",
       "<style scoped>\n",
       "    .dataframe tbody tr th:only-of-type {\n",
       "        vertical-align: middle;\n",
       "    }\n",
       "\n",
       "    .dataframe tbody tr th {\n",
       "        vertical-align: top;\n",
       "    }\n",
       "\n",
       "    .dataframe thead th {\n",
       "        text-align: right;\n",
       "    }\n",
       "</style>\n",
       "<table border=\"1\" class=\"dataframe\">\n",
       "  <thead>\n",
       "    <tr style=\"text-align: right;\">\n",
       "      <th></th>\n",
       "      <th>vendor_id</th>\n",
       "      <th>passenger_count</th>\n",
       "      <th>pickup_longitude</th>\n",
       "      <th>pickup_latitude</th>\n",
       "      <th>dropoff_longitude</th>\n",
       "      <th>dropoff_latitude</th>\n",
       "      <th>store_and_fwd_flag</th>\n",
       "      <th>pick_month</th>\n",
       "      <th>pick_day</th>\n",
       "      <th>pick_hour</th>\n",
       "      <th>...</th>\n",
       "      <th>pick_sec</th>\n",
       "      <th>ucli_dist</th>\n",
       "      <th>man_dist</th>\n",
       "      <th>dir_dist</th>\n",
       "      <th>pickup_pca0</th>\n",
       "      <th>pickup_pca1</th>\n",
       "      <th>dropoff_pca0</th>\n",
       "      <th>dropoff_pca1</th>\n",
       "      <th>kmean_pick</th>\n",
       "      <th>kmean_drop</th>\n",
       "    </tr>\n",
       "  </thead>\n",
       "  <tbody>\n",
       "    <tr>\n",
       "      <th>0</th>\n",
       "      <td>0</td>\n",
       "      <td>1</td>\n",
       "      <td>-73.982155</td>\n",
       "      <td>40.767937</td>\n",
       "      <td>-73.964630</td>\n",
       "      <td>40.765602</td>\n",
       "      <td>0</td>\n",
       "      <td>3</td>\n",
       "      <td>14</td>\n",
       "      <td>17</td>\n",
       "      <td>...</td>\n",
       "      <td>55</td>\n",
       "      <td>1.498521</td>\n",
       "      <td>22.480743</td>\n",
       "      <td>174.333195</td>\n",
       "      <td>0.007691</td>\n",
       "      <td>0.017053</td>\n",
       "      <td>-0.009666</td>\n",
       "      <td>0.013695</td>\n",
       "      <td>31</td>\n",
       "      <td>58</td>\n",
       "    </tr>\n",
       "    <tr>\n",
       "      <th>1</th>\n",
       "      <td>1</td>\n",
       "      <td>1</td>\n",
       "      <td>-73.980415</td>\n",
       "      <td>40.738564</td>\n",
       "      <td>-73.999481</td>\n",
       "      <td>40.731152</td>\n",
       "      <td>0</td>\n",
       "      <td>6</td>\n",
       "      <td>12</td>\n",
       "      <td>0</td>\n",
       "      <td>...</td>\n",
       "      <td>35</td>\n",
       "      <td>1.805507</td>\n",
       "      <td>29.972885</td>\n",
       "      <td>-178.051506</td>\n",
       "      <td>0.007677</td>\n",
       "      <td>-0.012371</td>\n",
       "      <td>0.027145</td>\n",
       "      <td>-0.018652</td>\n",
       "      <td>87</td>\n",
       "      <td>95</td>\n",
       "    </tr>\n",
       "    <tr>\n",
       "      <th>2</th>\n",
       "      <td>0</td>\n",
       "      <td>1</td>\n",
       "      <td>-73.979027</td>\n",
       "      <td>40.763939</td>\n",
       "      <td>-74.005333</td>\n",
       "      <td>40.710087</td>\n",
       "      <td>0</td>\n",
       "      <td>1</td>\n",
       "      <td>19</td>\n",
       "      <td>11</td>\n",
       "      <td>...</td>\n",
       "      <td>24</td>\n",
       "      <td>6.385098</td>\n",
       "      <td>90.739120</td>\n",
       "      <td>-179.629721</td>\n",
       "      <td>0.004803</td>\n",
       "      <td>0.012879</td>\n",
       "      <td>0.034222</td>\n",
       "      <td>-0.039337</td>\n",
       "      <td>88</td>\n",
       "      <td>18</td>\n",
       "    </tr>\n",
       "    <tr>\n",
       "      <th>3</th>\n",
       "      <td>0</td>\n",
       "      <td>1</td>\n",
       "      <td>-74.010040</td>\n",
       "      <td>40.719971</td>\n",
       "      <td>-74.012268</td>\n",
       "      <td>40.706718</td>\n",
       "      <td>0</td>\n",
       "      <td>4</td>\n",
       "      <td>6</td>\n",
       "      <td>19</td>\n",
       "      <td>...</td>\n",
       "      <td>31</td>\n",
       "      <td>1.485498</td>\n",
       "      <td>17.523407</td>\n",
       "      <td>-179.872566</td>\n",
       "      <td>0.038342</td>\n",
       "      <td>-0.029194</td>\n",
       "      <td>0.041343</td>\n",
       "      <td>-0.042293</td>\n",
       "      <td>8</td>\n",
       "      <td>49</td>\n",
       "    </tr>\n",
       "    <tr>\n",
       "      <th>4</th>\n",
       "      <td>0</td>\n",
       "      <td>1</td>\n",
       "      <td>-73.973053</td>\n",
       "      <td>40.793209</td>\n",
       "      <td>-73.972923</td>\n",
       "      <td>40.782520</td>\n",
       "      <td>0</td>\n",
       "      <td>3</td>\n",
       "      <td>26</td>\n",
       "      <td>13</td>\n",
       "      <td>...</td>\n",
       "      <td>55</td>\n",
       "      <td>1.188588</td>\n",
       "      <td>12.246521</td>\n",
       "      <td>179.990812</td>\n",
       "      <td>-0.002877</td>\n",
       "      <td>0.041749</td>\n",
       "      <td>-0.002380</td>\n",
       "      <td>0.031071</td>\n",
       "      <td>77</td>\n",
       "      <td>41</td>\n",
       "    </tr>\n",
       "  </tbody>\n",
       "</table>\n",
       "<p>5 rows × 21 columns</p>\n",
       "</div>"
      ],
      "text/plain": [
       "   vendor_id  passenger_count  pickup_longitude  pickup_latitude  \\\n",
       "0          0                1        -73.982155        40.767937   \n",
       "1          1                1        -73.980415        40.738564   \n",
       "2          0                1        -73.979027        40.763939   \n",
       "3          0                1        -74.010040        40.719971   \n",
       "4          0                1        -73.973053        40.793209   \n",
       "\n",
       "   dropoff_longitude  dropoff_latitude  store_and_fwd_flag  pick_month  \\\n",
       "0         -73.964630         40.765602                   0           3   \n",
       "1         -73.999481         40.731152                   0           6   \n",
       "2         -74.005333         40.710087                   0           1   \n",
       "3         -74.012268         40.706718                   0           4   \n",
       "4         -73.972923         40.782520                   0           3   \n",
       "\n",
       "   pick_day  pick_hour     ...      pick_sec  ucli_dist   man_dist  \\\n",
       "0        14         17     ...            55   1.498521  22.480743   \n",
       "1        12          0     ...            35   1.805507  29.972885   \n",
       "2        19         11     ...            24   6.385098  90.739120   \n",
       "3         6         19     ...            31   1.485498  17.523407   \n",
       "4        26         13     ...            55   1.188588  12.246521   \n",
       "\n",
       "     dir_dist  pickup_pca0  pickup_pca1  dropoff_pca0  dropoff_pca1  \\\n",
       "0  174.333195     0.007691     0.017053     -0.009666      0.013695   \n",
       "1 -178.051506     0.007677    -0.012371      0.027145     -0.018652   \n",
       "2 -179.629721     0.004803     0.012879      0.034222     -0.039337   \n",
       "3 -179.872566     0.038342    -0.029194      0.041343     -0.042293   \n",
       "4  179.990812    -0.002877     0.041749     -0.002380      0.031071   \n",
       "\n",
       "   kmean_pick  kmean_drop  \n",
       "0          31          58  \n",
       "1          87          95  \n",
       "2          88          18  \n",
       "3           8          49  \n",
       "4          77          41  \n",
       "\n",
       "[5 rows x 21 columns]"
      ]
     },
     "execution_count": 339,
     "metadata": {},
     "output_type": "execute_result"
    }
   ],
   "source": [
    "X_train.head()"
   ]
  },
  {
   "cell_type": "code",
   "execution_count": 338,
   "metadata": {},
   "outputs": [],
   "source": [
    "X_train = train.drop(['trip_duration'], axis=1)\n",
    "y_train = train['trip_duration']\n",
    "y_log = np.log(y_train)"
   ]
  },
  {
   "cell_type": "markdown",
   "metadata": {},
   "source": [
    "# lightgbm"
   ]
  },
  {
   "cell_type": "code",
   "execution_count": 329,
   "metadata": {},
   "outputs": [],
   "source": [
    "model = lgb.LGBMRegressor().fit(X_train, y_train)"
   ]
  },
  {
   "cell_type": "code",
   "execution_count": 330,
   "metadata": {},
   "outputs": [],
   "source": [
    "y_pred = model.predict(test)"
   ]
  },
  {
   "cell_type": "code",
   "execution_count": 331,
   "metadata": {},
   "outputs": [
    {
     "name": "stdout",
     "output_type": "stream",
     "text": [
      "Warning: Your Kaggle API key is readable by other users on this system! To fix this, you can run 'chmod 600 /home/jk/.kaggle/kaggle.json'\r\n",
      "Successfully submitted to New York City Taxi Trip Duration"
     ]
    }
   ],
   "source": [
    "sub = pd.DataFrame(columns= ['id', 'trip_duration'])\n",
    "sub['id'] = sample_submission[\"id\"]\n",
    "sub['trip_duration'] = y_pred\n",
    "sub.to_csv('sub_lgb.csv',index=False)\n",
    "\n",
    "!kaggle competitions submit -c nyc-taxi-trip-duration -f sub_lgb.csv -m \"Message\""
   ]
  },
  {
   "cell_type": "code",
   "execution_count": 332,
   "metadata": {},
   "outputs": [],
   "source": [
    "model_log = lgb.LGBMRegressor().fit(X_train, y_log)"
   ]
  },
  {
   "cell_type": "code",
   "execution_count": 333,
   "metadata": {},
   "outputs": [],
   "source": [
    "y_pred = model_log.predict(test)"
   ]
  },
  {
   "cell_type": "code",
   "execution_count": 334,
   "metadata": {},
   "outputs": [
    {
     "name": "stdout",
     "output_type": "stream",
     "text": [
      "Warning: Your Kaggle API key is readable by other users on this system! To fix this, you can run 'chmod 600 /home/jk/.kaggle/kaggle.json'\r\n",
      "Successfully submitted to New York City Taxi Trip Duration"
     ]
    }
   ],
   "source": [
    "y_exp = np.exp(y_pred)\n",
    "\n",
    "sub = pd.DataFrame(columns= ['id', 'trip_duration'])\n",
    "sub['id'] = sample_submission[\"id\"]\n",
    "sub['trip_duration'] = y_exp\n",
    "sub.to_csv('sub_lgb_exp.csv',index=False)\n",
    "\n",
    "!kaggle competitions submit -c nyc-taxi-trip-duration -f sub_lgb_exp.csv -m \"Message\""
   ]
  },
  {
   "cell_type": "code",
   "execution_count": 335,
   "metadata": {},
   "outputs": [
    {
     "data": {
      "text/plain": [
       "<matplotlib.axes._subplots.AxesSubplot at 0x7fbbbc5b90f0>"
      ]
     },
     "execution_count": 335,
     "metadata": {},
     "output_type": "execute_result"
    },
    {
     "data": {
      "image/png": "[encoded data removed]",
      "text/plain": [
       "<matplotlib.figure.Figure at 0x7fbba6226400>"
      ]
     },
     "metadata": {},
     "output_type": "display_data"
    }
   ],
   "source": [
    "lgb.plot_importance(model)"
   ]
  },
  {
   "cell_type": "code",
   "execution_count": 336,
   "metadata": {},
   "outputs": [
    {
     "data": {
      "text/plain": [
       "<matplotlib.axes._subplots.AxesSubplot at 0x7fbbbaa7ec18>"
      ]
     },
     "execution_count": 336,
     "metadata": {},
     "output_type": "execute_result"
    },
    {
     "data": {
      "image/png": "[encoded data removed]",
      "text/plain": [
       "<matplotlib.figure.Figure at 0x7fbc24980cc0>"
      ]
     },
     "metadata": {},
     "output_type": "display_data"
    }
   ],
   "source": [
    "lgb.plot_importance(model_log)"
   ]
  },
  {
   "cell_type": "code",
   "execution_count": 341,
   "metadata": {},
   "outputs": [],
   "source": [
    "from sklearn.cross_validation import cross_val_score"
   ]
  },
  {
   "cell_type": "code",
   "execution_count": null,
   "metadata": {},
   "outputs": [],
   "source": [
    "cross_lgb = cross_val_score(model, X_train, y, cv=2, n_jobs=-1)\n",
    "cross_lgb"
   ]
  },
  {
   "cell_type": "code",
   "execution_count": null,
   "metadata": {},
   "outputs": [],
   "source": []
  },
  {
   "cell_type": "code",
   "execution_count": null,
   "metadata": {},
   "outputs": [],
   "source": []
  },
  {
   "cell_type": "code",
   "execution_count": null,
   "metadata": {},
   "outputs": [],
   "source": []
  },
  {
   "cell_type": "code",
   "execution_count": null,
   "metadata": {},
   "outputs": [],
   "source": [
    "X_train = train.drop(labels = [\"trip_duration\",\"trip_sec\", \"pickup_datetime\"], axis=1)\n",
    "Y_train = train[\"trip_duration\"]\n",
    "X_test  = test.drop(labels = [\"pickup_datetime\"], axis=1).copy()\n",
    "X_train.shape, Y_train.shape, X_test.shape"
   ]
  },
  {
   "cell_type": "code",
   "execution_count": null,
   "metadata": {},
   "outputs": [],
   "source": [
    "import statsmodels.api as sm"
   ]
  },
  {
   "cell_type": "code",
   "execution_count": null,
   "metadata": {},
   "outputs": [],
   "source": [
    "OLS_model = sm.OLS(Y_train, X_train).fit()\n",
    "print(OLS_model.summary())"
   ]
  },
  {
   "cell_type": "code",
   "execution_count": null,
   "metadata": {},
   "outputs": [],
   "source": [
    "Y_test = OLS_model.predict(X_test)\n",
    "Y_test.head(), len(Y_test)\n",
    "\n",
    "sub = pd.DataFrame(columns= ['id', 'trip_duration'])\n",
    "sub['id'] = sample_submission[\"id\"]\n",
    "sub['trip_duration'] = Y_test\n",
    "sub.to_csv('submission_OLS.csv',index=False)"
   ]
  },
  {
   "cell_type": "code",
   "execution_count": null,
   "metadata": {},
   "outputs": [],
   "source": []
  },
  {
   "cell_type": "code",
   "execution_count": null,
   "metadata": {},
   "outputs": [],
   "source": []
  },
  {
   "cell_type": "markdown",
   "metadata": {},
   "source": [
    "# Appendix"
   ]
  },
  {
   "cell_type": "markdown",
   "metadata": {},
   "source": [
    "### 1. degree of decimal\n",
    "- 0.000001 = 1.11mm\n",
    "\n",
    "### 2. spatial data analysis\n",
    "- PCA\n",
    "- discriminant analysis\n",
    "\n",
    "### 3. clustering\n",
    "- K means\n",
    "- K nearest neighbor\n",
    "- Expectation Maximization\n",
    "\n",
    "### 4. ensemble methods\n",
    "- aggregation\n",
    "- boosting"
   ]
  },
  {
   "cell_type": "code",
   "execution_count": null,
   "metadata": {},
   "outputs": [],
   "source": []
  },
  {
   "cell_type": "markdown",
   "metadata": {},
   "source": [
    "# decision tree"
   ]
  },
  {
   "cell_type": "code",
   "execution_count": 306,
   "metadata": {},
   "outputs": [],
   "source": [
    "from sklearn.tree import DecisionTreeRegressor"
   ]
  },
  {
   "cell_type": "code",
   "execution_count": null,
   "metadata": {},
   "outputs": [],
   "source": [
    "model_dt=DecisionTreeRegressor(max_depth=4).fit(X_train,Y_train)"
   ]
  },
  {
   "cell_type": "code",
   "execution_count": null,
   "metadata": {},
   "outputs": [],
   "source": [
    "y_tree = model_dt.predict(X_test)\n",
    "\n",
    "sub = pd.DataFrame(columns= ['id', 'trip_duration'])\n",
    "sub['id'] = sample_submission[\"id\"]\n",
    "sub['trip_duration'] = y_tree\n",
    "sub.to_csv('submission_tree.csv',index=False)"
   ]
  },
  {
   "cell_type": "markdown",
   "metadata": {},
   "source": [
    "# random forest"
   ]
  },
  {
   "cell_type": "code",
   "execution_count": null,
   "metadata": {},
   "outputs": [],
   "source": [
    "from sklearn.ensemble import RandomForestRegressor"
   ]
  },
  {
   "cell_type": "code",
   "execution_count": null,
   "metadata": {},
   "outputs": [],
   "source": [
    "model_rnd_frst=RandomForestRegressor(max_depth=4, n_jobs=4)\n",
    "model_rnd_frst.fit(X_train, Y_train)"
   ]
  },
  {
   "cell_type": "code",
   "execution_count": null,
   "metadata": {},
   "outputs": [],
   "source": [
    "y_random = model_rnd_frst.predict(X_test)\n",
    "\n",
    "sub = pd.DataFrame(columns= ['id', 'trip_duration'])\n",
    "sub['id'] = sample_submission[\"id\"]\n",
    "sub['trip_duration'] = y_random\n",
    "sub.to_csv('submission_random.csv',index=False)"
   ]
  },
  {
   "cell_type": "markdown",
   "metadata": {},
   "source": [
    "# XGBoost"
   ]
  },
  {
   "cell_type": "code",
   "execution_count": 312,
   "metadata": {},
   "outputs": [],
   "source": [
    "import xgboost as xgb"
   ]
  },
  {
   "cell_type": "code",
   "execution_count": null,
   "metadata": {},
   "outputs": [],
   "source": [
    "model_xgb = xgb.XGBRegressor(max_depth=15, n_jobs=4, reg_alpha=0.5, reg_lambda=0.5, random_state=0).fit(X_train, Y_train)"
   ]
  },
  {
   "cell_type": "code",
   "execution_count": null,
   "metadata": {},
   "outputs": [],
   "source": [
    "y_xgb = model_xgb.predict(X_test)\n",
    "\n",
    "sub = pd.DataFrame(columns= ['id', 'trip_duration'])\n",
    "sub['id'] = sample_submission[\"id\"]\n",
    "sub['trip_duration'] = y_xgb\n",
    "sub.to_csv('submission_xgb.csv',index=False)\n",
    "#0.42123"
   ]
  },
  {
   "cell_type": "code",
   "execution_count": null,
   "metadata": {},
   "outputs": [],
   "source": [
    "model_xgb = xgb.train()"
   ]
  }
 ],
 "metadata": {
  "kernelspec": {
   "display_name": "Python 3",
   "language": "python",
   "name": "python3"
  },
  "language_info": {
   "codemirror_mode": {
    "name": "ipython",
    "version": 3
   },
   "file_extension": ".py",
   "mimetype": "text/x-python",
   "name": "python",
   "nbconvert_exporter": "python",
   "pygments_lexer": "ipython3",
   "version": "3.6.3"
  }
 },
 "nbformat": 4,
 "nbformat_minor": 2
}
