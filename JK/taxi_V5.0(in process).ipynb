{
 "cells": [
  {
   "cell_type": "markdown",
   "metadata": {},
   "source": [
    "# Kaggle : New York City Taxi Trip Duration"
   ]
  },
  {
   "cell_type": "markdown",
   "metadata": {},
   "source": [
    "<img src=\"taxi.png\">"
   ]
  },
  {
   "cell_type": "markdown",
   "metadata": {},
   "source": [
    "# 1 EDA (Exploratory Data Analysis)"
   ]
  },
  {
   "cell_type": "markdown",
   "metadata": {},
   "source": [
    "# purpose of  EDA\n",
    "\n",
    "- Suggest hypotheses about the causes of observed phenomena\n",
    "- Assess assumptions on which statistical inference will be based\n",
    "- Support the selection of appropriate statistical tools and techniques\n",
    "- Provide a basis for further data collection through surveys or experiments"
   ]
  },
  {
   "cell_type": "markdown",
   "metadata": {},
   "source": [
    "# EDA methods\n",
    "- Graphical techniques used in EDA are:\n",
    "    - boxplot \n",
    "        - detailed feature (datetime by month, day of week, hours)\n",
    "    - historgram or barplot (distribution) # bin = range of value\n",
    "        - origin feature (pick lat,long, drop lat, long, duration, passenger count, flag)\n",
    "        - detailed feature (datetime by month, day of week, hours)\n",
    "    - scatter plot\n",
    "        - duration vs distance = to check odd data\n",
    "    - Parallel Coordinates vs Colormaps vs Andrews curves charts\n",
    "    - odd ratio????\n",
    "\n",
    "- Quantative methods:\n",
    "    - Trimean == tukey method?"
   ]
  },
  {
   "cell_type": "markdown",
   "metadata": {},
   "source": [
    "# 1.1 Understanding data "
   ]
  },
  {
   "cell_type": "code",
   "execution_count": 26,
   "metadata": {},
   "outputs": [],
   "source": [
    "from IPython.display import display\n",
    "import numpy as np\n",
    "import matplotlib.pyplot as plt\n",
    "import pandas as pd\n",
    "import mglearn\n",
    "import seaborn as sns\n",
    "import ipyleaflet\n",
    "from math import sin, cos, sqrt, atan2, radians\n",
    "import folium\n",
    "import folium.plugins as plugins\n",
    "import os\n",
    "from folium.plugins import MarkerCluster     # Map\n",
    "from geographiclib.geodesic import Geodesic  # Map\n",
    "import time, datetime                        # time data\n",
    "import calendar\n",
    "import scipy\n",
    "\n",
    "%matplotlib inline\n",
    "\n",
    "import statsmodels.api as sm\n",
    "from sklearn.datasets import make_blobs\n",
    "from sklearn.preprocessing import scale, robust_scale, minmax_scale, maxabs_scale\n",
    "from sklearn.preprocessing import normalize\n",
    "import statsmodels\n"
   ]
  },
  {
   "cell_type": "code",
   "execution_count": 27,
   "metadata": {},
   "outputs": [
    {
     "data": {
      "text/html": [
       "<div>\n",
       "<style>\n",
       "    .dataframe thead tr:only-child th {\n",
       "        text-align: right;\n",
       "    }\n",
       "\n",
       "    .dataframe thead th {\n",
       "        text-align: left;\n",
       "    }\n",
       "\n",
       "    .dataframe tbody tr th {\n",
       "        vertical-align: top;\n",
       "    }\n",
       "</style>\n",
       "<table border=\"1\" class=\"dataframe\">\n",
       "  <thead>\n",
       "    <tr style=\"text-align: right;\">\n",
       "      <th></th>\n",
       "      <th>id</th>\n",
       "      <th>vendor_id</th>\n",
       "      <th>pickup_datetime</th>\n",
       "      <th>dropoff_datetime</th>\n",
       "      <th>passenger_count</th>\n",
       "      <th>pickup_longitude</th>\n",
       "      <th>pickup_latitude</th>\n",
       "      <th>dropoff_longitude</th>\n",
       "      <th>dropoff_latitude</th>\n",
       "      <th>store_and_fwd_flag</th>\n",
       "      <th>trip_duration</th>\n",
       "    </tr>\n",
       "  </thead>\n",
       "  <tbody>\n",
       "    <tr>\n",
       "      <th>0</th>\n",
       "      <td>id2875421</td>\n",
       "      <td>2</td>\n",
       "      <td>2016-03-14 17:24:55</td>\n",
       "      <td>2016-03-14 17:32:30</td>\n",
       "      <td>1</td>\n",
       "      <td>-73.982155</td>\n",
       "      <td>40.767937</td>\n",
       "      <td>-73.964630</td>\n",
       "      <td>40.765602</td>\n",
       "      <td>N</td>\n",
       "      <td>455</td>\n",
       "    </tr>\n",
       "    <tr>\n",
       "      <th>1</th>\n",
       "      <td>id2377394</td>\n",
       "      <td>1</td>\n",
       "      <td>2016-06-12 00:43:35</td>\n",
       "      <td>2016-06-12 00:54:38</td>\n",
       "      <td>1</td>\n",
       "      <td>-73.980415</td>\n",
       "      <td>40.738564</td>\n",
       "      <td>-73.999481</td>\n",
       "      <td>40.731152</td>\n",
       "      <td>N</td>\n",
       "      <td>663</td>\n",
       "    </tr>\n",
       "    <tr>\n",
       "      <th>2</th>\n",
       "      <td>id3858529</td>\n",
       "      <td>2</td>\n",
       "      <td>2016-01-19 11:35:24</td>\n",
       "      <td>2016-01-19 12:10:48</td>\n",
       "      <td>1</td>\n",
       "      <td>-73.979027</td>\n",
       "      <td>40.763939</td>\n",
       "      <td>-74.005333</td>\n",
       "      <td>40.710087</td>\n",
       "      <td>N</td>\n",
       "      <td>2124</td>\n",
       "    </tr>\n",
       "    <tr>\n",
       "      <th>3</th>\n",
       "      <td>id3504673</td>\n",
       "      <td>2</td>\n",
       "      <td>2016-04-06 19:32:31</td>\n",
       "      <td>2016-04-06 19:39:40</td>\n",
       "      <td>1</td>\n",
       "      <td>-74.010040</td>\n",
       "      <td>40.719971</td>\n",
       "      <td>-74.012268</td>\n",
       "      <td>40.706718</td>\n",
       "      <td>N</td>\n",
       "      <td>429</td>\n",
       "    </tr>\n",
       "    <tr>\n",
       "      <th>4</th>\n",
       "      <td>id2181028</td>\n",
       "      <td>2</td>\n",
       "      <td>2016-03-26 13:30:55</td>\n",
       "      <td>2016-03-26 13:38:10</td>\n",
       "      <td>1</td>\n",
       "      <td>-73.973053</td>\n",
       "      <td>40.793209</td>\n",
       "      <td>-73.972923</td>\n",
       "      <td>40.782520</td>\n",
       "      <td>N</td>\n",
       "      <td>435</td>\n",
       "    </tr>\n",
       "  </tbody>\n",
       "</table>\n",
       "</div>"
      ],
      "text/plain": [
       "          id  vendor_id      pickup_datetime     dropoff_datetime  \\\n",
       "0  id2875421          2  2016-03-14 17:24:55  2016-03-14 17:32:30   \n",
       "1  id2377394          1  2016-06-12 00:43:35  2016-06-12 00:54:38   \n",
       "2  id3858529          2  2016-01-19 11:35:24  2016-01-19 12:10:48   \n",
       "3  id3504673          2  2016-04-06 19:32:31  2016-04-06 19:39:40   \n",
       "4  id2181028          2  2016-03-26 13:30:55  2016-03-26 13:38:10   \n",
       "\n",
       "   passenger_count  pickup_longitude  pickup_latitude  dropoff_longitude  \\\n",
       "0                1        -73.982155        40.767937         -73.964630   \n",
       "1                1        -73.980415        40.738564         -73.999481   \n",
       "2                1        -73.979027        40.763939         -74.005333   \n",
       "3                1        -74.010040        40.719971         -74.012268   \n",
       "4                1        -73.973053        40.793209         -73.972923   \n",
       "\n",
       "   dropoff_latitude store_and_fwd_flag  trip_duration  \n",
       "0         40.765602                  N            455  \n",
       "1         40.731152                  N            663  \n",
       "2         40.710087                  N           2124  \n",
       "3         40.706718                  N            429  \n",
       "4         40.782520                  N            435  "
      ]
     },
     "execution_count": 27,
     "metadata": {},
     "output_type": "execute_result"
    }
   ],
   "source": [
    "train = pd.read_csv(\"data/train.csv\")\n",
    "train.head()"
   ]
  },
  {
   "cell_type": "code",
   "execution_count": 28,
   "metadata": {},
   "outputs": [
    {
     "data": {
      "text/html": [
       "<div>\n",
       "<style>\n",
       "    .dataframe thead tr:only-child th {\n",
       "        text-align: right;\n",
       "    }\n",
       "\n",
       "    .dataframe thead th {\n",
       "        text-align: left;\n",
       "    }\n",
       "\n",
       "    .dataframe tbody tr th {\n",
       "        vertical-align: top;\n",
       "    }\n",
       "</style>\n",
       "<table border=\"1\" class=\"dataframe\">\n",
       "  <thead>\n",
       "    <tr style=\"text-align: right;\">\n",
       "      <th></th>\n",
       "      <th>id</th>\n",
       "      <th>vendor_id</th>\n",
       "      <th>pickup_datetime</th>\n",
       "      <th>passenger_count</th>\n",
       "      <th>pickup_longitude</th>\n",
       "      <th>pickup_latitude</th>\n",
       "      <th>dropoff_longitude</th>\n",
       "      <th>dropoff_latitude</th>\n",
       "      <th>store_and_fwd_flag</th>\n",
       "    </tr>\n",
       "  </thead>\n",
       "  <tbody>\n",
       "    <tr>\n",
       "      <th>0</th>\n",
       "      <td>id3004672</td>\n",
       "      <td>1</td>\n",
       "      <td>2016-06-30 23:59:58</td>\n",
       "      <td>1</td>\n",
       "      <td>-73.988129</td>\n",
       "      <td>40.732029</td>\n",
       "      <td>-73.990173</td>\n",
       "      <td>40.756680</td>\n",
       "      <td>N</td>\n",
       "    </tr>\n",
       "    <tr>\n",
       "      <th>1</th>\n",
       "      <td>id3505355</td>\n",
       "      <td>1</td>\n",
       "      <td>2016-06-30 23:59:53</td>\n",
       "      <td>1</td>\n",
       "      <td>-73.964203</td>\n",
       "      <td>40.679993</td>\n",
       "      <td>-73.959808</td>\n",
       "      <td>40.655403</td>\n",
       "      <td>N</td>\n",
       "    </tr>\n",
       "    <tr>\n",
       "      <th>2</th>\n",
       "      <td>id1217141</td>\n",
       "      <td>1</td>\n",
       "      <td>2016-06-30 23:59:47</td>\n",
       "      <td>1</td>\n",
       "      <td>-73.997437</td>\n",
       "      <td>40.737583</td>\n",
       "      <td>-73.986160</td>\n",
       "      <td>40.729523</td>\n",
       "      <td>N</td>\n",
       "    </tr>\n",
       "    <tr>\n",
       "      <th>3</th>\n",
       "      <td>id2150126</td>\n",
       "      <td>2</td>\n",
       "      <td>2016-06-30 23:59:41</td>\n",
       "      <td>1</td>\n",
       "      <td>-73.956070</td>\n",
       "      <td>40.771900</td>\n",
       "      <td>-73.986427</td>\n",
       "      <td>40.730469</td>\n",
       "      <td>N</td>\n",
       "    </tr>\n",
       "    <tr>\n",
       "      <th>4</th>\n",
       "      <td>id1598245</td>\n",
       "      <td>1</td>\n",
       "      <td>2016-06-30 23:59:33</td>\n",
       "      <td>1</td>\n",
       "      <td>-73.970215</td>\n",
       "      <td>40.761475</td>\n",
       "      <td>-73.961510</td>\n",
       "      <td>40.755890</td>\n",
       "      <td>N</td>\n",
       "    </tr>\n",
       "  </tbody>\n",
       "</table>\n",
       "</div>"
      ],
      "text/plain": [
       "          id  vendor_id      pickup_datetime  passenger_count  \\\n",
       "0  id3004672          1  2016-06-30 23:59:58                1   \n",
       "1  id3505355          1  2016-06-30 23:59:53                1   \n",
       "2  id1217141          1  2016-06-30 23:59:47                1   \n",
       "3  id2150126          2  2016-06-30 23:59:41                1   \n",
       "4  id1598245          1  2016-06-30 23:59:33                1   \n",
       "\n",
       "   pickup_longitude  pickup_latitude  dropoff_longitude  dropoff_latitude  \\\n",
       "0        -73.988129        40.732029         -73.990173         40.756680   \n",
       "1        -73.964203        40.679993         -73.959808         40.655403   \n",
       "2        -73.997437        40.737583         -73.986160         40.729523   \n",
       "3        -73.956070        40.771900         -73.986427         40.730469   \n",
       "4        -73.970215        40.761475         -73.961510         40.755890   \n",
       "\n",
       "  store_and_fwd_flag  \n",
       "0                  N  \n",
       "1                  N  \n",
       "2                  N  \n",
       "3                  N  \n",
       "4                  N  "
      ]
     },
     "execution_count": 28,
     "metadata": {},
     "output_type": "execute_result"
    }
   ],
   "source": [
    "test = pd.read_csv(\"data/test.csv\")\n",
    "test.head()"
   ]
  },
  {
   "cell_type": "code",
   "execution_count": 29,
   "metadata": {},
   "outputs": [
    {
     "data": {
      "text/html": [
       "<div>\n",
       "<style>\n",
       "    .dataframe thead tr:only-child th {\n",
       "        text-align: right;\n",
       "    }\n",
       "\n",
       "    .dataframe thead th {\n",
       "        text-align: left;\n",
       "    }\n",
       "\n",
       "    .dataframe tbody tr th {\n",
       "        vertical-align: top;\n",
       "    }\n",
       "</style>\n",
       "<table border=\"1\" class=\"dataframe\">\n",
       "  <thead>\n",
       "    <tr style=\"text-align: right;\">\n",
       "      <th></th>\n",
       "      <th>id</th>\n",
       "      <th>trip_duration</th>\n",
       "    </tr>\n",
       "  </thead>\n",
       "  <tbody>\n",
       "    <tr>\n",
       "      <th>0</th>\n",
       "      <td>id3004672</td>\n",
       "      <td>959</td>\n",
       "    </tr>\n",
       "    <tr>\n",
       "      <th>1</th>\n",
       "      <td>id3505355</td>\n",
       "      <td>959</td>\n",
       "    </tr>\n",
       "    <tr>\n",
       "      <th>2</th>\n",
       "      <td>id1217141</td>\n",
       "      <td>959</td>\n",
       "    </tr>\n",
       "    <tr>\n",
       "      <th>3</th>\n",
       "      <td>id2150126</td>\n",
       "      <td>959</td>\n",
       "    </tr>\n",
       "    <tr>\n",
       "      <th>4</th>\n",
       "      <td>id1598245</td>\n",
       "      <td>959</td>\n",
       "    </tr>\n",
       "  </tbody>\n",
       "</table>\n",
       "</div>"
      ],
      "text/plain": [
       "          id  trip_duration\n",
       "0  id3004672            959\n",
       "1  id3505355            959\n",
       "2  id1217141            959\n",
       "3  id2150126            959\n",
       "4  id1598245            959"
      ]
     },
     "execution_count": 29,
     "metadata": {},
     "output_type": "execute_result"
    }
   ],
   "source": [
    "sample_submission = pd.read_csv(\"data/sample_submission.csv\")\n",
    "sample_submission.head()"
   ]
  },
  {
   "cell_type": "code",
   "execution_count": 30,
   "metadata": {},
   "outputs": [],
   "source": [
    "# np.random.seed(2)\n",
    "# train = train.sample(frac=0.001, replace=True)\n",
    "# train.info()\n",
    "# np.random.seed(2)\n",
    "# test = test.sample(frac=0.001, replace=True)\n",
    "# test.info()"
   ]
  },
  {
   "cell_type": "markdown",
   "metadata": {},
   "source": [
    "# 1.1.a Data type and unit"
   ]
  },
  {
   "cell_type": "markdown",
   "metadata": {},
   "source": [
    "# unit\n",
    "\n",
    "### 1. latitude / longtitude = decimal degree \n",
    "- 111.32mm per 0.000001° / 11.132 m per 0.0001° / 1.1132 km per 0.01° / 111.32 km per 1.0°\n",
    "- 14 demical degree\n",
    "- ex) 40.767937 , -73.982155\n",
    "\n",
    "### 2. datetime = year-month-day: hour-minute-second\n",
    "\n",
    "### 3. vendor_id = 1, 2\n",
    "\n",
    "### 4. passenger_count = 0,,,,9\n",
    "\n",
    "### 4. store_and_fwd_flag = N, Y\n",
    "\n",
    "### 6. duration = second\n",
    "- ex) 455 sec = 7min 35sec\n"
   ]
  },
  {
   "cell_type": "code",
   "execution_count": 31,
   "metadata": {
    "scrolled": true
   },
   "outputs": [
    {
     "name": "stdout",
     "output_type": "stream",
     "text": [
      "<class 'pandas.core.frame.DataFrame'>\n",
      "RangeIndex: 1458644 entries, 0 to 1458643\n",
      "Data columns (total 11 columns):\n",
      "id                    1458644 non-null object\n",
      "vendor_id             1458644 non-null int64\n",
      "pickup_datetime       1458644 non-null object\n",
      "dropoff_datetime      1458644 non-null object\n",
      "passenger_count       1458644 non-null int64\n",
      "pickup_longitude      1458644 non-null float64\n",
      "pickup_latitude       1458644 non-null float64\n",
      "dropoff_longitude     1458644 non-null float64\n",
      "dropoff_latitude      1458644 non-null float64\n",
      "store_and_fwd_flag    1458644 non-null object\n",
      "trip_duration         1458644 non-null int64\n",
      "dtypes: float64(4), int64(3), object(4)\n",
      "memory usage: 122.4+ MB\n"
     ]
    }
   ],
   "source": [
    "train.info()"
   ]
  },
  {
   "cell_type": "code",
   "execution_count": 32,
   "metadata": {},
   "outputs": [
    {
     "name": "stdout",
     "output_type": "stream",
     "text": [
      "<class 'pandas.core.frame.DataFrame'>\n",
      "RangeIndex: 625134 entries, 0 to 625133\n",
      "Data columns (total 9 columns):\n",
      "id                    625134 non-null object\n",
      "vendor_id             625134 non-null int64\n",
      "pickup_datetime       625134 non-null object\n",
      "passenger_count       625134 non-null int64\n",
      "pickup_longitude      625134 non-null float64\n",
      "pickup_latitude       625134 non-null float64\n",
      "dropoff_longitude     625134 non-null float64\n",
      "dropoff_latitude      625134 non-null float64\n",
      "store_and_fwd_flag    625134 non-null object\n",
      "dtypes: float64(4), int64(2), object(3)\n",
      "memory usage: 42.9+ MB\n"
     ]
    }
   ],
   "source": [
    "test.info()"
   ]
  },
  {
   "cell_type": "code",
   "execution_count": 33,
   "metadata": {},
   "outputs": [
    {
     "name": "stdout",
     "output_type": "stream",
     "text": [
      "<class 'pandas.core.frame.DataFrame'>\n",
      "RangeIndex: 625134 entries, 0 to 625133\n",
      "Data columns (total 2 columns):\n",
      "id               625134 non-null object\n",
      "trip_duration    625134 non-null int64\n",
      "dtypes: int64(1), object(1)\n",
      "memory usage: 9.5+ MB\n"
     ]
    }
   ],
   "source": [
    "sample_submission.info()"
   ]
  },
  {
   "cell_type": "markdown",
   "metadata": {},
   "source": [
    "# train data\n",
    "-  1.4M data, 11 columns\n",
    "\n",
    "# test data\n",
    "-  0.6M data, 9 columns (no dropoff_datetime, trip_duration)\n",
    "\n",
    "# sample_submission\n",
    "-  0.6M data, 2 columns (id, trip_duration)"
   ]
  },
  {
   "cell_type": "markdown",
   "metadata": {},
   "source": [
    "# 1.1.b Missing Data check"
   ]
  },
  {
   "cell_type": "code",
   "execution_count": 34,
   "metadata": {},
   "outputs": [
    {
     "data": {
      "text/plain": [
       "(True, True)"
      ]
     },
     "execution_count": 34,
     "metadata": {},
     "output_type": "execute_result"
    }
   ],
   "source": [
    "#none of missing data\n",
    "train2 = train.dropna(how = 'any')\n",
    "test2 = test.dropna(how = 'any')\n",
    "len(train) == len(train2), len(test) == len(test2)"
   ]
  },
  {
   "cell_type": "markdown",
   "metadata": {},
   "source": [
    "# 1.1.c Trip duration check"
   ]
  },
  {
   "cell_type": "code",
   "execution_count": 35,
   "metadata": {},
   "outputs": [],
   "source": [
    "train[\"pickup_datetime\"] =  pd.to_datetime(train[\"pickup_datetime\"])\n",
    "train[\"dropoff_datetime\"] =  pd.to_datetime(train[\"dropoff_datetime\"])\n",
    "sample_duration = train[\"dropoff_datetime\"] - train[\"pickup_datetime\"]\n",
    "sample_duration_sec = sample_duration.dt.total_seconds().astype('int')\n",
    "train['trip_sec'] =  sample_duration_sec"
   ]
  },
  {
   "cell_type": "code",
   "execution_count": 36,
   "metadata": {},
   "outputs": [
    {
     "data": {
      "text/plain": [
       "0"
      ]
     },
     "execution_count": 36,
     "metadata": {},
     "output_type": "execute_result"
    }
   ],
   "source": [
    "train_d = train[train[\"trip_duration\"] != train[\"trip_sec\"]]\n",
    "len(train_d)"
   ]
  },
  {
   "cell_type": "markdown",
   "metadata": {},
   "source": [
    "### NYC Taxi Trip Duration [Train data]는\n",
    "\n",
    "### 총 1,458,644 Row와 11 Column으로 구성되어 있으며,\n",
    "\n",
    "### Missing Data는 존재하지 않습니다."
   ]
  },
  {
   "cell_type": "markdown",
   "metadata": {},
   "source": [
    "# 1.1.c Column information"
   ]
  },
  {
   "cell_type": "markdown",
   "metadata": {},
   "source": [
    "- id : 개별 Taxi에 부여된 고유 id (이건 그냥 쓴거예요...)\n",
    "- verdor_id : Taxi Company id >>>  1, 2로 구성되어 있는걸로 봐서 2개의 회사를 대상\n",
    "- pickup/dropoff datetime : 출발/도착 시간정보 >> 년, 월, 일, 시각 정보가 포함\n",
    "- passenger_count : 승객수 >>> 0~9명까지 존재\n",
    "- pickup/dropoff_longitude & latitude : 출발/도착 지리정보\n",
    "- store_and_fwd_flag : whether the trip data was sent immediately to the vendor (“N”) or held in the memory of the taxi because there was no connection to the server (“Y”)\n",
    "- trip_duration : 탑승시간 >>> 단위는 Seconds"
   ]
  },
  {
   "cell_type": "markdown",
   "metadata": {},
   "source": [
    "# 1.2 Feature Engineering & Data Cleaning"
   ]
  },
  {
   "cell_type": "markdown",
   "metadata": {},
   "source": [
    "### 1.2.a Add columns with detailed informations\n"
   ]
  },
  {
   "cell_type": "markdown",
   "metadata": {},
   "source": [
    "- duration per min\n",
    "- datetime per hour\n",
    "- datetime per day of week\n",
    "- datetime per month"
   ]
  },
  {
   "cell_type": "markdown",
   "metadata": {},
   "source": [
    "# drop \"dropoff_datetime\" column"
   ]
  },
  {
   "cell_type": "code",
   "execution_count": 37,
   "metadata": {},
   "outputs": [],
   "source": [
    "train = train.drop(\"dropoff_datetime\", axis=1)"
   ]
  },
  {
   "cell_type": "code",
   "execution_count": 38,
   "metadata": {},
   "outputs": [],
   "source": [
    "#data type convert to datetime from object\n",
    "train[\"pickup_datetime\"] =  pd.to_datetime(train[\"pickup_datetime\"])\n",
    "test[\"pickup_datetime\"] =  pd.to_datetime(test[\"pickup_datetime\"])"
   ]
  },
  {
   "cell_type": "code",
   "execution_count": 39,
   "metadata": {},
   "outputs": [],
   "source": [
    "#day of week\n",
    "#Monday=0, Sunday=6\n",
    "train[\"pick_dayofweek\"] = train[\"pickup_datetime\"].dt.dayofweek\n",
    "# train[\"drop_dayofweek\"] = train[\"dropoff_datetime\"].dt.dayofweek.astype(\"int\")\n",
    "\n",
    "#date by month\n",
    "train[\"pick_dayofmonth\"] = train[\"pickup_datetime\"].dt.month\n",
    "# train[\"drop_dayofmonth\"] = train[\"dropoff_datetime\"].dt.month.astype(\"int\")\n",
    "\n",
    "# #date by hour\n",
    "train[\"pick_datehour\"] = train[\"pickup_datetime\"].dt.hour\n",
    "# # train[\"drop_datehour\"] = train[\"dropoff_datetime\"].dt.hour.astype(\"int\")"
   ]
  },
  {
   "cell_type": "code",
   "execution_count": 40,
   "metadata": {},
   "outputs": [],
   "source": [
    "#day of week\n",
    "#Monday=0, Sunday=6\n",
    "test[\"pick_dayofweek\"] = test[\"pickup_datetime\"].dt.dayofweek\n",
    "\n",
    "#date by month\n",
    "test[\"pick_dayofmonth\"] = test[\"pickup_datetime\"].dt.month\n",
    "\n",
    "#date by hour\n",
    "test[\"pick_datehour\"] = test[\"pickup_datetime\"].dt.hour"
   ]
  },
  {
   "cell_type": "markdown",
   "metadata": {},
   "source": [
    "# 1.2.b Distance between pickup and dropoff location"
   ]
  },
  {
   "cell_type": "markdown",
   "metadata": {},
   "source": [
    "# Geographic space\n",
    "   - Manhattan distance vs Euclidean distance"
   ]
  },
  {
   "cell_type": "markdown",
   "metadata": {},
   "source": [
    "### Euclidean distance\n",
    "- unit = km"
   ]
  },
  {
   "cell_type": "markdown",
   "metadata": {},
   "source": [
    "# New York border coordinate"
   ]
  },
  {
   "cell_type": "code",
   "execution_count": 41,
   "metadata": {},
   "outputs": [],
   "source": [
    "# new york city coordinate = (41.145495, −73.994901)\n",
    "city_long_border = (-74.03, -73.75)\n",
    "city_lat_border = (40.63, 40.85)"
   ]
  },
  {
   "cell_type": "code",
   "execution_count": 42,
   "metadata": {},
   "outputs": [],
   "source": [
    "# approximate radius of earth in km\n",
    "# train\n",
    "R = 6371.0\n",
    "\n",
    "dist = []\n",
    "\n",
    "for i in range(len(train)):\n",
    "    lat1 = radians(train.iloc[i,5])\n",
    "    lon1 = radians(train.iloc[i,4])\n",
    "    lat2 = radians(train.iloc[i,7])\n",
    "    lon2 = radians(train.iloc[i,6])\n",
    "\n",
    "    dlon = lon2 - lon1\n",
    "    dlat = lat2 - lat1\n",
    "\n",
    "    a = sin(dlat / 2)**2 + cos(lat1) * cos(lat2) * sin(dlon / 2)**2\n",
    "    c = 2 * atan2(sqrt(a), sqrt(1 - a))\n",
    "\n",
    "    distance = R * c\n",
    "    dist.append(distance)\n",
    "    \n",
    "train['distance'] = dist"
   ]
  },
  {
   "cell_type": "code",
   "execution_count": 43,
   "metadata": {},
   "outputs": [],
   "source": [
    "# approximate radius of earth in km\n",
    "# test\n",
    "R = 6371.0\n",
    "\n",
    "dist = []\n",
    "\n",
    "for i in range(len(test)):\n",
    "    lat1 = radians(test.iloc[i,5])\n",
    "    lon1 = radians(test.iloc[i,4])\n",
    "    lat2 = radians(test.iloc[i,7])\n",
    "    lon2 = radians(test.iloc[i,6])\n",
    "\n",
    "    dlon = lon2 - lon1\n",
    "    dlat = lat2 - lat1\n",
    "\n",
    "    a = sin(dlat / 2)**2 + cos(lat1) * cos(lat2) * sin(dlon / 2)**2\n",
    "    c = 2 * atan2(sqrt(a), sqrt(1 - a))\n",
    "\n",
    "    distance = R * c\n",
    "    dist.append(distance)\n",
    "    \n",
    "test['distance'] = dist"
   ]
  },
  {
   "cell_type": "code",
   "execution_count": 44,
   "metadata": {},
   "outputs": [
    {
     "data": {
      "text/plain": [
       "0    1.498521\n",
       "1    1.805507\n",
       "2    6.385098\n",
       "3    1.485498\n",
       "4    1.188588\n",
       "Name: distance, dtype: float64"
      ]
     },
     "execution_count": 44,
     "metadata": {},
     "output_type": "execute_result"
    }
   ],
   "source": [
    "train.distance.head(5)"
   ]
  },
  {
   "cell_type": "markdown",
   "metadata": {},
   "source": [
    "# [Taxicab geometry](https://en.wikipedia.org/wiki/Taxicab_geometry)"
   ]
  },
  {
   "cell_type": "markdown",
   "metadata": {},
   "source": [
    "### green line : Euclidean distance\n",
    "### purple line : Manhattan distance\n",
    "![alt text](distance.jpeg \"distance\")\n",
    "![alt text](HoULH.jpg \"distance\")\n",
    "![alt text](sphere2.png \"distance\")\n",
    "![alt text](main-qimg-3de1e2c9c9b93ffd501985fb36171388-c.jpeg \"distance\")"
   ]
  },
  {
   "cell_type": "code",
   "execution_count": 45,
   "metadata": {},
   "outputs": [],
   "source": [
    "# train[train.trip_duration > 100000]"
   ]
  },
  {
   "cell_type": "code",
   "execution_count": 46,
   "metadata": {},
   "outputs": [],
   "source": [
    "train['manhattan_distance'] = (abs(train.dropoff_longitude - train.pickup_longitude) +\n",
    "                            abs(train.dropoff_latitude - train.pickup_latitude))"
   ]
  },
  {
   "cell_type": "code",
   "execution_count": 47,
   "metadata": {},
   "outputs": [],
   "source": [
    "test['manhattan_distance'] = (abs(test.dropoff_longitude - test.pickup_longitude) +\n",
    "                            abs(test.dropoff_latitude - test.pickup_latitude))"
   ]
  },
  {
   "cell_type": "markdown",
   "metadata": {},
   "source": [
    "## 2.2 Direction"
   ]
  },
  {
   "cell_type": "code",
   "execution_count": 48,
   "metadata": {},
   "outputs": [],
   "source": [
    "def calculate_bearing(pickup_lat, pickup_long, dropoff_lat, dropoff_long):\n",
    "    '''Calculate the direction of travel in degrees'''\n",
    "    pickup_lat_rads = np.radians(pickup_lat)\n",
    "    pickup_long_rads = np.radians(pickup_long)\n",
    "    dropoff_lat_rads = np.radians(dropoff_lat)\n",
    "    dropoff_long_rads = np.radians(dropoff_long)\n",
    "    long_delta_rads = np.radians(dropoff_long_rads - pickup_long_rads)\n",
    "    \n",
    "    y = np.sin(long_delta_rads) * np.cos(dropoff_lat_rads)\n",
    "    x = (np.cos(pickup_lat_rads) * \n",
    "         np.sin(dropoff_lat_rads) - \n",
    "         np.sin(pickup_lat_rads) * \n",
    "         np.cos(dropoff_lat_rads) * \n",
    "         np.cos(long_delta_rads))\n",
    "    \n",
    "    return np.degrees(np.arctan2(y, x))"
   ]
  },
  {
   "cell_type": "code",
   "execution_count": 49,
   "metadata": {},
   "outputs": [],
   "source": [
    "train['bearing'] = calculate_bearing(train.pickup_latitude,\n",
    "                                     train.pickup_longitude,\n",
    "                                     train.dropoff_latitude,\n",
    "                                     train.dropoff_longitude)\n"
   ]
  },
  {
   "cell_type": "code",
   "execution_count": 50,
   "metadata": {},
   "outputs": [],
   "source": [
    "test['bearing'] = calculate_bearing(test.pickup_latitude,\n",
    "                                     test.pickup_longitude,\n",
    "                                     test.dropoff_latitude,\n",
    "                                     test.dropoff_longitude)"
   ]
  },
  {
   "cell_type": "markdown",
   "metadata": {},
   "source": [
    "# 1.2.c Outlier Removal"
   ]
  },
  {
   "cell_type": "markdown",
   "metadata": {},
   "source": [
    "### qualitative analysis\n",
    "- \n",
    "- \n",
    "- \n",
    "\n",
    "### quantitative analysis\n",
    "- Peirce's criterion\n",
    "- Tukey's fences\n",
    "- In anomaly detection\n",
    "- Modified Thompson Tau test"
   ]
  },
  {
   "cell_type": "markdown",
   "metadata": {},
   "source": [
    "# qualitative analysis"
   ]
  },
  {
   "cell_type": "code",
   "execution_count": 51,
   "metadata": {},
   "outputs": [],
   "source": [
    "train.loc[train.distance > 200] = np.nan ##200km 넘는 데이터 제거\n",
    "train.loc[train.trip_duration > 36000] = np.nan ##40000초(약 11시간)가 넘는 데이터 제거\n",
    "train.loc[train.passenger_count == 0] = np.NAN   ### passenger 수가 0인 데이터 제거\n",
    "train.dropna(inplace=True)"
   ]
  },
  {
   "cell_type": "markdown",
   "metadata": {},
   "source": [
    "### Tukey's fences"
   ]
  },
  {
   "cell_type": "markdown",
   "metadata": {},
   "source": [
    "### location coordinates mean, median"
   ]
  },
  {
   "cell_type": "code",
   "execution_count": 52,
   "metadata": {},
   "outputs": [
    {
     "name": "stdout",
     "output_type": "stream",
     "text": [
      "40.7509225231536 40.75180790130403\n",
      "40.75410461425781 40.7545280456543\n"
     ]
    }
   ],
   "source": [
    "print(train[\"pickup_latitude\"].mean(), train[\"dropoff_latitude\"].mean())\n",
    "print(train[\"pickup_latitude\"].median(), train[\"dropoff_latitude\"].median())"
   ]
  },
  {
   "cell_type": "code",
   "execution_count": 53,
   "metadata": {},
   "outputs": [
    {
     "name": "stdout",
     "output_type": "stream",
     "text": [
      "-73.97349490065326 -73.97340319536892\n",
      "-73.98174285888672 -73.97975158691406\n"
     ]
    }
   ],
   "source": [
    "print(train[\"pickup_longitude\"].mean(), train[\"dropoff_longitude\"].mean())\n",
    "print(train[\"pickup_longitude\"].median(), train[\"dropoff_longitude\"].median())"
   ]
  },
  {
   "cell_type": "code",
   "execution_count": 54,
   "metadata": {},
   "outputs": [
    {
     "name": "stdout",
     "output_type": "stream",
     "text": [
      "3.4359716178035837 2.093386518701692\n"
     ]
    }
   ],
   "source": [
    "print(train[\"distance\"].mean(), train[\"distance\"].median())"
   ]
  },
  {
   "cell_type": "markdown",
   "metadata": {},
   "source": [
    "# 1.2.d.2 Spatial Data Analysis\n",
    "\n",
    "### Types of spatial analysis\n",
    "- FA(factor analysis)\n",
    "    - Euclidean metric = > PCA(principal component analysis)\n",
    "    - Chi-Square distance => Correspondence Analysis (similar to PCA, but better for categrorical data)\n",
    "    - Generalized Mahalanobis distance => Discriminant Analysis \n",
    "\n",
    "- Spatial autocorrelation\n",
    "\n",
    "- Spatial stratified heterogeneity\n",
    "    - geographical detector q-statistic\n",
    "\n",
    "### Spatial dependency or auto-correlation\n",
    "\n",
    "### Scaling\n",
    "\n",
    "### Common errors in spatial analysis\n",
    "- Length\n",
    "- Locational fallacy\n",
    "- Ecological fallacy\n",
    "    - Modifiable areal unit problem\n",
    "        - statistical bias"
   ]
  },
  {
   "cell_type": "markdown",
   "metadata": {},
   "source": [
    "### stack-up coordinates data"
   ]
  },
  {
   "cell_type": "code",
   "execution_count": 55,
   "metadata": {},
   "outputs": [],
   "source": [
    "coords = np.vstack((train[['pickup_latitude', 'pickup_longitude']].values,\n",
    "                    train[['dropoff_latitude', 'dropoff_longitude']].values,\n",
    "                    test[['pickup_latitude', 'pickup_longitude']].values,\n",
    "                    test[['dropoff_latitude', 'dropoff_longitude']].values))"
   ]
  },
  {
   "cell_type": "code",
   "execution_count": 56,
   "metadata": {},
   "outputs": [],
   "source": [
    "#PCA\n",
    "from sklearn.decomposition import PCA\n",
    "\n",
    "\n",
    "pca = PCA().fit(coords)\n",
    "train['pickup_pca0'] = pca.transform(train[['pickup_latitude', 'pickup_longitude']])[:, 0]\n",
    "train['pickup_pca1'] = pca.transform(train[['pickup_latitude', 'pickup_longitude']])[:, 1]\n",
    "train['dropoff_pca0'] = pca.transform(train[['dropoff_latitude', 'dropoff_longitude']])[:, 0]\n",
    "train['dropoff_pca1'] = pca.transform(train[['dropoff_latitude', 'dropoff_longitude']])[:, 1]\n",
    "test['pickup_pca0'] = pca.transform(test[['pickup_latitude', 'pickup_longitude']])[:, 0]\n",
    "test['pickup_pca1'] = pca.transform(test[['pickup_latitude', 'pickup_longitude']])[:, 1]\n",
    "test['dropoff_pca0'] = pca.transform(test[['dropoff_latitude', 'dropoff_longitude']])[:, 0]\n",
    "test['dropoff_pca1'] = pca.transform(test[['dropoff_latitude', 'dropoff_longitude']])[:, 1]"
   ]
  },
  {
   "cell_type": "code",
   "execution_count": 57,
   "metadata": {},
   "outputs": [
    {
     "data": {
      "text/plain": [
       "4163392"
      ]
     },
     "execution_count": 57,
     "metadata": {},
     "output_type": "execute_result"
    }
   ],
   "source": [
    "len(coords)"
   ]
  },
  {
   "cell_type": "code",
   "execution_count": 58,
   "metadata": {},
   "outputs": [
    {
     "data": {
      "text/plain": [
       "PCA(copy=True, iterated_power='auto', n_components=None, random_state=None,\n",
       "  svd_solver='auto', tol=0.0, whiten=False)"
      ]
     },
     "execution_count": 58,
     "metadata": {},
     "output_type": "execute_result"
    }
   ],
   "source": [
    "pca"
   ]
  },
  {
   "cell_type": "code",
   "execution_count": 59,
   "metadata": {},
   "outputs": [
    {
     "data": {
      "text/html": [
       "<div>\n",
       "<style>\n",
       "    .dataframe thead tr:only-child th {\n",
       "        text-align: right;\n",
       "    }\n",
       "\n",
       "    .dataframe thead th {\n",
       "        text-align: left;\n",
       "    }\n",
       "\n",
       "    .dataframe tbody tr th {\n",
       "        vertical-align: top;\n",
       "    }\n",
       "</style>\n",
       "<table border=\"1\" class=\"dataframe\">\n",
       "  <thead>\n",
       "    <tr style=\"text-align: right;\">\n",
       "      <th></th>\n",
       "      <th>id</th>\n",
       "      <th>vendor_id</th>\n",
       "      <th>pickup_datetime</th>\n",
       "      <th>passenger_count</th>\n",
       "      <th>pickup_longitude</th>\n",
       "      <th>pickup_latitude</th>\n",
       "      <th>dropoff_longitude</th>\n",
       "      <th>dropoff_latitude</th>\n",
       "      <th>store_and_fwd_flag</th>\n",
       "      <th>trip_duration</th>\n",
       "      <th>...</th>\n",
       "      <th>pick_dayofweek</th>\n",
       "      <th>pick_dayofmonth</th>\n",
       "      <th>pick_datehour</th>\n",
       "      <th>distance</th>\n",
       "      <th>manhattan_distance</th>\n",
       "      <th>bearing</th>\n",
       "      <th>pickup_pca0</th>\n",
       "      <th>pickup_pca1</th>\n",
       "      <th>dropoff_pca0</th>\n",
       "      <th>dropoff_pca1</th>\n",
       "    </tr>\n",
       "  </thead>\n",
       "  <tbody>\n",
       "    <tr>\n",
       "      <th>0</th>\n",
       "      <td>id2875421</td>\n",
       "      <td>2.0</td>\n",
       "      <td>2016-03-14 17:24:55</td>\n",
       "      <td>1.0</td>\n",
       "      <td>-73.982155</td>\n",
       "      <td>40.767937</td>\n",
       "      <td>-73.964630</td>\n",
       "      <td>40.765602</td>\n",
       "      <td>N</td>\n",
       "      <td>455.0</td>\n",
       "      <td>...</td>\n",
       "      <td>0.0</td>\n",
       "      <td>3.0</td>\n",
       "      <td>17.0</td>\n",
       "      <td>1.498521</td>\n",
       "      <td>0.019859</td>\n",
       "      <td>174.333195</td>\n",
       "      <td>0.007707</td>\n",
       "      <td>0.017044</td>\n",
       "      <td>-0.009654</td>\n",
       "      <td>0.013699</td>\n",
       "    </tr>\n",
       "    <tr>\n",
       "      <th>1</th>\n",
       "      <td>id2377394</td>\n",
       "      <td>1.0</td>\n",
       "      <td>2016-06-12 00:43:35</td>\n",
       "      <td>1.0</td>\n",
       "      <td>-73.980415</td>\n",
       "      <td>40.738564</td>\n",
       "      <td>-73.999481</td>\n",
       "      <td>40.731152</td>\n",
       "      <td>N</td>\n",
       "      <td>663.0</td>\n",
       "      <td>...</td>\n",
       "      <td>6.0</td>\n",
       "      <td>6.0</td>\n",
       "      <td>0.0</td>\n",
       "      <td>1.805507</td>\n",
       "      <td>0.026478</td>\n",
       "      <td>-178.051506</td>\n",
       "      <td>0.007669</td>\n",
       "      <td>-0.012381</td>\n",
       "      <td>0.027132</td>\n",
       "      <td>-0.018677</td>\n",
       "    </tr>\n",
       "    <tr>\n",
       "      <th>2</th>\n",
       "      <td>id3858529</td>\n",
       "      <td>2.0</td>\n",
       "      <td>2016-01-19 11:35:24</td>\n",
       "      <td>1.0</td>\n",
       "      <td>-73.979027</td>\n",
       "      <td>40.763939</td>\n",
       "      <td>-74.005333</td>\n",
       "      <td>40.710087</td>\n",
       "      <td>N</td>\n",
       "      <td>2124.0</td>\n",
       "      <td>...</td>\n",
       "      <td>1.0</td>\n",
       "      <td>1.0</td>\n",
       "      <td>11.0</td>\n",
       "      <td>6.385098</td>\n",
       "      <td>0.080158</td>\n",
       "      <td>-179.629721</td>\n",
       "      <td>0.004815</td>\n",
       "      <td>0.012872</td>\n",
       "      <td>0.034192</td>\n",
       "      <td>-0.039369</td>\n",
       "    </tr>\n",
       "    <tr>\n",
       "      <th>3</th>\n",
       "      <td>id3504673</td>\n",
       "      <td>2.0</td>\n",
       "      <td>2016-04-06 19:32:31</td>\n",
       "      <td>1.0</td>\n",
       "      <td>-74.010040</td>\n",
       "      <td>40.719971</td>\n",
       "      <td>-74.012268</td>\n",
       "      <td>40.706718</td>\n",
       "      <td>N</td>\n",
       "      <td>429.0</td>\n",
       "      <td>...</td>\n",
       "      <td>2.0</td>\n",
       "      <td>4.0</td>\n",
       "      <td>19.0</td>\n",
       "      <td>1.485498</td>\n",
       "      <td>0.015480</td>\n",
       "      <td>-179.872566</td>\n",
       "      <td>0.038320</td>\n",
       "      <td>-0.029229</td>\n",
       "      <td>0.041310</td>\n",
       "      <td>-0.042330</td>\n",
       "    </tr>\n",
       "    <tr>\n",
       "      <th>4</th>\n",
       "      <td>id2181028</td>\n",
       "      <td>2.0</td>\n",
       "      <td>2016-03-26 13:30:55</td>\n",
       "      <td>1.0</td>\n",
       "      <td>-73.973053</td>\n",
       "      <td>40.793209</td>\n",
       "      <td>-73.972923</td>\n",
       "      <td>40.782520</td>\n",
       "      <td>N</td>\n",
       "      <td>435.0</td>\n",
       "      <td>...</td>\n",
       "      <td>5.0</td>\n",
       "      <td>3.0</td>\n",
       "      <td>13.0</td>\n",
       "      <td>1.188588</td>\n",
       "      <td>0.010818</td>\n",
       "      <td>179.990812</td>\n",
       "      <td>-0.002842</td>\n",
       "      <td>0.041747</td>\n",
       "      <td>-0.002353</td>\n",
       "      <td>0.031069</td>\n",
       "    </tr>\n",
       "  </tbody>\n",
       "</table>\n",
       "<p>5 rows × 21 columns</p>\n",
       "</div>"
      ],
      "text/plain": [
       "          id  vendor_id     pickup_datetime  passenger_count  \\\n",
       "0  id2875421        2.0 2016-03-14 17:24:55              1.0   \n",
       "1  id2377394        1.0 2016-06-12 00:43:35              1.0   \n",
       "2  id3858529        2.0 2016-01-19 11:35:24              1.0   \n",
       "3  id3504673        2.0 2016-04-06 19:32:31              1.0   \n",
       "4  id2181028        2.0 2016-03-26 13:30:55              1.0   \n",
       "\n",
       "   pickup_longitude  pickup_latitude  dropoff_longitude  dropoff_latitude  \\\n",
       "0        -73.982155        40.767937         -73.964630         40.765602   \n",
       "1        -73.980415        40.738564         -73.999481         40.731152   \n",
       "2        -73.979027        40.763939         -74.005333         40.710087   \n",
       "3        -74.010040        40.719971         -74.012268         40.706718   \n",
       "4        -73.973053        40.793209         -73.972923         40.782520   \n",
       "\n",
       "  store_and_fwd_flag  trip_duration      ...       pick_dayofweek  \\\n",
       "0                  N          455.0      ...                  0.0   \n",
       "1                  N          663.0      ...                  6.0   \n",
       "2                  N         2124.0      ...                  1.0   \n",
       "3                  N          429.0      ...                  2.0   \n",
       "4                  N          435.0      ...                  5.0   \n",
       "\n",
       "   pick_dayofmonth  pick_datehour  distance  manhattan_distance     bearing  \\\n",
       "0              3.0           17.0  1.498521            0.019859  174.333195   \n",
       "1              6.0            0.0  1.805507            0.026478 -178.051506   \n",
       "2              1.0           11.0  6.385098            0.080158 -179.629721   \n",
       "3              4.0           19.0  1.485498            0.015480 -179.872566   \n",
       "4              3.0           13.0  1.188588            0.010818  179.990812   \n",
       "\n",
       "   pickup_pca0  pickup_pca1  dropoff_pca0  dropoff_pca1  \n",
       "0     0.007707     0.017044     -0.009654      0.013699  \n",
       "1     0.007669    -0.012381      0.027132     -0.018677  \n",
       "2     0.004815     0.012872      0.034192     -0.039369  \n",
       "3     0.038320    -0.029229      0.041310     -0.042330  \n",
       "4    -0.002842     0.041747     -0.002353      0.031069  \n",
       "\n",
       "[5 rows x 21 columns]"
      ]
     },
     "execution_count": 59,
     "metadata": {},
     "output_type": "execute_result"
    }
   ],
   "source": [
    "train.head()"
   ]
  },
  {
   "cell_type": "markdown",
   "metadata": {},
   "source": [
    "# 1.2.d.3 Clustering\n",
    "- K-means algorithms\n",
    "- EM(Expectation Maximization) algorithms\n",
    "- K-medoid algorithms"
   ]
  },
  {
   "cell_type": "markdown",
   "metadata": {},
   "source": [
    "### k-means clustering"
   ]
  },
  {
   "cell_type": "code",
   "execution_count": 60,
   "metadata": {},
   "outputs": [],
   "source": [
    "from sklearn.cluster import KMeans"
   ]
  },
  {
   "cell_type": "code",
   "execution_count": 61,
   "metadata": {},
   "outputs": [],
   "source": [
    "kmeans = KMeans(n_jobs=4).fit(coords)"
   ]
  },
  {
   "cell_type": "code",
   "execution_count": 62,
   "metadata": {},
   "outputs": [],
   "source": [
    "train.loc[:, 'pickup_cluster'] = kmeans.predict(train[['pickup_latitude', 'pickup_longitude']])\n",
    "train.loc[:, 'dropoff_cluster'] = kmeans.predict(train[['dropoff_latitude', 'dropoff_longitude']])"
   ]
  },
  {
   "cell_type": "code",
   "execution_count": 63,
   "metadata": {},
   "outputs": [],
   "source": [
    "test.loc[:, 'pickup_cluster'] = kmeans.predict(test[['pickup_latitude', 'pickup_longitude']])\n",
    "test.loc[:, 'dropoff_cluster'] = kmeans.predict(test[['dropoff_latitude', 'dropoff_longitude']])"
   ]
  },
  {
   "cell_type": "code",
   "execution_count": 64,
   "metadata": {},
   "outputs": [
    {
     "data": {
      "text/plain": [
       "((1456562, 23), (625134, 21))"
      ]
     },
     "execution_count": 64,
     "metadata": {},
     "output_type": "execute_result"
    }
   ],
   "source": [
    "train.shape, test.shape, "
   ]
  },
  {
   "cell_type": "code",
   "execution_count": 65,
   "metadata": {},
   "outputs": [
    {
     "name": "stdout",
     "output_type": "stream",
     "text": [
      "<class 'pandas.core.frame.DataFrame'>\n",
      "Int64Index: 1456562 entries, 0 to 1458643\n",
      "Data columns (total 23 columns):\n",
      "id                    1456562 non-null object\n",
      "vendor_id             1456562 non-null float64\n",
      "pickup_datetime       1456562 non-null datetime64[ns]\n",
      "passenger_count       1456562 non-null float64\n",
      "pickup_longitude      1456562 non-null float64\n",
      "pickup_latitude       1456562 non-null float64\n",
      "dropoff_longitude     1456562 non-null float64\n",
      "dropoff_latitude      1456562 non-null float64\n",
      "store_and_fwd_flag    1456562 non-null object\n",
      "trip_duration         1456562 non-null float64\n",
      "trip_sec              1456562 non-null float64\n",
      "pick_dayofweek        1456562 non-null float64\n",
      "pick_dayofmonth       1456562 non-null float64\n",
      "pick_datehour         1456562 non-null float64\n",
      "distance              1456562 non-null float64\n",
      "manhattan_distance    1456562 non-null float64\n",
      "bearing               1456562 non-null float64\n",
      "pickup_pca0           1456562 non-null float64\n",
      "pickup_pca1           1456562 non-null float64\n",
      "dropoff_pca0          1456562 non-null float64\n",
      "dropoff_pca1          1456562 non-null float64\n",
      "pickup_cluster        1456562 non-null int32\n",
      "dropoff_cluster       1456562 non-null int32\n",
      "dtypes: datetime64[ns](1), float64(18), int32(2), object(2)\n",
      "memory usage: 255.6+ MB\n"
     ]
    }
   ],
   "source": [
    "train.info() #trip_duration, trip_sec, avg_speed_h"
   ]
  },
  {
   "cell_type": "code",
   "execution_count": 66,
   "metadata": {},
   "outputs": [
    {
     "name": "stdout",
     "output_type": "stream",
     "text": [
      "<class 'pandas.core.frame.DataFrame'>\n",
      "RangeIndex: 625134 entries, 0 to 625133\n",
      "Data columns (total 21 columns):\n",
      "id                    625134 non-null object\n",
      "vendor_id             625134 non-null int64\n",
      "pickup_datetime       625134 non-null datetime64[ns]\n",
      "passenger_count       625134 non-null int64\n",
      "pickup_longitude      625134 non-null float64\n",
      "pickup_latitude       625134 non-null float64\n",
      "dropoff_longitude     625134 non-null float64\n",
      "dropoff_latitude      625134 non-null float64\n",
      "store_and_fwd_flag    625134 non-null object\n",
      "pick_dayofweek        625134 non-null int64\n",
      "pick_dayofmonth       625134 non-null int64\n",
      "pick_datehour         625134 non-null int64\n",
      "distance              625134 non-null float64\n",
      "manhattan_distance    625134 non-null float64\n",
      "bearing               625134 non-null float64\n",
      "pickup_pca0           625134 non-null float64\n",
      "pickup_pca1           625134 non-null float64\n",
      "dropoff_pca0          625134 non-null float64\n",
      "dropoff_pca1          625134 non-null float64\n",
      "pickup_cluster        625134 non-null int32\n",
      "dropoff_cluster       625134 non-null int32\n",
      "dtypes: datetime64[ns](1), float64(11), int32(2), int64(5), object(2)\n",
      "memory usage: 95.4+ MB\n"
     ]
    }
   ],
   "source": [
    "test.info()"
   ]
  },
  {
   "cell_type": "markdown",
   "metadata": {},
   "source": [
    "# 3. Modeling"
   ]
  },
  {
   "cell_type": "markdown",
   "metadata": {},
   "source": [
    "# evaluation metric\n",
    "\n",
    "[Root Mean Squared Logarithmic Error](https://www.kaggle.com/wiki/RootMeanSquaredLogarithmicError)\n",
    "\n",
    "$\\epsilon = \\sqrt{\\frac{1}{n} \\sum_{i=1}^n (\\log(p_i + 1) - \\log(a_i+1))^2 }$\n",
    "\n",
    "Where:\n",
    "- ϵ is the RMSLE value (score)\n",
    "\n",
    "- n is the total number of observations in the (public/private) data set,\n",
    "\n",
    "- pi is your prediction of trip duration, and\n",
    "- ai is the actual trip duration for i. \n",
    "- log(x) is the natural logarithm of x"
   ]
  },
  {
   "cell_type": "markdown",
   "metadata": {},
   "source": [
    "### data type manipulation\n",
    "- categorical data convert encoding"
   ]
  },
  {
   "cell_type": "code",
   "execution_count": 70,
   "metadata": {},
   "outputs": [],
   "source": [
    "train['store_and_fwd_flag'] = 1 * (train.store_and_fwd_flag.values == 'Y')\n",
    "test['store_and_fwd_flag'] = 1 * (test.store_and_fwd_flag.values == 'Y')"
   ]
  },
  {
   "cell_type": "code",
   "execution_count": 77,
   "metadata": {},
   "outputs": [],
   "source": [
    "train = train.drop('id', axis=1)\n",
    "test = test.drop('id', axis=1)"
   ]
  },
  {
   "cell_type": "code",
   "execution_count": 82,
   "metadata": {},
   "outputs": [],
   "source": [
    "# train = pd.get_dummies(train)\n",
    "# test = pd.get_dummies(test)"
   ]
  },
  {
   "cell_type": "code",
   "execution_count": 83,
   "metadata": {},
   "outputs": [
    {
     "name": "stdout",
     "output_type": "stream",
     "text": [
      "<class 'pandas.core.frame.DataFrame'>\n",
      "Int64Index: 1456562 entries, 0 to 1458643\n",
      "Data columns (total 22 columns):\n",
      "vendor_id             1456562 non-null float64\n",
      "pickup_datetime       1456562 non-null datetime64[ns]\n",
      "passenger_count       1456562 non-null float64\n",
      "pickup_longitude      1456562 non-null float64\n",
      "pickup_latitude       1456562 non-null float64\n",
      "dropoff_longitude     1456562 non-null float64\n",
      "dropoff_latitude      1456562 non-null float64\n",
      "store_and_fwd_flag    1456562 non-null int64\n",
      "trip_duration         1456562 non-null float64\n",
      "trip_sec              1456562 non-null float64\n",
      "pick_dayofweek        1456562 non-null float64\n",
      "pick_dayofmonth       1456562 non-null float64\n",
      "pick_datehour         1456562 non-null float64\n",
      "distance              1456562 non-null float64\n",
      "manhattan_distance    1456562 non-null float64\n",
      "bearing               1456562 non-null float64\n",
      "pickup_pca0           1456562 non-null float64\n",
      "pickup_pca1           1456562 non-null float64\n",
      "dropoff_pca0          1456562 non-null float64\n",
      "dropoff_pca1          1456562 non-null float64\n",
      "pickup_cluster        1456562 non-null int32\n",
      "dropoff_cluster       1456562 non-null int32\n",
      "dtypes: datetime64[ns](1), float64(18), int32(2), int64(1)\n",
      "memory usage: 244.5 MB\n"
     ]
    }
   ],
   "source": [
    "train.info()"
   ]
  },
  {
   "cell_type": "code",
   "execution_count": 84,
   "metadata": {},
   "outputs": [
    {
     "name": "stdout",
     "output_type": "stream",
     "text": [
      "<class 'pandas.core.frame.DataFrame'>\n",
      "RangeIndex: 625134 entries, 0 to 625133\n",
      "Data columns (total 20 columns):\n",
      "vendor_id             625134 non-null int64\n",
      "pickup_datetime       625134 non-null datetime64[ns]\n",
      "passenger_count       625134 non-null int64\n",
      "pickup_longitude      625134 non-null float64\n",
      "pickup_latitude       625134 non-null float64\n",
      "dropoff_longitude     625134 non-null float64\n",
      "dropoff_latitude      625134 non-null float64\n",
      "store_and_fwd_flag    625134 non-null int64\n",
      "pick_dayofweek        625134 non-null int64\n",
      "pick_dayofmonth       625134 non-null int64\n",
      "pick_datehour         625134 non-null int64\n",
      "distance              625134 non-null float64\n",
      "manhattan_distance    625134 non-null float64\n",
      "bearing               625134 non-null float64\n",
      "pickup_pca0           625134 non-null float64\n",
      "pickup_pca1           625134 non-null float64\n",
      "dropoff_pca0          625134 non-null float64\n",
      "dropoff_pca1          625134 non-null float64\n",
      "pickup_cluster        625134 non-null int32\n",
      "dropoff_cluster       625134 non-null int32\n",
      "dtypes: datetime64[ns](1), float64(11), int32(2), int64(6)\n",
      "memory usage: 90.6 MB\n"
     ]
    }
   ],
   "source": [
    "test.info()"
   ]
  },
  {
   "cell_type": "code",
   "execution_count": 86,
   "metadata": {},
   "outputs": [
    {
     "data": {
      "text/plain": [
       "((1456562, 19), (1456562,), (625134, 19))"
      ]
     },
     "execution_count": 86,
     "metadata": {},
     "output_type": "execute_result"
    }
   ],
   "source": [
    "X_train = train.drop(labels = [\"trip_duration\",\"trip_sec\", \"pickup_datetime\"], axis=1)\n",
    "Y_train = train[\"trip_duration\"]\n",
    "X_test  = test.drop(labels = [\"pickup_datetime\"], axis=1).copy()\n",
    "X_train.shape, Y_train.shape, X_test.shape"
   ]
  },
  {
   "cell_type": "code",
   "execution_count": 100,
   "metadata": {},
   "outputs": [],
   "source": [
    "import statsmodels.api as sm"
   ]
  },
  {
   "cell_type": "code",
   "execution_count": 101,
   "metadata": {},
   "outputs": [
    {
     "name": "stdout",
     "output_type": "stream",
     "text": [
      "                            OLS Regression Results                            \n",
      "==============================================================================\n",
      "Dep. Variable:          trip_duration   R-squared:                       0.567\n",
      "Model:                            OLS   Adj. R-squared:                  0.567\n",
      "Method:                 Least Squares   F-statistic:                 1.273e+05\n",
      "Date:                Tue, 03 Apr 2018   Prob (F-statistic):               0.00\n",
      "Time:                        16:29:08   Log-Likelihood:            -1.0963e+07\n",
      "No. Observations:             1456562   AIC:                         2.193e+07\n",
      "Df Residuals:                 1456546   BIC:                         2.193e+07\n",
      "Df Model:                          15                                         \n",
      "Covariance Type:            nonrobust                                         \n",
      "======================================================================================\n",
      "                         coef    std err          t      P>|t|      [0.025      0.975]\n",
      "--------------------------------------------------------------------------------------\n",
      "vendor_id              2.4160      0.782      3.090      0.002       0.884       3.948\n",
      "passenger_count        3.5117      0.296     11.860      0.000       2.931       4.092\n",
      "pickup_longitude     108.8364      5.113     21.288      0.000      98.816     118.857\n",
      "pickup_latitude      552.8884      7.099     77.887      0.000     538.975     566.801\n",
      "dropoff_longitude   -203.4087      4.696    -43.311      0.000    -212.614    -194.204\n",
      "dropoff_latitude    -716.1539      6.063   -118.115      0.000    -728.037    -704.270\n",
      "store_and_fwd_flag    45.1819      5.044      8.958      0.000      35.296      55.068\n",
      "pick_dayofweek       -11.9009      0.192    -62.080      0.000     -12.277     -11.525\n",
      "pick_dayofmonth       18.0930      0.222     81.652      0.000      17.659      18.527\n",
      "pick_datehour          4.3948      0.059     74.935      0.000       4.280       4.510\n",
      "distance             196.8753      0.752    261.792      0.000     195.401     198.349\n",
      "manhattan_distance -4792.6208     53.642    -89.345      0.000   -4897.757   -4687.484\n",
      "bearing                0.0867      0.003     25.244      0.000       0.080       0.093\n",
      "pickup_pca0         -178.7881      5.416    -33.012      0.000    -189.403    -168.173\n",
      "pickup_pca1          521.6723      8.281     62.994      0.000     505.441     537.903\n",
      "dropoff_pca0         206.3385      5.838     35.345      0.000     194.897     217.780\n",
      "dropoff_pca1        -727.1842      6.844   -106.245      0.000    -740.599    -713.769\n",
      "pickup_cluster        -2.5961      0.174    -14.935      0.000      -2.937      -2.255\n",
      "dropoff_cluster      -20.0274      0.175   -114.548      0.000     -20.370     -19.685\n",
      "==============================================================================\n",
      "Omnibus:                  2410505.302   Durbin-Watson:                   2.000\n",
      "Prob(Omnibus):                  0.000   Jarque-Bera (JB):      18714251112.628\n",
      "Skew:                          10.240   Prob(JB):                         0.00\n",
      "Kurtosis:                     557.922   Cond. No.                     9.99e+16\n",
      "==============================================================================\n",
      "\n",
      "Warnings:\n",
      "[1] Standard Errors assume that the covariance matrix of the errors is correctly specified.\n",
      "[2] The smallest eigenvalue is 2.68e-24. This might indicate that there are\n",
      "strong multicollinearity problems or that the design matrix is singular.\n"
     ]
    }
   ],
   "source": [
    "OLS_model = sm.OLS(Y_train, X_train).fit()\n",
    "print(OLS_model.summary())"
   ]
  },
  {
   "cell_type": "code",
   "execution_count": 96,
   "metadata": {},
   "outputs": [],
   "source": [
    "Y_test = OLS_model.predict(X_test)\n",
    "Y_test.head(), len(Y_test)\n",
    "\n",
    "sub = pd.DataFrame(columns= ['id', 'trip_duration'])\n",
    "sub['id'] = sample_submission[\"id\"]\n",
    "sub['trip_duration'] = Y_test\n",
    "sub.to_csv('submission_OLS.csv',index=False)"
   ]
  },
  {
   "cell_type": "code",
   "execution_count": null,
   "metadata": {},
   "outputs": [],
   "source": []
  },
  {
   "cell_type": "code",
   "execution_count": null,
   "metadata": {},
   "outputs": [],
   "source": []
  },
  {
   "cell_type": "markdown",
   "metadata": {},
   "source": [
    "# Appendix"
   ]
  },
  {
   "cell_type": "markdown",
   "metadata": {},
   "source": [
    "### 1. degree of decimal\n",
    "- 0.000001 = 1.11mm\n",
    "\n",
    "### 2. spatial data analysis\n",
    "- PCA\n",
    "- discriminant analysis\n",
    "\n",
    "### 3. clustering\n",
    "- K means\n",
    "- K nearest neighbor\n",
    "- Expectation Maximization\n",
    "\n",
    "### 4. ensemble methods\n",
    "- aggregation\n",
    "- boosting"
   ]
  },
  {
   "cell_type": "code",
   "execution_count": null,
   "metadata": {},
   "outputs": [],
   "source": []
  },
  {
   "cell_type": "markdown",
   "metadata": {},
   "source": [
    "# decision tree"
   ]
  },
  {
   "cell_type": "code",
   "execution_count": 92,
   "metadata": {},
   "outputs": [],
   "source": [
    "from sklearn.tree import DecisionTreeRegressor"
   ]
  },
  {
   "cell_type": "code",
   "execution_count": 93,
   "metadata": {},
   "outputs": [
    {
     "name": "stderr",
     "output_type": "stream",
     "text": [
      "/home/jk/anaconda3/lib/python3.6/site-packages/sklearn/cross_validation.py:41: DeprecationWarning: This module was deprecated in version 0.18 in favor of the model_selection module into which all the refactored classes and functions are moved. Also note that the interface of the new CV iterators are different from that of this module. This module will be removed in 0.20.\n",
      "  \"This module will be removed in 0.20.\", DeprecationWarning)\n"
     ]
    }
   ],
   "source": [
    "\n",
    "# Regression\n",
    "import scipy\n",
    "from sklearn.cluster import KMeans\n",
    "from sklearn.decomposition import PCA\n",
    "from sklearn.model_selection import train_test_split\n",
    "from sklearn.metrics import mean_squared_error\n",
    "\n",
    "from sklearn.cross_validation import cross_val_score\n",
    "# Decission Tree regressor\n",
    "from sklearn.tree import DecisionTreeRegressor\n"
   ]
  },
  {
   "cell_type": "code",
   "execution_count": 99,
   "metadata": {},
   "outputs": [],
   "source": [
    "model_dt=DecisionTreeRegressor(max_depth=4).fit(X_train,Y_train)"
   ]
  },
  {
   "cell_type": "code",
   "execution_count": 104,
   "metadata": {},
   "outputs": [],
   "source": [
    "y_tree = model_dt.predict(X_test)\n",
    "\n",
    "sub = pd.DataFrame(columns= ['id', 'trip_duration'])\n",
    "sub['id'] = sample_submission[\"id\"]\n",
    "sub['trip_duration'] = y_tree\n",
    "sub.to_csv('submission_tree.csv',index=False)"
   ]
  },
  {
   "cell_type": "markdown",
   "metadata": {},
   "source": [
    "# random forest"
   ]
  },
  {
   "cell_type": "code",
   "execution_count": 105,
   "metadata": {},
   "outputs": [],
   "source": [
    "from sklearn.ensemble import RandomForestRegressor"
   ]
  },
  {
   "cell_type": "code",
   "execution_count": 107,
   "metadata": {},
   "outputs": [
    {
     "data": {
      "text/plain": [
       "RandomForestRegressor(bootstrap=True, criterion='mse', max_depth=4,\n",
       "           max_features='auto', max_leaf_nodes=None,\n",
       "           min_impurity_decrease=0.0, min_impurity_split=None,\n",
       "           min_samples_leaf=1, min_samples_split=2,\n",
       "           min_weight_fraction_leaf=0.0, n_estimators=10, n_jobs=4,\n",
       "           oob_score=False, random_state=None, verbose=0, warm_start=False)"
      ]
     },
     "execution_count": 107,
     "metadata": {},
     "output_type": "execute_result"
    }
   ],
   "source": [
    "model_rnd_frst=RandomForestRegressor(max_depth=4, n_jobs=4)\n",
    "model_rnd_frst.fit(X_train, Y_train)"
   ]
  },
  {
   "cell_type": "code",
   "execution_count": 109,
   "metadata": {},
   "outputs": [],
   "source": [
    "y_random = model_rnd_frst.predict(X_test)\n",
    "\n",
    "sub = pd.DataFrame(columns= ['id', 'trip_duration'])\n",
    "sub['id'] = sample_submission[\"id\"]\n",
    "sub['trip_duration'] = y_random\n",
    "sub.to_csv('submission_random.csv',index=False)"
   ]
  },
  {
   "cell_type": "markdown",
   "metadata": {},
   "source": [
    "# XGBoost"
   ]
  },
  {
   "cell_type": "code",
   "execution_count": 111,
   "metadata": {},
   "outputs": [],
   "source": [
    "import xgboost as xgb"
   ]
  },
  {
   "cell_type": "code",
   "execution_count": 116,
   "metadata": {},
   "outputs": [],
   "source": [
    "model_xgb = xgb.XGBRegressor(max_depth=15, n_jobs=4, reg_alpha=0.5, reg_lambda=0.5, random_state=0).fit(X_train, Y_train)"
   ]
  },
  {
   "cell_type": "code",
   "execution_count": 117,
   "metadata": {},
   "outputs": [],
   "source": [
    "y_xgb = model_xgb.predict(X_test)\n",
    "\n",
    "sub = pd.DataFrame(columns= ['id', 'trip_duration'])\n",
    "sub['id'] = sample_submission[\"id\"]\n",
    "sub['trip_duration'] = y_xgb\n",
    "sub.to_csv('submission_xgb.csv',index=False)\n",
    "#0.42123"
   ]
  },
  {
   "cell_type": "code",
   "execution_count": null,
   "metadata": {},
   "outputs": [],
   "source": []
  }
 ],
 "metadata": {
  "kernelspec": {
   "display_name": "Python 3",
   "language": "python",
   "name": "python3"
  },
  "language_info": {
   "codemirror_mode": {
    "name": "ipython",
    "version": 3
   },
   "file_extension": ".py",
   "mimetype": "text/x-python",
   "name": "python",
   "nbconvert_exporter": "python",
   "pygments_lexer": "ipython3",
   "version": "3.6.3"
  }
 },
 "nbformat": 4,
 "nbformat_minor": 2
}
