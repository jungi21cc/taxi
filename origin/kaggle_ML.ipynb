{
 "cells": [
  {
   "cell_type": "code",
   "execution_count": 1,
   "metadata": {},
   "outputs": [],
   "source": [
    "taxi = pd.read_csv(\"/Users/jisuim/Desktop/tp_taxi/jisu/train.csv\")"
   ]
  },
  {
   "cell_type": "code",
   "execution_count": 2,
   "metadata": {},
   "outputs": [],
   "source": [
    "from sklearn.tree import DecisionTreeRegressor"
   ]
  },
  {
   "cell_type": "code",
   "execution_count": 3,
   "metadata": {},
   "outputs": [],
   "source": [
    "taxi_new = taxi.copy()"
   ]
  },
  {
   "cell_type": "markdown",
   "metadata": {},
   "source": [
    "# Feature Engineering"
   ]
  },
  {
   "cell_type": "code",
   "execution_count": 4,
   "metadata": {},
   "outputs": [],
   "source": [
    "from math import cos, asin, sqrt\n",
    "def dist(lat1, lon1, lat2, lon2):\n",
    "    p = 0.017453292519943295     #Pi/180\n",
    "    a = 0.5 - cos((lat2 - lat1) * p)/2 + cos(lat1 * p) * cos(lat2 * p) * (1 - cos((lon2 - lon1) * p)) / 2\n",
    "    return 12742 * asin(sqrt(a))"
   ]
  },
  {
   "cell_type": "code",
   "execution_count": 5,
   "metadata": {},
   "outputs": [],
   "source": [
    "for i in range(len(taxi)):\n",
    "    lat1 = taxi['pickup_latitude'][i]\n",
    "    lon1 = taxi['pickup_longitude'][i]\n",
    "    lat2 = taxi['dropoff_latitude'][i]\n",
    "    lon2 = taxi['dropoff_longitude'][i]\n",
    "    taxi_new.at[i, 'distance'] = dist(lat1, lon1, lat2, lon2)\n"
   ]
  },
  {
   "cell_type": "code",
   "execution_count": 7,
   "metadata": {},
   "outputs": [],
   "source": [
    "Morning = ['01','02','03','04','05','06','07']\n",
    "Night = ['19', '20', '21', '22', '23', '00']\n",
    "for i in range(len(taxi_new)):\n",
    "    k = taxi['pickup_datetime'][i][11:13]\n",
    "    if k in Morning:\n",
    "        taxi_new.at[i, \"time_n\"] = \"Morning\"\n",
    "    elif k in Night:\n",
    "        taxi_new.at[i, \"time_n\"] = \"Night\"\n",
    "    else:\n",
    "        taxi_new.at[i, \"time_n\"] = \"Duty\"\n",
    "        \n",
    "     "
   ]
  },
  {
   "cell_type": "code",
   "execution_count": 162,
   "metadata": {},
   "outputs": [],
   "source": [
    "taxi_new.loc[taxi_new.distance > 200] = np.nan ##200km 넘는 데이터 제거\n",
    "taxi_new.loc[taxi_new.trip_duration > 30000] = np.nan ##40000초(약 11시간)가 넘는 데이터 제거\n",
    "taxi_new.loc[taxi_new.passenger_count == 0] = np.NAN   ### passenger 수가 0인 데이터 제거\n",
    "taxi_new.dropna(inplace=True)"
   ]
  },
  {
   "cell_type": "code",
   "execution_count": 163,
   "metadata": {},
   "outputs": [],
   "source": [
    "dummy_time_n = pd.get_dummies(taxi_new['time_n'],prefix='time_n')\n",
    "dummy_vendor_id = pd.get_dummies(taxi_new['vendor_id'], prefix='id')\n",
    "dummy_store = pd.get_dummies(taxi_new['store_and_fwd_flag'], prefix='snf')"
   ]
  },
  {
   "cell_type": "code",
   "execution_count": 12,
   "metadata": {},
   "outputs": [
    {
     "data": {
      "text/plain": [
       "1456542"
      ]
     },
     "execution_count": 12,
     "metadata": {},
     "output_type": "execute_result"
    }
   ],
   "source": [
    "len(taxi_new)"
   ]
  },
  {
   "cell_type": "code",
   "execution_count": 13,
   "metadata": {},
   "outputs": [
    {
     "data": {
      "text/plain": [
       "1458644"
      ]
     },
     "execution_count": 13,
     "metadata": {},
     "output_type": "execute_result"
    }
   ],
   "source": [
    "len(taxi)"
   ]
  },
  {
   "cell_type": "code",
   "execution_count": 14,
   "metadata": {},
   "outputs": [
    {
     "data": {
      "text/html": [
       "<div>\n",
       "<style scoped>\n",
       "    .dataframe tbody tr th:only-of-type {\n",
       "        vertical-align: middle;\n",
       "    }\n",
       "\n",
       "    .dataframe tbody tr th {\n",
       "        vertical-align: top;\n",
       "    }\n",
       "\n",
       "    .dataframe thead th {\n",
       "        text-align: right;\n",
       "    }\n",
       "</style>\n",
       "<table border=\"1\" class=\"dataframe\">\n",
       "  <thead>\n",
       "    <tr style=\"text-align: right;\">\n",
       "      <th></th>\n",
       "      <th>id</th>\n",
       "      <th>vendor_id</th>\n",
       "      <th>pickup_datetime</th>\n",
       "      <th>dropoff_datetime</th>\n",
       "      <th>passenger_count</th>\n",
       "      <th>pickup_longitude</th>\n",
       "      <th>pickup_latitude</th>\n",
       "      <th>dropoff_longitude</th>\n",
       "      <th>dropoff_latitude</th>\n",
       "      <th>store_and_fwd_flag</th>\n",
       "      <th>trip_duration</th>\n",
       "      <th>distance</th>\n",
       "      <th>time_n</th>\n",
       "    </tr>\n",
       "  </thead>\n",
       "  <tbody>\n",
       "    <tr>\n",
       "      <th>0</th>\n",
       "      <td>id2875421</td>\n",
       "      <td>2.0</td>\n",
       "      <td>2016-03-14 17:24:55</td>\n",
       "      <td>2016-03-14 17:32:30</td>\n",
       "      <td>1.0</td>\n",
       "      <td>-73.982155</td>\n",
       "      <td>40.767937</td>\n",
       "      <td>-73.964630</td>\n",
       "      <td>40.765602</td>\n",
       "      <td>N</td>\n",
       "      <td>455.0</td>\n",
       "      <td>1.498521</td>\n",
       "      <td>Duty</td>\n",
       "    </tr>\n",
       "    <tr>\n",
       "      <th>1</th>\n",
       "      <td>id2377394</td>\n",
       "      <td>1.0</td>\n",
       "      <td>2016-06-12 00:43:35</td>\n",
       "      <td>2016-06-12 00:54:38</td>\n",
       "      <td>1.0</td>\n",
       "      <td>-73.980415</td>\n",
       "      <td>40.738564</td>\n",
       "      <td>-73.999481</td>\n",
       "      <td>40.731152</td>\n",
       "      <td>N</td>\n",
       "      <td>663.0</td>\n",
       "      <td>1.805507</td>\n",
       "      <td>Night</td>\n",
       "    </tr>\n",
       "    <tr>\n",
       "      <th>2</th>\n",
       "      <td>id3858529</td>\n",
       "      <td>2.0</td>\n",
       "      <td>2016-01-19 11:35:24</td>\n",
       "      <td>2016-01-19 12:10:48</td>\n",
       "      <td>1.0</td>\n",
       "      <td>-73.979027</td>\n",
       "      <td>40.763939</td>\n",
       "      <td>-74.005333</td>\n",
       "      <td>40.710087</td>\n",
       "      <td>N</td>\n",
       "      <td>2124.0</td>\n",
       "      <td>6.385098</td>\n",
       "      <td>Duty</td>\n",
       "    </tr>\n",
       "    <tr>\n",
       "      <th>3</th>\n",
       "      <td>id3504673</td>\n",
       "      <td>2.0</td>\n",
       "      <td>2016-04-06 19:32:31</td>\n",
       "      <td>2016-04-06 19:39:40</td>\n",
       "      <td>1.0</td>\n",
       "      <td>-74.010040</td>\n",
       "      <td>40.719971</td>\n",
       "      <td>-74.012268</td>\n",
       "      <td>40.706718</td>\n",
       "      <td>N</td>\n",
       "      <td>429.0</td>\n",
       "      <td>1.485498</td>\n",
       "      <td>Night</td>\n",
       "    </tr>\n",
       "    <tr>\n",
       "      <th>4</th>\n",
       "      <td>id2181028</td>\n",
       "      <td>2.0</td>\n",
       "      <td>2016-03-26 13:30:55</td>\n",
       "      <td>2016-03-26 13:38:10</td>\n",
       "      <td>1.0</td>\n",
       "      <td>-73.973053</td>\n",
       "      <td>40.793209</td>\n",
       "      <td>-73.972923</td>\n",
       "      <td>40.782520</td>\n",
       "      <td>N</td>\n",
       "      <td>435.0</td>\n",
       "      <td>1.188588</td>\n",
       "      <td>Duty</td>\n",
       "    </tr>\n",
       "  </tbody>\n",
       "</table>\n",
       "</div>"
      ],
      "text/plain": [
       "          id  vendor_id      pickup_datetime     dropoff_datetime  \\\n",
       "0  id2875421        2.0  2016-03-14 17:24:55  2016-03-14 17:32:30   \n",
       "1  id2377394        1.0  2016-06-12 00:43:35  2016-06-12 00:54:38   \n",
       "2  id3858529        2.0  2016-01-19 11:35:24  2016-01-19 12:10:48   \n",
       "3  id3504673        2.0  2016-04-06 19:32:31  2016-04-06 19:39:40   \n",
       "4  id2181028        2.0  2016-03-26 13:30:55  2016-03-26 13:38:10   \n",
       "\n",
       "   passenger_count  pickup_longitude  pickup_latitude  dropoff_longitude  \\\n",
       "0              1.0        -73.982155        40.767937         -73.964630   \n",
       "1              1.0        -73.980415        40.738564         -73.999481   \n",
       "2              1.0        -73.979027        40.763939         -74.005333   \n",
       "3              1.0        -74.010040        40.719971         -74.012268   \n",
       "4              1.0        -73.973053        40.793209         -73.972923   \n",
       "\n",
       "   dropoff_latitude store_and_fwd_flag  trip_duration  distance time_n  \n",
       "0         40.765602                  N          455.0  1.498521   Duty  \n",
       "1         40.731152                  N          663.0  1.805507  Night  \n",
       "2         40.710087                  N         2124.0  6.385098   Duty  \n",
       "3         40.706718                  N          429.0  1.485498  Night  \n",
       "4         40.782520                  N          435.0  1.188588   Duty  "
      ]
     },
     "execution_count": 14,
     "metadata": {},
     "output_type": "execute_result"
    }
   ],
   "source": [
    "taxi_new.head()"
   ]
  },
  {
   "cell_type": "markdown",
   "metadata": {},
   "source": [
    "> passenger_count, 출발위치, 도착위치, 시간대, 직선거리, vendor_id, store_and_fwd_flag"
   ]
  },
  {
   "cell_type": "markdown",
   "metadata": {},
   "source": [
    "# Decision Tree"
   ]
  },
  {
   "cell_type": "code",
   "execution_count": 165,
   "metadata": {},
   "outputs": [],
   "source": [
    "X = taxi_new[['ave_speed_x', 'ave_speed_y', 'distance']]"
   ]
  },
  {
   "cell_type": "code",
   "execution_count": 166,
   "metadata": {},
   "outputs": [
    {
     "data": {
      "text/html": [
       "<div>\n",
       "<style scoped>\n",
       "    .dataframe tbody tr th:only-of-type {\n",
       "        vertical-align: middle;\n",
       "    }\n",
       "\n",
       "    .dataframe tbody tr th {\n",
       "        vertical-align: top;\n",
       "    }\n",
       "\n",
       "    .dataframe thead th {\n",
       "        text-align: right;\n",
       "    }\n",
       "</style>\n",
       "<table border=\"1\" class=\"dataframe\">\n",
       "  <thead>\n",
       "    <tr style=\"text-align: right;\">\n",
       "      <th></th>\n",
       "      <th>ave_speed_x</th>\n",
       "      <th>ave_speed_y</th>\n",
       "      <th>distance</th>\n",
       "    </tr>\n",
       "  </thead>\n",
       "  <tbody>\n",
       "    <tr>\n",
       "      <th>0</th>\n",
       "      <td>12.946163</td>\n",
       "      <td>13.731112</td>\n",
       "      <td>1.498521</td>\n",
       "    </tr>\n",
       "    <tr>\n",
       "      <th>1</th>\n",
       "      <td>13.838090</td>\n",
       "      <td>12.750622</td>\n",
       "      <td>1.805507</td>\n",
       "    </tr>\n",
       "    <tr>\n",
       "      <th>2</th>\n",
       "      <td>12.260338</td>\n",
       "      <td>15.753882</td>\n",
       "      <td>6.385098</td>\n",
       "    </tr>\n",
       "    <tr>\n",
       "      <th>3</th>\n",
       "      <td>14.736821</td>\n",
       "      <td>15.753882</td>\n",
       "      <td>1.485498</td>\n",
       "    </tr>\n",
       "    <tr>\n",
       "      <th>4</th>\n",
       "      <td>15.942333</td>\n",
       "      <td>14.571577</td>\n",
       "      <td>1.188588</td>\n",
       "    </tr>\n",
       "  </tbody>\n",
       "</table>\n",
       "</div>"
      ],
      "text/plain": [
       "   ave_speed_x  ave_speed_y  distance\n",
       "0    12.946163    13.731112  1.498521\n",
       "1    13.838090    12.750622  1.805507\n",
       "2    12.260338    15.753882  6.385098\n",
       "3    14.736821    15.753882  1.485498\n",
       "4    15.942333    14.571577  1.188588"
      ]
     },
     "execution_count": 166,
     "metadata": {},
     "output_type": "execute_result"
    }
   ],
   "source": [
    "X.head()"
   ]
  },
  {
   "cell_type": "code",
   "execution_count": 167,
   "metadata": {},
   "outputs": [],
   "source": [
    "dfX = pd.concat([X, dummy_store, dummy_time_n, dummy_vendor_id], axis=1)"
   ]
  },
  {
   "cell_type": "code",
   "execution_count": 168,
   "metadata": {},
   "outputs": [
    {
     "data": {
      "text/plain": [
       "1456542"
      ]
     },
     "execution_count": 168,
     "metadata": {},
     "output_type": "execute_result"
    }
   ],
   "source": [
    "len(dfX)"
   ]
  },
  {
   "cell_type": "code",
   "execution_count": 153,
   "metadata": {},
   "outputs": [
    {
     "data": {
      "text/html": [
       "<div>\n",
       "<style scoped>\n",
       "    .dataframe tbody tr th:only-of-type {\n",
       "        vertical-align: middle;\n",
       "    }\n",
       "\n",
       "    .dataframe tbody tr th {\n",
       "        vertical-align: top;\n",
       "    }\n",
       "\n",
       "    .dataframe thead th {\n",
       "        text-align: right;\n",
       "    }\n",
       "</style>\n",
       "<table border=\"1\" class=\"dataframe\">\n",
       "  <thead>\n",
       "    <tr style=\"text-align: right;\">\n",
       "      <th></th>\n",
       "      <th>ave_speed_x</th>\n",
       "      <th>ave_speed_y</th>\n",
       "      <th>distance</th>\n",
       "      <th>snf_N</th>\n",
       "      <th>snf_Y</th>\n",
       "      <th>time_n_Duty</th>\n",
       "      <th>time_n_Morning</th>\n",
       "      <th>time_n_Night</th>\n",
       "      <th>id_1.0</th>\n",
       "      <th>id_2.0</th>\n",
       "    </tr>\n",
       "  </thead>\n",
       "  <tbody>\n",
       "    <tr>\n",
       "      <th>0</th>\n",
       "      <td>12.946163</td>\n",
       "      <td>13.731112</td>\n",
       "      <td>1.498521</td>\n",
       "      <td>1.0</td>\n",
       "      <td>0.0</td>\n",
       "      <td>1.0</td>\n",
       "      <td>0.0</td>\n",
       "      <td>0.0</td>\n",
       "      <td>0.0</td>\n",
       "      <td>1.0</td>\n",
       "    </tr>\n",
       "    <tr>\n",
       "      <th>1</th>\n",
       "      <td>13.838090</td>\n",
       "      <td>12.750622</td>\n",
       "      <td>1.805507</td>\n",
       "      <td>1.0</td>\n",
       "      <td>0.0</td>\n",
       "      <td>0.0</td>\n",
       "      <td>0.0</td>\n",
       "      <td>1.0</td>\n",
       "      <td>1.0</td>\n",
       "      <td>0.0</td>\n",
       "    </tr>\n",
       "    <tr>\n",
       "      <th>2</th>\n",
       "      <td>12.260338</td>\n",
       "      <td>15.753882</td>\n",
       "      <td>6.385098</td>\n",
       "      <td>1.0</td>\n",
       "      <td>0.0</td>\n",
       "      <td>1.0</td>\n",
       "      <td>0.0</td>\n",
       "      <td>0.0</td>\n",
       "      <td>0.0</td>\n",
       "      <td>1.0</td>\n",
       "    </tr>\n",
       "    <tr>\n",
       "      <th>3</th>\n",
       "      <td>14.736821</td>\n",
       "      <td>15.753882</td>\n",
       "      <td>1.485498</td>\n",
       "      <td>1.0</td>\n",
       "      <td>0.0</td>\n",
       "      <td>0.0</td>\n",
       "      <td>0.0</td>\n",
       "      <td>1.0</td>\n",
       "      <td>0.0</td>\n",
       "      <td>1.0</td>\n",
       "    </tr>\n",
       "    <tr>\n",
       "      <th>4</th>\n",
       "      <td>15.942333</td>\n",
       "      <td>14.571577</td>\n",
       "      <td>1.188588</td>\n",
       "      <td>1.0</td>\n",
       "      <td>0.0</td>\n",
       "      <td>1.0</td>\n",
       "      <td>0.0</td>\n",
       "      <td>0.0</td>\n",
       "      <td>0.0</td>\n",
       "      <td>1.0</td>\n",
       "    </tr>\n",
       "  </tbody>\n",
       "</table>\n",
       "</div>"
      ],
      "text/plain": [
       "   ave_speed_x  ave_speed_y  distance  snf_N  snf_Y  time_n_Duty  \\\n",
       "0    12.946163    13.731112  1.498521    1.0    0.0          1.0   \n",
       "1    13.838090    12.750622  1.805507    1.0    0.0          0.0   \n",
       "2    12.260338    15.753882  6.385098    1.0    0.0          1.0   \n",
       "3    14.736821    15.753882  1.485498    1.0    0.0          0.0   \n",
       "4    15.942333    14.571577  1.188588    1.0    0.0          1.0   \n",
       "\n",
       "   time_n_Morning  time_n_Night  id_1.0  id_2.0  \n",
       "0             0.0           0.0     0.0     1.0  \n",
       "1             0.0           1.0     1.0     0.0  \n",
       "2             0.0           0.0     0.0     1.0  \n",
       "3             0.0           1.0     0.0     1.0  \n",
       "4             0.0           0.0     0.0     1.0  "
      ]
     },
     "execution_count": 153,
     "metadata": {},
     "output_type": "execute_result"
    }
   ],
   "source": [
    "dfX.head()"
   ]
  },
  {
   "cell_type": "code",
   "execution_count": 169,
   "metadata": {},
   "outputs": [],
   "source": [
    "y = taxi_new['trip_duration']"
   ]
  },
  {
   "cell_type": "code",
   "execution_count": 170,
   "metadata": {},
   "outputs": [],
   "source": [
    "from sklearn.model_selection import train_test_split\n",
    "X_train, X_test, y_train, y_test = train_test_split(dfX, y, test_size=0.25)"
   ]
  },
  {
   "cell_type": "code",
   "execution_count": 171,
   "metadata": {},
   "outputs": [
    {
     "data": {
      "text/plain": [
       "DecisionTreeRegressor(criterion='mse', max_depth=7, max_features=None,\n",
       "           max_leaf_nodes=None, min_impurity_decrease=0.0,\n",
       "           min_impurity_split=None, min_samples_leaf=1,\n",
       "           min_samples_split=2, min_weight_fraction_leaf=0.0,\n",
       "           presort=False, random_state=0, splitter='best')"
      ]
     },
     "execution_count": 171,
     "metadata": {},
     "output_type": "execute_result"
    }
   ],
   "source": [
    "tree = DecisionTreeRegressor(max_depth=7, random_state=0)\n",
    "tree.fit(X_train, y_train)"
   ]
  },
  {
   "cell_type": "code",
   "execution_count": 172,
   "metadata": {},
   "outputs": [
    {
     "data": {
      "text/plain": [
       "0.6665426892396675"
      ]
     },
     "execution_count": 172,
     "metadata": {},
     "output_type": "execute_result"
    }
   ],
   "source": [
    "tree.score(X_train, y_train)"
   ]
  },
  {
   "cell_type": "code",
   "execution_count": 173,
   "metadata": {},
   "outputs": [
    {
     "data": {
      "text/plain": [
       "0.6632770536954776"
      ]
     },
     "execution_count": 173,
     "metadata": {},
     "output_type": "execute_result"
    }
   ],
   "source": [
    "tree.score(X_test, y_test)"
   ]
  },
  {
   "cell_type": "code",
   "execution_count": 174,
   "metadata": {},
   "outputs": [
    {
     "data": {
      "text/plain": [
       "array([2.58611313e-03, 2.59438287e-02, 9.02647880e-01, 0.00000000e+00,\n",
       "       0.00000000e+00, 6.10924009e-02, 4.27664041e-03, 3.21089112e-03,\n",
       "       2.42246243e-04, 0.00000000e+00])"
      ]
     },
     "execution_count": 174,
     "metadata": {},
     "output_type": "execute_result"
    }
   ],
   "source": [
    "tree.feature_importances_"
   ]
  },
  {
   "cell_type": "code",
   "execution_count": 175,
   "metadata": {},
   "outputs": [
    {
     "data": {
      "text/plain": [
       "DecisionTreeRegressor(criterion='mse', max_depth=9, max_features=None,\n",
       "           max_leaf_nodes=None, min_impurity_decrease=0.0,\n",
       "           min_impurity_split=None, min_samples_leaf=1,\n",
       "           min_samples_split=2, min_weight_fraction_leaf=0.0,\n",
       "           presort=False, random_state=1, splitter='best')"
      ]
     },
     "execution_count": 175,
     "metadata": {},
     "output_type": "execute_result"
    }
   ],
   "source": [
    "tree_2 = DecisionTreeRegressor(max_depth=9, random_state=1)\n",
    "tree_2.fit(X_train, y_train)"
   ]
  },
  {
   "cell_type": "code",
   "execution_count": 176,
   "metadata": {},
   "outputs": [
    {
     "data": {
      "text/plain": [
       "0.6821899430164705"
      ]
     },
     "execution_count": 176,
     "metadata": {},
     "output_type": "execute_result"
    }
   ],
   "source": [
    "tree_2.score(X_train, y_train)"
   ]
  },
  {
   "cell_type": "code",
   "execution_count": 177,
   "metadata": {},
   "outputs": [
    {
     "data": {
      "text/plain": [
       "0.6693884666759853"
      ]
     },
     "execution_count": 177,
     "metadata": {},
     "output_type": "execute_result"
    }
   ],
   "source": [
    "tree_2.score(X_test, y_test)"
   ]
  },
  {
   "cell_type": "code",
   "execution_count": 181,
   "metadata": {},
   "outputs": [
    {
     "data": {
      "text/plain": [
       "DecisionTreeRegressor(criterion='mse', max_depth=12, max_features=None,\n",
       "           max_leaf_nodes=None, min_impurity_decrease=0.0,\n",
       "           min_impurity_split=None, min_samples_leaf=1,\n",
       "           min_samples_split=2, min_weight_fraction_leaf=0.0,\n",
       "           presort=False, random_state=1, splitter='best')"
      ]
     },
     "execution_count": 181,
     "metadata": {},
     "output_type": "execute_result"
    }
   ],
   "source": [
    "tree_3 = DecisionTreeRegressor(max_depth=12, random_state=1)\n",
    "tree_3.fit(X_train, y_train)"
   ]
  },
  {
   "cell_type": "code",
   "execution_count": 182,
   "metadata": {},
   "outputs": [
    {
     "data": {
      "text/plain": [
       "0.7088648184285258"
      ]
     },
     "execution_count": 182,
     "metadata": {},
     "output_type": "execute_result"
    }
   ],
   "source": [
    "tree_3.score(X_train, y_train)"
   ]
  },
  {
   "cell_type": "code",
   "execution_count": 183,
   "metadata": {},
   "outputs": [
    {
     "data": {
      "text/plain": [
       "0.6675879114347754"
      ]
     },
     "execution_count": 183,
     "metadata": {},
     "output_type": "execute_result"
    }
   ],
   "source": [
    "tree_3.score(X_test, y_test)"
   ]
  },
  {
   "cell_type": "markdown",
   "metadata": {},
   "source": [
    "# test.csv"
   ]
  },
  {
   "cell_type": "code",
   "execution_count": 37,
   "metadata": {},
   "outputs": [],
   "source": [
    "taxi_test = pd.read_csv(\"/Users/jisuim/Desktop/tp_taxi/jisu/test.csv\")"
   ]
  },
  {
   "cell_type": "code",
   "execution_count": 38,
   "metadata": {},
   "outputs": [],
   "source": [
    "for i in range(len(taxi_test)):\n",
    "    lat1 = taxi_test['pickup_latitude'][i]\n",
    "    lon1 = taxi_test['pickup_longitude'][i]\n",
    "    lat2 = taxi_test['dropoff_latitude'][i]\n",
    "    lon2 = taxi_test['dropoff_longitude'][i]\n",
    "    taxi_test.at[i, 'distance'] = dist(lat1, lon1, lat2, lon2)\n"
   ]
  },
  {
   "cell_type": "code",
   "execution_count": 39,
   "metadata": {},
   "outputs": [],
   "source": [
    "### 시간대 19~00(Night) / 01~07(Morning) / 08~18(Duty) 로 분할하기\n",
    "Morning = ['01','02','03','04','05','06','07']\n",
    "Night = ['19', '20', '21', '22', '23', '00']\n",
    "for i in range(len(taxi_test)):\n",
    "    k = taxi_test['pickup_datetime'][i][11:13]\n",
    "    if k in Morning:\n",
    "        taxi_test.at[i, \"time_n\"] = \"Morning\"\n",
    "    elif k in Night:\n",
    "        taxi_test.at[i, \"time_n\"] = \"Night\"\n",
    "    else:\n",
    "        taxi_test.at[i, \"time_n\"] = \"Duty\"\n",
    "        \n",
    "     "
   ]
  },
  {
   "cell_type": "code",
   "execution_count": 185,
   "metadata": {},
   "outputs": [],
   "source": [
    "tdummy_time_n = pd.get_dummies(taxi_test['time_n'],prefix='time_n')\n",
    "tdummy_vendor_id = pd.get_dummies(taxi_test['vendor_id'], prefix='id')\n",
    "tdummy_store = pd.get_dummies(taxi_test['store_and_fwd_flag'], prefix='snf')"
   ]
  },
  {
   "cell_type": "code",
   "execution_count": 184,
   "metadata": {},
   "outputs": [],
   "source": [
    "X_t = taxi_test[['ave_speed_x','ave_speed_y', 'distance']]"
   ]
  },
  {
   "cell_type": "code",
   "execution_count": 186,
   "metadata": {},
   "outputs": [],
   "source": [
    "dfX_t = pd.concat([X_t, tdummy_store, tdummy_time_n, tdummy_vendor_id], axis=1)"
   ]
  },
  {
   "cell_type": "code",
   "execution_count": 43,
   "metadata": {},
   "outputs": [],
   "source": [
    "t_y = tree.predict(dfX_t)"
   ]
  },
  {
   "cell_type": "code",
   "execution_count": 47,
   "metadata": {},
   "outputs": [],
   "source": [
    "t_y = pd.DataFrame(t_y)"
   ]
  },
  {
   "cell_type": "code",
   "execution_count": 48,
   "metadata": {},
   "outputs": [
    {
     "data": {
      "text/html": [
       "<div>\n",
       "<style scoped>\n",
       "    .dataframe tbody tr th:only-of-type {\n",
       "        vertical-align: middle;\n",
       "    }\n",
       "\n",
       "    .dataframe tbody tr th {\n",
       "        vertical-align: top;\n",
       "    }\n",
       "\n",
       "    .dataframe thead th {\n",
       "        text-align: right;\n",
       "    }\n",
       "</style>\n",
       "<table border=\"1\" class=\"dataframe\">\n",
       "  <thead>\n",
       "    <tr style=\"text-align: right;\">\n",
       "      <th></th>\n",
       "      <th>0</th>\n",
       "    </tr>\n",
       "  </thead>\n",
       "  <tbody>\n",
       "    <tr>\n",
       "      <th>0</th>\n",
       "      <td>782.666574</td>\n",
       "    </tr>\n",
       "    <tr>\n",
       "      <th>1</th>\n",
       "      <td>782.666574</td>\n",
       "    </tr>\n",
       "    <tr>\n",
       "      <th>2</th>\n",
       "      <td>470.893991</td>\n",
       "    </tr>\n",
       "    <tr>\n",
       "      <th>3</th>\n",
       "      <td>1189.425024</td>\n",
       "    </tr>\n",
       "    <tr>\n",
       "      <th>4</th>\n",
       "      <td>388.223893</td>\n",
       "    </tr>\n",
       "  </tbody>\n",
       "</table>\n",
       "</div>"
      ],
      "text/plain": [
       "             0\n",
       "0   782.666574\n",
       "1   782.666574\n",
       "2   470.893991\n",
       "3  1189.425024\n",
       "4   388.223893"
      ]
     },
     "execution_count": 48,
     "metadata": {},
     "output_type": "execute_result"
    }
   ],
   "source": [
    "t_y.head()"
   ]
  },
  {
   "cell_type": "code",
   "execution_count": 49,
   "metadata": {},
   "outputs": [],
   "source": [
    "submission_test = pd.concat([taxi_test['id'], t_y], axis=1)"
   ]
  },
  {
   "cell_type": "code",
   "execution_count": 50,
   "metadata": {},
   "outputs": [],
   "source": [
    "submission_test.to_csv('submission_2.csv', sep=',', na_rep='NaN')"
   ]
  },
  {
   "cell_type": "code",
   "execution_count": 58,
   "metadata": {},
   "outputs": [],
   "source": [
    "t_y_2 = tree_2.predict(dfX_t)"
   ]
  },
  {
   "cell_type": "code",
   "execution_count": 59,
   "metadata": {},
   "outputs": [],
   "source": [
    "t_y_2 = pd.DataFrame(t_y_2)"
   ]
  },
  {
   "cell_type": "code",
   "execution_count": 60,
   "metadata": {},
   "outputs": [
    {
     "data": {
      "text/html": [
       "<div>\n",
       "<style scoped>\n",
       "    .dataframe tbody tr th:only-of-type {\n",
       "        vertical-align: middle;\n",
       "    }\n",
       "\n",
       "    .dataframe tbody tr th {\n",
       "        vertical-align: top;\n",
       "    }\n",
       "\n",
       "    .dataframe thead th {\n",
       "        text-align: right;\n",
       "    }\n",
       "</style>\n",
       "<table border=\"1\" class=\"dataframe\">\n",
       "  <thead>\n",
       "    <tr style=\"text-align: right;\">\n",
       "      <th></th>\n",
       "      <th>0</th>\n",
       "    </tr>\n",
       "  </thead>\n",
       "  <tbody>\n",
       "    <tr>\n",
       "      <th>0</th>\n",
       "      <td>818.761064</td>\n",
       "    </tr>\n",
       "    <tr>\n",
       "      <th>1</th>\n",
       "      <td>722.254658</td>\n",
       "    </tr>\n",
       "    <tr>\n",
       "      <th>2</th>\n",
       "      <td>449.997410</td>\n",
       "    </tr>\n",
       "    <tr>\n",
       "      <th>3</th>\n",
       "      <td>1245.218229</td>\n",
       "    </tr>\n",
       "    <tr>\n",
       "      <th>4</th>\n",
       "      <td>396.469859</td>\n",
       "    </tr>\n",
       "  </tbody>\n",
       "</table>\n",
       "</div>"
      ],
      "text/plain": [
       "             0\n",
       "0   818.761064\n",
       "1   722.254658\n",
       "2   449.997410\n",
       "3  1245.218229\n",
       "4   396.469859"
      ]
     },
     "execution_count": 60,
     "metadata": {},
     "output_type": "execute_result"
    }
   ],
   "source": [
    "t_y_2.head()"
   ]
  },
  {
   "cell_type": "code",
   "execution_count": 61,
   "metadata": {},
   "outputs": [],
   "source": [
    "submission_test = pd.concat([taxi_test['id'], t_y_2], axis=1)"
   ]
  },
  {
   "cell_type": "code",
   "execution_count": 62,
   "metadata": {},
   "outputs": [],
   "source": [
    "submission_test.to_csv('submission_3.csv', sep=',', na_rep='NaN')"
   ]
  },
  {
   "cell_type": "code",
   "execution_count": 90,
   "metadata": {},
   "outputs": [],
   "source": [
    "t_y_3 = tree_3.predict(dfX_t)"
   ]
  },
  {
   "cell_type": "code",
   "execution_count": 93,
   "metadata": {},
   "outputs": [],
   "source": [
    "t_y_3 = pd.DataFrame(t_y_3)"
   ]
  },
  {
   "cell_type": "code",
   "execution_count": 94,
   "metadata": {},
   "outputs": [],
   "source": [
    "submission_test = pd.concat([taxi_test['id'], t_y_3], axis=1)"
   ]
  },
  {
   "cell_type": "code",
   "execution_count": 95,
   "metadata": {},
   "outputs": [],
   "source": [
    "submission_test.to_csv('submission_4.csv', sep=',', na_rep='NaN')"
   ]
  },
  {
   "cell_type": "code",
   "execution_count": 192,
   "metadata": {},
   "outputs": [],
   "source": [
    "dfX_t = dfX_t.fillna(value=0)\n",
    "dfX_t = pd.DataFrame(dfX_t)"
   ]
  },
  {
   "cell_type": "code",
   "execution_count": 194,
   "metadata": {},
   "outputs": [],
   "source": [
    "### speed 추가, depth = 12\n",
    "t_y_4 = tree_3.predict(dfX_t)\n",
    "t_y_4 = pd.DataFrame(t_y_4)\n",
    "submission_test = pd.concat([taxi_test['id'], t_y_4], axis=1)\n",
    "submission_test.to_csv('submission_6.csv', sep=',', na_rep='NaN')"
   ]
  },
  {
   "cell_type": "markdown",
   "metadata": {},
   "source": [
    "# Gradient Boosting"
   ]
  },
  {
   "cell_type": "code",
   "execution_count": 195,
   "metadata": {},
   "outputs": [],
   "source": [
    "from sklearn.ensemble import GradientBoostingRegressor"
   ]
  },
  {
   "cell_type": "code",
   "execution_count": 199,
   "metadata": {},
   "outputs": [
    {
     "data": {
      "text/plain": [
       "GradientBoostingRegressor(alpha=0.9, criterion='friedman_mse', init=None,\n",
       "             learning_rate=0.1, loss='ls', max_depth=11, max_features=None,\n",
       "             max_leaf_nodes=None, min_impurity_decrease=0.0,\n",
       "             min_impurity_split=None, min_samples_leaf=1,\n",
       "             min_samples_split=2, min_weight_fraction_leaf=0.0,\n",
       "             n_estimators=20, presort='auto', random_state=0,\n",
       "             subsample=1.0, verbose=0, warm_start=False)"
      ]
     },
     "execution_count": 199,
     "metadata": {},
     "output_type": "execute_result"
    }
   ],
   "source": [
    "gbr = GradientBoostingRegressor(learning_rate=0.1, n_estimators= 20, random_state=0, max_depth=11)\n",
    "gbr.fit(X_train, y_train)"
   ]
  },
  {
   "cell_type": "code",
   "execution_count": 197,
   "metadata": {},
   "outputs": [
    {
     "data": {
      "text/plain": [
       "0.6884425292508188"
      ]
     },
     "execution_count": 197,
     "metadata": {},
     "output_type": "execute_result"
    }
   ],
   "source": [
    "gbr.score(X_train, y_train) # n_estimators = 20, max_depth = 9"
   ]
  },
  {
   "cell_type": "code",
   "execution_count": 198,
   "metadata": {},
   "outputs": [
    {
     "data": {
      "text/plain": [
       "0.6723305867581697"
      ]
     },
     "execution_count": 198,
     "metadata": {},
     "output_type": "execute_result"
    }
   ],
   "source": [
    "gbr.score(X_test, y_test) # n_estimators = 20, max_depth = 9"
   ]
  },
  {
   "cell_type": "code",
   "execution_count": 201,
   "metadata": {},
   "outputs": [
    {
     "data": {
      "text/plain": [
       "0.7151521935072287"
      ]
     },
     "execution_count": 201,
     "metadata": {},
     "output_type": "execute_result"
    }
   ],
   "source": [
    "gbr.score(X_train, y_train) # n_estimators = 20, max_depth = 11"
   ]
  },
  {
   "cell_type": "code",
   "execution_count": 109,
   "metadata": {},
   "outputs": [],
   "source": [
    "t_y_g = gbr.predict(dfX_t)"
   ]
  },
  {
   "cell_type": "code",
   "execution_count": 111,
   "metadata": {},
   "outputs": [],
   "source": [
    "t_y_g = pd.DataFrame(t_y_g)"
   ]
  },
  {
   "cell_type": "code",
   "execution_count": 112,
   "metadata": {},
   "outputs": [],
   "source": [
    "submission_test = pd.concat([taxi_test['id'], t_y_g], axis=1)\n",
    "submission_test.to_csv('submission_5.csv', sep=',', na_rep='NaN')"
   ]
  },
  {
   "cell_type": "code",
   "execution_count": 113,
   "metadata": {},
   "outputs": [
    {
     "data": {
      "text/html": [
       "<div>\n",
       "<style scoped>\n",
       "    .dataframe tbody tr th:only-of-type {\n",
       "        vertical-align: middle;\n",
       "    }\n",
       "\n",
       "    .dataframe tbody tr th {\n",
       "        vertical-align: top;\n",
       "    }\n",
       "\n",
       "    .dataframe thead th {\n",
       "        text-align: right;\n",
       "    }\n",
       "</style>\n",
       "<table border=\"1\" class=\"dataframe\">\n",
       "  <thead>\n",
       "    <tr style=\"text-align: right;\">\n",
       "      <th></th>\n",
       "      <th>0</th>\n",
       "    </tr>\n",
       "  </thead>\n",
       "  <tbody>\n",
       "    <tr>\n",
       "      <th>0</th>\n",
       "      <td>832.122566</td>\n",
       "    </tr>\n",
       "    <tr>\n",
       "      <th>1</th>\n",
       "      <td>700.280096</td>\n",
       "    </tr>\n",
       "    <tr>\n",
       "      <th>2</th>\n",
       "      <td>545.373741</td>\n",
       "    </tr>\n",
       "    <tr>\n",
       "      <th>3</th>\n",
       "      <td>1073.457954</td>\n",
       "    </tr>\n",
       "    <tr>\n",
       "      <th>4</th>\n",
       "      <td>434.638600</td>\n",
       "    </tr>\n",
       "  </tbody>\n",
       "</table>\n",
       "</div>"
      ],
      "text/plain": [
       "             0\n",
       "0   832.122566\n",
       "1   700.280096\n",
       "2   545.373741\n",
       "3  1073.457954\n",
       "4   434.638600"
      ]
     },
     "execution_count": 113,
     "metadata": {},
     "output_type": "execute_result"
    }
   ],
   "source": [
    "t_y_g.head()"
   ]
  },
  {
   "cell_type": "code",
   "execution_count": 200,
   "metadata": {},
   "outputs": [],
   "source": [
    "t_y_g2 = gbr.predict(dfX_t)     ## n_estimators=20, max_depth=11\n",
    "t_y_g2 = pd.DataFrame(t_y_g2)"
   ]
  },
  {
   "cell_type": "code",
   "execution_count": 202,
   "metadata": {},
   "outputs": [],
   "source": [
    "submission_test = pd.concat([taxi_test['id'], t_y_g2], axis=1)\n",
    "submission_test.to_csv('submission_7.csv', sep=',', na_rep='NaN')"
   ]
  },
  {
   "cell_type": "markdown",
   "metadata": {},
   "source": [
    "# New Feature -> Speed"
   ]
  },
  {
   "cell_type": "markdown",
   "metadata": {},
   "source": [
    "> 1도 차이 : 약 133km\n",
    "\n",
    "> 0.01도 차이 : 약 1.3km\n",
    "\n",
    "> 0.001도 차이 : 약 130m"
   ]
  },
  {
   "cell_type": "code",
   "execution_count": 115,
   "metadata": {},
   "outputs": [],
   "source": [
    "taxi_new[\"p_lon\"] = np.round(taxi_new['pickup_longitude'], 2)\n",
    "taxi_new[\"p_lat\"] = np.round(taxi_new['pickup_latitude'], 2)\n",
    "taxi_new[\"d_lon\"] = np.round(taxi_new['dropoff_longitude'], 2)\n",
    "taxi_new[\"d_lat\"] = np.round(taxi_new['dropoff_latitude'], 2)"
   ]
  },
  {
   "cell_type": "code",
   "execution_count": 132,
   "metadata": {},
   "outputs": [
    {
     "data": {
      "text/html": [
       "<div>\n",
       "<style scoped>\n",
       "    .dataframe tbody tr th:only-of-type {\n",
       "        vertical-align: middle;\n",
       "    }\n",
       "\n",
       "    .dataframe tbody tr th {\n",
       "        vertical-align: top;\n",
       "    }\n",
       "\n",
       "    .dataframe thead th {\n",
       "        text-align: right;\n",
       "    }\n",
       "</style>\n",
       "<table border=\"1\" class=\"dataframe\">\n",
       "  <thead>\n",
       "    <tr style=\"text-align: right;\">\n",
       "      <th></th>\n",
       "      <th>id</th>\n",
       "      <th>vendor_id</th>\n",
       "      <th>pickup_datetime</th>\n",
       "      <th>dropoff_datetime</th>\n",
       "      <th>passenger_count</th>\n",
       "      <th>pickup_longitude</th>\n",
       "      <th>pickup_latitude</th>\n",
       "      <th>dropoff_longitude</th>\n",
       "      <th>dropoff_latitude</th>\n",
       "      <th>store_and_fwd_flag</th>\n",
       "      <th>trip_duration</th>\n",
       "      <th>distance</th>\n",
       "      <th>time_n</th>\n",
       "      <th>p_lon</th>\n",
       "      <th>p_lat</th>\n",
       "      <th>d_lon</th>\n",
       "      <th>d_lat</th>\n",
       "    </tr>\n",
       "  </thead>\n",
       "  <tbody>\n",
       "    <tr>\n",
       "      <th>0</th>\n",
       "      <td>id2875421</td>\n",
       "      <td>2.0</td>\n",
       "      <td>2016-03-14 17:24:55</td>\n",
       "      <td>2016-03-14 17:32:30</td>\n",
       "      <td>1.0</td>\n",
       "      <td>-73.982155</td>\n",
       "      <td>40.767937</td>\n",
       "      <td>-73.964630</td>\n",
       "      <td>40.765602</td>\n",
       "      <td>N</td>\n",
       "      <td>455.0</td>\n",
       "      <td>1.498521</td>\n",
       "      <td>Duty</td>\n",
       "      <td>-73.98</td>\n",
       "      <td>40.77</td>\n",
       "      <td>-73.96</td>\n",
       "      <td>40.77</td>\n",
       "    </tr>\n",
       "    <tr>\n",
       "      <th>1</th>\n",
       "      <td>id2377394</td>\n",
       "      <td>1.0</td>\n",
       "      <td>2016-06-12 00:43:35</td>\n",
       "      <td>2016-06-12 00:54:38</td>\n",
       "      <td>1.0</td>\n",
       "      <td>-73.980415</td>\n",
       "      <td>40.738564</td>\n",
       "      <td>-73.999481</td>\n",
       "      <td>40.731152</td>\n",
       "      <td>N</td>\n",
       "      <td>663.0</td>\n",
       "      <td>1.805507</td>\n",
       "      <td>Night</td>\n",
       "      <td>-73.98</td>\n",
       "      <td>40.74</td>\n",
       "      <td>-74.00</td>\n",
       "      <td>40.73</td>\n",
       "    </tr>\n",
       "    <tr>\n",
       "      <th>2</th>\n",
       "      <td>id3858529</td>\n",
       "      <td>2.0</td>\n",
       "      <td>2016-01-19 11:35:24</td>\n",
       "      <td>2016-01-19 12:10:48</td>\n",
       "      <td>1.0</td>\n",
       "      <td>-73.979027</td>\n",
       "      <td>40.763939</td>\n",
       "      <td>-74.005333</td>\n",
       "      <td>40.710087</td>\n",
       "      <td>N</td>\n",
       "      <td>2124.0</td>\n",
       "      <td>6.385098</td>\n",
       "      <td>Duty</td>\n",
       "      <td>-73.98</td>\n",
       "      <td>40.76</td>\n",
       "      <td>-74.01</td>\n",
       "      <td>40.71</td>\n",
       "    </tr>\n",
       "    <tr>\n",
       "      <th>3</th>\n",
       "      <td>id3504673</td>\n",
       "      <td>2.0</td>\n",
       "      <td>2016-04-06 19:32:31</td>\n",
       "      <td>2016-04-06 19:39:40</td>\n",
       "      <td>1.0</td>\n",
       "      <td>-74.010040</td>\n",
       "      <td>40.719971</td>\n",
       "      <td>-74.012268</td>\n",
       "      <td>40.706718</td>\n",
       "      <td>N</td>\n",
       "      <td>429.0</td>\n",
       "      <td>1.485498</td>\n",
       "      <td>Night</td>\n",
       "      <td>-74.01</td>\n",
       "      <td>40.72</td>\n",
       "      <td>-74.01</td>\n",
       "      <td>40.71</td>\n",
       "    </tr>\n",
       "    <tr>\n",
       "      <th>4</th>\n",
       "      <td>id2181028</td>\n",
       "      <td>2.0</td>\n",
       "      <td>2016-03-26 13:30:55</td>\n",
       "      <td>2016-03-26 13:38:10</td>\n",
       "      <td>1.0</td>\n",
       "      <td>-73.973053</td>\n",
       "      <td>40.793209</td>\n",
       "      <td>-73.972923</td>\n",
       "      <td>40.782520</td>\n",
       "      <td>N</td>\n",
       "      <td>435.0</td>\n",
       "      <td>1.188588</td>\n",
       "      <td>Duty</td>\n",
       "      <td>-73.97</td>\n",
       "      <td>40.79</td>\n",
       "      <td>-73.97</td>\n",
       "      <td>40.78</td>\n",
       "    </tr>\n",
       "  </tbody>\n",
       "</table>\n",
       "</div>"
      ],
      "text/plain": [
       "          id  vendor_id      pickup_datetime     dropoff_datetime  \\\n",
       "0  id2875421        2.0  2016-03-14 17:24:55  2016-03-14 17:32:30   \n",
       "1  id2377394        1.0  2016-06-12 00:43:35  2016-06-12 00:54:38   \n",
       "2  id3858529        2.0  2016-01-19 11:35:24  2016-01-19 12:10:48   \n",
       "3  id3504673        2.0  2016-04-06 19:32:31  2016-04-06 19:39:40   \n",
       "4  id2181028        2.0  2016-03-26 13:30:55  2016-03-26 13:38:10   \n",
       "\n",
       "   passenger_count  pickup_longitude  pickup_latitude  dropoff_longitude  \\\n",
       "0              1.0        -73.982155        40.767937         -73.964630   \n",
       "1              1.0        -73.980415        40.738564         -73.999481   \n",
       "2              1.0        -73.979027        40.763939         -74.005333   \n",
       "3              1.0        -74.010040        40.719971         -74.012268   \n",
       "4              1.0        -73.973053        40.793209         -73.972923   \n",
       "\n",
       "   dropoff_latitude store_and_fwd_flag  trip_duration  distance time_n  p_lon  \\\n",
       "0         40.765602                  N          455.0  1.498521   Duty -73.98   \n",
       "1         40.731152                  N          663.0  1.805507  Night -73.98   \n",
       "2         40.710087                  N         2124.0  6.385098   Duty -73.98   \n",
       "3         40.706718                  N          429.0  1.485498  Night -74.01   \n",
       "4         40.782520                  N          435.0  1.188588   Duty -73.97   \n",
       "\n",
       "   p_lat  d_lon  d_lat  \n",
       "0  40.77 -73.96  40.77  \n",
       "1  40.74 -74.00  40.73  \n",
       "2  40.76 -74.01  40.71  \n",
       "3  40.72 -74.01  40.71  \n",
       "4  40.79 -73.97  40.78  "
      ]
     },
     "execution_count": 132,
     "metadata": {},
     "output_type": "execute_result"
    }
   ],
   "source": [
    "taxi_new.head()"
   ]
  },
  {
   "cell_type": "code",
   "execution_count": 133,
   "metadata": {},
   "outputs": [],
   "source": [
    "taxi_new[\"speed\"] = taxi_new[\"distance\"] / taxi_new['trip_duration'] * 3600 ## 속도 (km/hour)"
   ]
  },
  {
   "cell_type": "code",
   "execution_count": 134,
   "metadata": {},
   "outputs": [
    {
     "data": {
      "text/html": [
       "<div>\n",
       "<style scoped>\n",
       "    .dataframe tbody tr th:only-of-type {\n",
       "        vertical-align: middle;\n",
       "    }\n",
       "\n",
       "    .dataframe tbody tr th {\n",
       "        vertical-align: top;\n",
       "    }\n",
       "\n",
       "    .dataframe thead th {\n",
       "        text-align: right;\n",
       "    }\n",
       "</style>\n",
       "<table border=\"1\" class=\"dataframe\">\n",
       "  <thead>\n",
       "    <tr style=\"text-align: right;\">\n",
       "      <th></th>\n",
       "      <th>id</th>\n",
       "      <th>vendor_id</th>\n",
       "      <th>pickup_datetime</th>\n",
       "      <th>dropoff_datetime</th>\n",
       "      <th>passenger_count</th>\n",
       "      <th>pickup_longitude</th>\n",
       "      <th>pickup_latitude</th>\n",
       "      <th>dropoff_longitude</th>\n",
       "      <th>dropoff_latitude</th>\n",
       "      <th>store_and_fwd_flag</th>\n",
       "      <th>trip_duration</th>\n",
       "      <th>distance</th>\n",
       "      <th>time_n</th>\n",
       "      <th>p_lon</th>\n",
       "      <th>p_lat</th>\n",
       "      <th>d_lon</th>\n",
       "      <th>d_lat</th>\n",
       "      <th>speed</th>\n",
       "    </tr>\n",
       "  </thead>\n",
       "  <tbody>\n",
       "    <tr>\n",
       "      <th>0</th>\n",
       "      <td>id2875421</td>\n",
       "      <td>2.0</td>\n",
       "      <td>2016-03-14 17:24:55</td>\n",
       "      <td>2016-03-14 17:32:30</td>\n",
       "      <td>1.0</td>\n",
       "      <td>-73.982155</td>\n",
       "      <td>40.767937</td>\n",
       "      <td>-73.964630</td>\n",
       "      <td>40.765602</td>\n",
       "      <td>N</td>\n",
       "      <td>455.0</td>\n",
       "      <td>1.498521</td>\n",
       "      <td>Duty</td>\n",
       "      <td>-73.98</td>\n",
       "      <td>40.77</td>\n",
       "      <td>-73.96</td>\n",
       "      <td>40.77</td>\n",
       "      <td>11.856428</td>\n",
       "    </tr>\n",
       "    <tr>\n",
       "      <th>1</th>\n",
       "      <td>id2377394</td>\n",
       "      <td>1.0</td>\n",
       "      <td>2016-06-12 00:43:35</td>\n",
       "      <td>2016-06-12 00:54:38</td>\n",
       "      <td>1.0</td>\n",
       "      <td>-73.980415</td>\n",
       "      <td>40.738564</td>\n",
       "      <td>-73.999481</td>\n",
       "      <td>40.731152</td>\n",
       "      <td>N</td>\n",
       "      <td>663.0</td>\n",
       "      <td>1.805507</td>\n",
       "      <td>Night</td>\n",
       "      <td>-73.98</td>\n",
       "      <td>40.74</td>\n",
       "      <td>-74.00</td>\n",
       "      <td>40.73</td>\n",
       "      <td>9.803659</td>\n",
       "    </tr>\n",
       "    <tr>\n",
       "      <th>2</th>\n",
       "      <td>id3858529</td>\n",
       "      <td>2.0</td>\n",
       "      <td>2016-01-19 11:35:24</td>\n",
       "      <td>2016-01-19 12:10:48</td>\n",
       "      <td>1.0</td>\n",
       "      <td>-73.979027</td>\n",
       "      <td>40.763939</td>\n",
       "      <td>-74.005333</td>\n",
       "      <td>40.710087</td>\n",
       "      <td>N</td>\n",
       "      <td>2124.0</td>\n",
       "      <td>6.385098</td>\n",
       "      <td>Duty</td>\n",
       "      <td>-73.98</td>\n",
       "      <td>40.76</td>\n",
       "      <td>-74.01</td>\n",
       "      <td>40.71</td>\n",
       "      <td>10.822201</td>\n",
       "    </tr>\n",
       "    <tr>\n",
       "      <th>3</th>\n",
       "      <td>id3504673</td>\n",
       "      <td>2.0</td>\n",
       "      <td>2016-04-06 19:32:31</td>\n",
       "      <td>2016-04-06 19:39:40</td>\n",
       "      <td>1.0</td>\n",
       "      <td>-74.010040</td>\n",
       "      <td>40.719971</td>\n",
       "      <td>-74.012268</td>\n",
       "      <td>40.706718</td>\n",
       "      <td>N</td>\n",
       "      <td>429.0</td>\n",
       "      <td>1.485498</td>\n",
       "      <td>Night</td>\n",
       "      <td>-74.01</td>\n",
       "      <td>40.72</td>\n",
       "      <td>-74.01</td>\n",
       "      <td>40.71</td>\n",
       "      <td>12.465721</td>\n",
       "    </tr>\n",
       "    <tr>\n",
       "      <th>4</th>\n",
       "      <td>id2181028</td>\n",
       "      <td>2.0</td>\n",
       "      <td>2016-03-26 13:30:55</td>\n",
       "      <td>2016-03-26 13:38:10</td>\n",
       "      <td>1.0</td>\n",
       "      <td>-73.973053</td>\n",
       "      <td>40.793209</td>\n",
       "      <td>-73.972923</td>\n",
       "      <td>40.782520</td>\n",
       "      <td>N</td>\n",
       "      <td>435.0</td>\n",
       "      <td>1.188588</td>\n",
       "      <td>Duty</td>\n",
       "      <td>-73.97</td>\n",
       "      <td>40.79</td>\n",
       "      <td>-73.97</td>\n",
       "      <td>40.78</td>\n",
       "      <td>9.836594</td>\n",
       "    </tr>\n",
       "  </tbody>\n",
       "</table>\n",
       "</div>"
      ],
      "text/plain": [
       "          id  vendor_id      pickup_datetime     dropoff_datetime  \\\n",
       "0  id2875421        2.0  2016-03-14 17:24:55  2016-03-14 17:32:30   \n",
       "1  id2377394        1.0  2016-06-12 00:43:35  2016-06-12 00:54:38   \n",
       "2  id3858529        2.0  2016-01-19 11:35:24  2016-01-19 12:10:48   \n",
       "3  id3504673        2.0  2016-04-06 19:32:31  2016-04-06 19:39:40   \n",
       "4  id2181028        2.0  2016-03-26 13:30:55  2016-03-26 13:38:10   \n",
       "\n",
       "   passenger_count  pickup_longitude  pickup_latitude  dropoff_longitude  \\\n",
       "0              1.0        -73.982155        40.767937         -73.964630   \n",
       "1              1.0        -73.980415        40.738564         -73.999481   \n",
       "2              1.0        -73.979027        40.763939         -74.005333   \n",
       "3              1.0        -74.010040        40.719971         -74.012268   \n",
       "4              1.0        -73.973053        40.793209         -73.972923   \n",
       "\n",
       "   dropoff_latitude store_and_fwd_flag  trip_duration  distance time_n  p_lon  \\\n",
       "0         40.765602                  N          455.0  1.498521   Duty -73.98   \n",
       "1         40.731152                  N          663.0  1.805507  Night -73.98   \n",
       "2         40.710087                  N         2124.0  6.385098   Duty -73.98   \n",
       "3         40.706718                  N          429.0  1.485498  Night -74.01   \n",
       "4         40.782520                  N          435.0  1.188588   Duty -73.97   \n",
       "\n",
       "   p_lat  d_lon  d_lat      speed  \n",
       "0  40.77 -73.96  40.77  11.856428  \n",
       "1  40.74 -74.00  40.73   9.803659  \n",
       "2  40.76 -74.01  40.71  10.822201  \n",
       "3  40.72 -74.01  40.71  12.465721  \n",
       "4  40.79 -73.97  40.78   9.836594  "
      ]
     },
     "execution_count": 134,
     "metadata": {},
     "output_type": "execute_result"
    }
   ],
   "source": [
    "taxi_new.head()"
   ]
  },
  {
   "cell_type": "code",
   "execution_count": 135,
   "metadata": {},
   "outputs": [],
   "source": [
    "taxi_new_p = taxi_new[['speed', 'p_lon', 'p_lat']].groupby(['p_lon', 'p_lat']).mean().reset_index()\n",
    "taxi_new_p = taxi_new_p.rename(columns = {'speed': 'ave_speed'})\n",
    "taxi_new_d = taxi_new[['speed', 'd_lon', 'd_lat']].groupby(['d_lon', 'd_lat']).mean().reset_index()\n",
    "taxi_new_d = taxi_new_d.rename(columns = {'speed': 'ave_speed'})"
   ]
  },
  {
   "cell_type": "code",
   "execution_count": 136,
   "metadata": {},
   "outputs": [],
   "source": [
    "taxi_new = pd.merge(taxi_new, taxi_new_p, on = ['p_lon', 'p_lat'], how = 'left')"
   ]
  },
  {
   "cell_type": "code",
   "execution_count": 137,
   "metadata": {},
   "outputs": [
    {
     "data": {
      "text/html": [
       "<div>\n",
       "<style scoped>\n",
       "    .dataframe tbody tr th:only-of-type {\n",
       "        vertical-align: middle;\n",
       "    }\n",
       "\n",
       "    .dataframe tbody tr th {\n",
       "        vertical-align: top;\n",
       "    }\n",
       "\n",
       "    .dataframe thead th {\n",
       "        text-align: right;\n",
       "    }\n",
       "</style>\n",
       "<table border=\"1\" class=\"dataframe\">\n",
       "  <thead>\n",
       "    <tr style=\"text-align: right;\">\n",
       "      <th></th>\n",
       "      <th>id</th>\n",
       "      <th>vendor_id</th>\n",
       "      <th>pickup_datetime</th>\n",
       "      <th>dropoff_datetime</th>\n",
       "      <th>passenger_count</th>\n",
       "      <th>pickup_longitude</th>\n",
       "      <th>pickup_latitude</th>\n",
       "      <th>dropoff_longitude</th>\n",
       "      <th>dropoff_latitude</th>\n",
       "      <th>store_and_fwd_flag</th>\n",
       "      <th>trip_duration</th>\n",
       "      <th>distance</th>\n",
       "      <th>time_n</th>\n",
       "      <th>p_lon</th>\n",
       "      <th>p_lat</th>\n",
       "      <th>d_lon</th>\n",
       "      <th>d_lat</th>\n",
       "      <th>speed</th>\n",
       "      <th>ave_speed</th>\n",
       "    </tr>\n",
       "  </thead>\n",
       "  <tbody>\n",
       "    <tr>\n",
       "      <th>0</th>\n",
       "      <td>id2875421</td>\n",
       "      <td>2.0</td>\n",
       "      <td>2016-03-14 17:24:55</td>\n",
       "      <td>2016-03-14 17:32:30</td>\n",
       "      <td>1.0</td>\n",
       "      <td>-73.982155</td>\n",
       "      <td>40.767937</td>\n",
       "      <td>-73.964630</td>\n",
       "      <td>40.765602</td>\n",
       "      <td>N</td>\n",
       "      <td>455.0</td>\n",
       "      <td>1.498521</td>\n",
       "      <td>Duty</td>\n",
       "      <td>-73.98</td>\n",
       "      <td>40.77</td>\n",
       "      <td>-73.96</td>\n",
       "      <td>40.77</td>\n",
       "      <td>11.856428</td>\n",
       "      <td>12.946163</td>\n",
       "    </tr>\n",
       "    <tr>\n",
       "      <th>1</th>\n",
       "      <td>id2377394</td>\n",
       "      <td>1.0</td>\n",
       "      <td>2016-06-12 00:43:35</td>\n",
       "      <td>2016-06-12 00:54:38</td>\n",
       "      <td>1.0</td>\n",
       "      <td>-73.980415</td>\n",
       "      <td>40.738564</td>\n",
       "      <td>-73.999481</td>\n",
       "      <td>40.731152</td>\n",
       "      <td>N</td>\n",
       "      <td>663.0</td>\n",
       "      <td>1.805507</td>\n",
       "      <td>Night</td>\n",
       "      <td>-73.98</td>\n",
       "      <td>40.74</td>\n",
       "      <td>-74.00</td>\n",
       "      <td>40.73</td>\n",
       "      <td>9.803659</td>\n",
       "      <td>13.838090</td>\n",
       "    </tr>\n",
       "    <tr>\n",
       "      <th>2</th>\n",
       "      <td>id3858529</td>\n",
       "      <td>2.0</td>\n",
       "      <td>2016-01-19 11:35:24</td>\n",
       "      <td>2016-01-19 12:10:48</td>\n",
       "      <td>1.0</td>\n",
       "      <td>-73.979027</td>\n",
       "      <td>40.763939</td>\n",
       "      <td>-74.005333</td>\n",
       "      <td>40.710087</td>\n",
       "      <td>N</td>\n",
       "      <td>2124.0</td>\n",
       "      <td>6.385098</td>\n",
       "      <td>Duty</td>\n",
       "      <td>-73.98</td>\n",
       "      <td>40.76</td>\n",
       "      <td>-74.01</td>\n",
       "      <td>40.71</td>\n",
       "      <td>10.822201</td>\n",
       "      <td>12.260338</td>\n",
       "    </tr>\n",
       "  </tbody>\n",
       "</table>\n",
       "</div>"
      ],
      "text/plain": [
       "          id  vendor_id      pickup_datetime     dropoff_datetime  \\\n",
       "0  id2875421        2.0  2016-03-14 17:24:55  2016-03-14 17:32:30   \n",
       "1  id2377394        1.0  2016-06-12 00:43:35  2016-06-12 00:54:38   \n",
       "2  id3858529        2.0  2016-01-19 11:35:24  2016-01-19 12:10:48   \n",
       "\n",
       "   passenger_count  pickup_longitude  pickup_latitude  dropoff_longitude  \\\n",
       "0              1.0        -73.982155        40.767937         -73.964630   \n",
       "1              1.0        -73.980415        40.738564         -73.999481   \n",
       "2              1.0        -73.979027        40.763939         -74.005333   \n",
       "\n",
       "   dropoff_latitude store_and_fwd_flag  trip_duration  distance time_n  p_lon  \\\n",
       "0         40.765602                  N          455.0  1.498521   Duty -73.98   \n",
       "1         40.731152                  N          663.0  1.805507  Night -73.98   \n",
       "2         40.710087                  N         2124.0  6.385098   Duty -73.98   \n",
       "\n",
       "   p_lat  d_lon  d_lat      speed  ave_speed  \n",
       "0  40.77 -73.96  40.77  11.856428  12.946163  \n",
       "1  40.74 -74.00  40.73   9.803659  13.838090  \n",
       "2  40.76 -74.01  40.71  10.822201  12.260338  "
      ]
     },
     "execution_count": 137,
     "metadata": {},
     "output_type": "execute_result"
    }
   ],
   "source": [
    "taxi_new.head(3)"
   ]
  },
  {
   "cell_type": "code",
   "execution_count": 138,
   "metadata": {},
   "outputs": [],
   "source": [
    "taxi_new = pd.merge(taxi_new, taxi_new_d, on = ['d_lon', 'd_lat'], how = 'left')"
   ]
  },
  {
   "cell_type": "code",
   "execution_count": 139,
   "metadata": {},
   "outputs": [
    {
     "data": {
      "text/html": [
       "<div>\n",
       "<style scoped>\n",
       "    .dataframe tbody tr th:only-of-type {\n",
       "        vertical-align: middle;\n",
       "    }\n",
       "\n",
       "    .dataframe tbody tr th {\n",
       "        vertical-align: top;\n",
       "    }\n",
       "\n",
       "    .dataframe thead th {\n",
       "        text-align: right;\n",
       "    }\n",
       "</style>\n",
       "<table border=\"1\" class=\"dataframe\">\n",
       "  <thead>\n",
       "    <tr style=\"text-align: right;\">\n",
       "      <th></th>\n",
       "      <th>id</th>\n",
       "      <th>vendor_id</th>\n",
       "      <th>pickup_datetime</th>\n",
       "      <th>dropoff_datetime</th>\n",
       "      <th>passenger_count</th>\n",
       "      <th>pickup_longitude</th>\n",
       "      <th>pickup_latitude</th>\n",
       "      <th>dropoff_longitude</th>\n",
       "      <th>dropoff_latitude</th>\n",
       "      <th>store_and_fwd_flag</th>\n",
       "      <th>trip_duration</th>\n",
       "      <th>distance</th>\n",
       "      <th>time_n</th>\n",
       "      <th>p_lon</th>\n",
       "      <th>p_lat</th>\n",
       "      <th>d_lon</th>\n",
       "      <th>d_lat</th>\n",
       "      <th>speed</th>\n",
       "      <th>ave_speed_x</th>\n",
       "      <th>ave_speed_y</th>\n",
       "    </tr>\n",
       "  </thead>\n",
       "  <tbody>\n",
       "    <tr>\n",
       "      <th>0</th>\n",
       "      <td>id2875421</td>\n",
       "      <td>2.0</td>\n",
       "      <td>2016-03-14 17:24:55</td>\n",
       "      <td>2016-03-14 17:32:30</td>\n",
       "      <td>1.0</td>\n",
       "      <td>-73.982155</td>\n",
       "      <td>40.767937</td>\n",
       "      <td>-73.964630</td>\n",
       "      <td>40.765602</td>\n",
       "      <td>N</td>\n",
       "      <td>455.0</td>\n",
       "      <td>1.498521</td>\n",
       "      <td>Duty</td>\n",
       "      <td>-73.98</td>\n",
       "      <td>40.77</td>\n",
       "      <td>-73.96</td>\n",
       "      <td>40.77</td>\n",
       "      <td>11.856428</td>\n",
       "      <td>12.946163</td>\n",
       "      <td>13.731112</td>\n",
       "    </tr>\n",
       "    <tr>\n",
       "      <th>1</th>\n",
       "      <td>id2377394</td>\n",
       "      <td>1.0</td>\n",
       "      <td>2016-06-12 00:43:35</td>\n",
       "      <td>2016-06-12 00:54:38</td>\n",
       "      <td>1.0</td>\n",
       "      <td>-73.980415</td>\n",
       "      <td>40.738564</td>\n",
       "      <td>-73.999481</td>\n",
       "      <td>40.731152</td>\n",
       "      <td>N</td>\n",
       "      <td>663.0</td>\n",
       "      <td>1.805507</td>\n",
       "      <td>Night</td>\n",
       "      <td>-73.98</td>\n",
       "      <td>40.74</td>\n",
       "      <td>-74.00</td>\n",
       "      <td>40.73</td>\n",
       "      <td>9.803659</td>\n",
       "      <td>13.838090</td>\n",
       "      <td>12.750622</td>\n",
       "    </tr>\n",
       "    <tr>\n",
       "      <th>2</th>\n",
       "      <td>id3858529</td>\n",
       "      <td>2.0</td>\n",
       "      <td>2016-01-19 11:35:24</td>\n",
       "      <td>2016-01-19 12:10:48</td>\n",
       "      <td>1.0</td>\n",
       "      <td>-73.979027</td>\n",
       "      <td>40.763939</td>\n",
       "      <td>-74.005333</td>\n",
       "      <td>40.710087</td>\n",
       "      <td>N</td>\n",
       "      <td>2124.0</td>\n",
       "      <td>6.385098</td>\n",
       "      <td>Duty</td>\n",
       "      <td>-73.98</td>\n",
       "      <td>40.76</td>\n",
       "      <td>-74.01</td>\n",
       "      <td>40.71</td>\n",
       "      <td>10.822201</td>\n",
       "      <td>12.260338</td>\n",
       "      <td>15.753882</td>\n",
       "    </tr>\n",
       "  </tbody>\n",
       "</table>\n",
       "</div>"
      ],
      "text/plain": [
       "          id  vendor_id      pickup_datetime     dropoff_datetime  \\\n",
       "0  id2875421        2.0  2016-03-14 17:24:55  2016-03-14 17:32:30   \n",
       "1  id2377394        1.0  2016-06-12 00:43:35  2016-06-12 00:54:38   \n",
       "2  id3858529        2.0  2016-01-19 11:35:24  2016-01-19 12:10:48   \n",
       "\n",
       "   passenger_count  pickup_longitude  pickup_latitude  dropoff_longitude  \\\n",
       "0              1.0        -73.982155        40.767937         -73.964630   \n",
       "1              1.0        -73.980415        40.738564         -73.999481   \n",
       "2              1.0        -73.979027        40.763939         -74.005333   \n",
       "\n",
       "   dropoff_latitude store_and_fwd_flag  trip_duration  distance time_n  p_lon  \\\n",
       "0         40.765602                  N          455.0  1.498521   Duty -73.98   \n",
       "1         40.731152                  N          663.0  1.805507  Night -73.98   \n",
       "2         40.710087                  N         2124.0  6.385098   Duty -73.98   \n",
       "\n",
       "   p_lat  d_lon  d_lat      speed  ave_speed_x  ave_speed_y  \n",
       "0  40.77 -73.96  40.77  11.856428    12.946163    13.731112  \n",
       "1  40.74 -74.00  40.73   9.803659    13.838090    12.750622  \n",
       "2  40.76 -74.01  40.71  10.822201    12.260338    15.753882  "
      ]
     },
     "execution_count": 139,
     "metadata": {},
     "output_type": "execute_result"
    }
   ],
   "source": [
    "taxi_new.head(3)"
   ]
  },
  {
   "cell_type": "code",
   "execution_count": 142,
   "metadata": {},
   "outputs": [],
   "source": [
    "\n",
    "taxi_test[\"p_lon\"] = np.round(taxi_test['pickup_longitude'], 2)\n",
    "taxi_test[\"p_lat\"] = np.round(taxi_test['pickup_latitude'], 2)\n",
    "taxi_test[\"d_lon\"] = np.round(taxi_test['dropoff_longitude'], 2)\n",
    "taxi_test[\"d_lat\"] = np.round(taxi_test['dropoff_latitude'], 2)"
   ]
  },
  {
   "cell_type": "code",
   "execution_count": 143,
   "metadata": {},
   "outputs": [],
   "source": [
    "taxi_test = pd.merge(taxi_test, taxi_new_p, on = ['p_lon', 'p_lat'], how = 'left')"
   ]
  },
  {
   "cell_type": "code",
   "execution_count": 148,
   "metadata": {},
   "outputs": [],
   "source": [
    "taxi_test = pd.merge(taxi_test, taxi_new_d, on = ['d_lon', 'd_lat'], how = 'left')"
   ]
  },
  {
   "cell_type": "code",
   "execution_count": 149,
   "metadata": {},
   "outputs": [
    {
     "data": {
      "text/html": [
       "<div>\n",
       "<style scoped>\n",
       "    .dataframe tbody tr th:only-of-type {\n",
       "        vertical-align: middle;\n",
       "    }\n",
       "\n",
       "    .dataframe tbody tr th {\n",
       "        vertical-align: top;\n",
       "    }\n",
       "\n",
       "    .dataframe thead th {\n",
       "        text-align: right;\n",
       "    }\n",
       "</style>\n",
       "<table border=\"1\" class=\"dataframe\">\n",
       "  <thead>\n",
       "    <tr style=\"text-align: right;\">\n",
       "      <th></th>\n",
       "      <th>id</th>\n",
       "      <th>vendor_id</th>\n",
       "      <th>pickup_datetime</th>\n",
       "      <th>passenger_count</th>\n",
       "      <th>pickup_longitude</th>\n",
       "      <th>pickup_latitude</th>\n",
       "      <th>dropoff_longitude</th>\n",
       "      <th>dropoff_latitude</th>\n",
       "      <th>store_and_fwd_flag</th>\n",
       "      <th>distance</th>\n",
       "      <th>time_n</th>\n",
       "      <th>p_lon</th>\n",
       "      <th>p_lat</th>\n",
       "      <th>d_lon</th>\n",
       "      <th>d_lat</th>\n",
       "      <th>ave_speed_x</th>\n",
       "      <th>ave_speed_y</th>\n",
       "    </tr>\n",
       "  </thead>\n",
       "  <tbody>\n",
       "    <tr>\n",
       "      <th>0</th>\n",
       "      <td>id3004672</td>\n",
       "      <td>1</td>\n",
       "      <td>2016-06-30 23:59:58</td>\n",
       "      <td>1</td>\n",
       "      <td>-73.988129</td>\n",
       "      <td>40.732029</td>\n",
       "      <td>-73.990173</td>\n",
       "      <td>40.756680</td>\n",
       "      <td>N</td>\n",
       "      <td>2.746426</td>\n",
       "      <td>Night</td>\n",
       "      <td>-73.99</td>\n",
       "      <td>40.73</td>\n",
       "      <td>-73.99</td>\n",
       "      <td>40.76</td>\n",
       "      <td>13.382748</td>\n",
       "      <td>11.899024</td>\n",
       "    </tr>\n",
       "    <tr>\n",
       "      <th>1</th>\n",
       "      <td>id3505355</td>\n",
       "      <td>1</td>\n",
       "      <td>2016-06-30 23:59:53</td>\n",
       "      <td>1</td>\n",
       "      <td>-73.964203</td>\n",
       "      <td>40.679993</td>\n",
       "      <td>-73.959808</td>\n",
       "      <td>40.655403</td>\n",
       "      <td>N</td>\n",
       "      <td>2.759239</td>\n",
       "      <td>Night</td>\n",
       "      <td>-73.96</td>\n",
       "      <td>40.68</td>\n",
       "      <td>-73.96</td>\n",
       "      <td>40.66</td>\n",
       "      <td>16.003539</td>\n",
       "      <td>19.886573</td>\n",
       "    </tr>\n",
       "    <tr>\n",
       "      <th>2</th>\n",
       "      <td>id1217141</td>\n",
       "      <td>1</td>\n",
       "      <td>2016-06-30 23:59:47</td>\n",
       "      <td>1</td>\n",
       "      <td>-73.997437</td>\n",
       "      <td>40.737583</td>\n",
       "      <td>-73.986160</td>\n",
       "      <td>40.729523</td>\n",
       "      <td>N</td>\n",
       "      <td>1.306155</td>\n",
       "      <td>Night</td>\n",
       "      <td>-74.00</td>\n",
       "      <td>40.74</td>\n",
       "      <td>-73.99</td>\n",
       "      <td>40.73</td>\n",
       "      <td>13.431413</td>\n",
       "      <td>12.883836</td>\n",
       "    </tr>\n",
       "    <tr>\n",
       "      <th>3</th>\n",
       "      <td>id2150126</td>\n",
       "      <td>2</td>\n",
       "      <td>2016-06-30 23:59:41</td>\n",
       "      <td>1</td>\n",
       "      <td>-73.956070</td>\n",
       "      <td>40.771900</td>\n",
       "      <td>-73.986427</td>\n",
       "      <td>40.730469</td>\n",
       "      <td>N</td>\n",
       "      <td>5.269088</td>\n",
       "      <td>Night</td>\n",
       "      <td>-73.96</td>\n",
       "      <td>40.77</td>\n",
       "      <td>-73.99</td>\n",
       "      <td>40.73</td>\n",
       "      <td>13.867467</td>\n",
       "      <td>12.883836</td>\n",
       "    </tr>\n",
       "    <tr>\n",
       "      <th>4</th>\n",
       "      <td>id1598245</td>\n",
       "      <td>1</td>\n",
       "      <td>2016-06-30 23:59:33</td>\n",
       "      <td>1</td>\n",
       "      <td>-73.970215</td>\n",
       "      <td>40.761475</td>\n",
       "      <td>-73.961510</td>\n",
       "      <td>40.755890</td>\n",
       "      <td>N</td>\n",
       "      <td>0.960842</td>\n",
       "      <td>Night</td>\n",
       "      <td>-73.97</td>\n",
       "      <td>40.76</td>\n",
       "      <td>-73.96</td>\n",
       "      <td>40.76</td>\n",
       "      <td>13.588606</td>\n",
       "      <td>13.193883</td>\n",
       "    </tr>\n",
       "  </tbody>\n",
       "</table>\n",
       "</div>"
      ],
      "text/plain": [
       "          id  vendor_id      pickup_datetime  passenger_count  \\\n",
       "0  id3004672          1  2016-06-30 23:59:58                1   \n",
       "1  id3505355          1  2016-06-30 23:59:53                1   \n",
       "2  id1217141          1  2016-06-30 23:59:47                1   \n",
       "3  id2150126          2  2016-06-30 23:59:41                1   \n",
       "4  id1598245          1  2016-06-30 23:59:33                1   \n",
       "\n",
       "   pickup_longitude  pickup_latitude  dropoff_longitude  dropoff_latitude  \\\n",
       "0        -73.988129        40.732029         -73.990173         40.756680   \n",
       "1        -73.964203        40.679993         -73.959808         40.655403   \n",
       "2        -73.997437        40.737583         -73.986160         40.729523   \n",
       "3        -73.956070        40.771900         -73.986427         40.730469   \n",
       "4        -73.970215        40.761475         -73.961510         40.755890   \n",
       "\n",
       "  store_and_fwd_flag  distance time_n  p_lon  p_lat  d_lon  d_lat  \\\n",
       "0                  N  2.746426  Night -73.99  40.73 -73.99  40.76   \n",
       "1                  N  2.759239  Night -73.96  40.68 -73.96  40.66   \n",
       "2                  N  1.306155  Night -74.00  40.74 -73.99  40.73   \n",
       "3                  N  5.269088  Night -73.96  40.77 -73.99  40.73   \n",
       "4                  N  0.960842  Night -73.97  40.76 -73.96  40.76   \n",
       "\n",
       "   ave_speed_x  ave_speed_y  \n",
       "0    13.382748    11.899024  \n",
       "1    16.003539    19.886573  \n",
       "2    13.431413    12.883836  \n",
       "3    13.867467    12.883836  \n",
       "4    13.588606    13.193883  "
      ]
     },
     "execution_count": 149,
     "metadata": {},
     "output_type": "execute_result"
    }
   ],
   "source": [
    "taxi_test.head()"
   ]
  },
  {
   "cell_type": "code",
   "execution_count": null,
   "metadata": {},
   "outputs": [],
   "source": []
  }
 ],
 "metadata": {
  "kernelspec": {
   "display_name": "Python 3",
   "language": "python",
   "name": "python3"
  },
  "language_info": {
   "codemirror_mode": {
    "name": "ipython",
    "version": 3
   },
   "file_extension": ".py",
   "mimetype": "text/x-python",
   "name": "python",
   "nbconvert_exporter": "python",
   "pygments_lexer": "ipython3",
   "version": "3.6.3"
  }
 },
 "nbformat": 4,
 "nbformat_minor": 2
}
